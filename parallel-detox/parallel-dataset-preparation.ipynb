{
 "cells": [
  {
   "cell_type": "code",
   "execution_count": 1,
   "metadata": {},
   "outputs": [
    {
     "name": "stderr",
     "output_type": "stream",
     "text": [
      "/home/jovyan/.local/lib/python3.7/site-packages/pandas/compat/_optional.py:138: UserWarning: Pandas requires version '2.7.0' or newer of 'numexpr' (version '2.6.8' currently installed).\n",
      "  warnings.warn(msg, UserWarning)\n"
     ]
    }
   ],
   "source": [
    "import pandas as pd\n",
    "import numpy as np"
   ]
  },
  {
   "cell_type": "markdown",
   "metadata": {},
   "source": [
    "#### Load and Filter Paraphrase Data"
   ]
  },
  {
   "cell_type": "code",
   "execution_count": 2,
   "metadata": {},
   "outputs": [],
   "source": [
    "train_pair = pd.read_csv('../data/paraphrase/output/train_gen_pair_sampled_eval.txt', sep='\\t')\n",
    "train20k_pair = pd.read_csv('../data/paraphrase/output/train_gen_pair_20k_eval.txt', sep='\\t')\n",
    "dev_pair = pd.read_csv('../data/paraphrase/output/val_gen_pair_eval.txt', sep='\\t')\n",
    "test_pair = pd.read_csv('../data/paraphrase/output/test_gen_pair_eval.txt', sep='\\t')"
   ]
  },
  {
   "cell_type": "code",
   "execution_count": 4,
   "metadata": {},
   "outputs": [],
   "source": [
    "train_pair_fil = train_pair[(~train_pair.gen.isna()) & \\\n",
    "                            (train_pair['preds'] == 0) & \\\n",
    "                            (train_pair.sem_similarity > 0.25)]\n",
    "train20k_pair_fil = train20k_pair[(~train20k_pair.gen.isna()) & \\\n",
    "                                  (train20k_pair['preds'] == 0) & \\\n",
    "                                  (train20k_pair.sem_similarity > 0.25)]\n",
    "dev_pair_fil = dev_pair[(~dev_pair.gen.isna()) & (dev_pair['preds'] == 0)]\n",
    "test_pair_fil = test_pair[(~test_pair.gen.isna()) & (test_pair['preds'] == 0)]"
   ]
  },
  {
   "cell_type": "code",
   "execution_count": 5,
   "metadata": {},
   "outputs": [
    {
     "name": "stderr",
     "output_type": "stream",
     "text": [
      "/home/jovyan/.local/lib/python3.7/site-packages/pandas/core/frame.py:5047: SettingWithCopyWarning: \n",
      "A value is trying to be set on a copy of a slice from a DataFrame\n",
      "\n",
      "See the caveats in the documentation: https://pandas.pydata.org/pandas-docs/stable/user_guide/indexing.html#returning-a-view-versus-a-copy\n",
      "  errors=errors,\n"
     ]
    }
   ],
   "source": [
    "train_pair_fil.rename(columns={'ori': 'source'}, inplace=True)\n",
    "train20k_pair_fil.rename(columns={'ori': 'source'}, inplace=True)\n",
    "dev_pair_fil.rename(columns={'ori': 'source'}, inplace=True)\n",
    "test_pair_fil.rename(columns={'ori': 'source'}, inplace=True)"
   ]
  },
  {
   "cell_type": "code",
   "execution_count": 6,
   "metadata": {},
   "outputs": [],
   "source": [
    "train_pair_fil = train_pair_fil[['source', 'gen']]\n",
    "train20k_pair_fil = train20k_pair_fil[['source', 'gen']]\n",
    "dev_pair_fil = dev_pair_fil[['source', 'gen']]\n",
    "test_pair_fil = test_pair_fil[['source', 'gen']]"
   ]
  },
  {
   "cell_type": "code",
   "execution_count": 7,
   "metadata": {},
   "outputs": [],
   "source": [
    "# train_pair_fil['gen'] = train_pair_fil.gen.apply(lambda x: [x])\n",
    "# train20k_pair_fil['gen'] = train20k_pair_fil.gen.apply(lambda x: [x])\n",
    "dev_pair_fil['gen'] = dev_pair_fil.gen.apply(lambda x: [x])\n",
    "test_pair_fil['gen'] = test_pair_fil.gen.apply(lambda x: [x])"
   ]
  },
  {
   "cell_type": "markdown",
   "metadata": {},
   "source": [
    "#### Load Backtranslation Data"
   ]
  },
  {
   "cell_type": "code",
   "execution_count": 10,
   "metadata": {},
   "outputs": [],
   "source": [
    "def make_reference(row):\n",
    "    refs = [row['backtranslate']]\n",
    "    if not pd.isnull(row['backtranslate_ru']):\n",
    "        refs.append(row['backtranslate_ru'])\n",
    "    if not pd.isnull(row['backtranslate_es']):\n",
    "        refs.append(row['backtranslate_es'])\n",
    "        \n",
    "    return str(refs)"
   ]
  },
  {
   "cell_type": "code",
   "execution_count": 11,
   "metadata": {},
   "outputs": [
    {
     "name": "stdout",
     "output_type": "stream",
     "text": [
      "esen_train_sel.txt 4625\n",
      "ruen_train_sel.txt 7954\n",
      "fren_train_sel.txt 9360\n"
     ]
    }
   ],
   "source": [
    "# load train data\n",
    "import os\n",
    "\n",
    "train_bt = None\n",
    "for path in os.listdir('../data/backtranslation/'):\n",
    "    if 'train_sel' in path:\n",
    "        if train_bt is None:\n",
    "            train_bt = pd.read_csv(f'../data/backtranslation/{path}', sep='\\t', index_col=0)\n",
    "        else:\n",
    "            train_bt = pd.concat([train_bt,\n",
    "                                 pd.read_csv(f'../data/backtranslation/{path}', sep='\\t', index_col=0)])\n",
    "        \n",
    "        print(path, len(pd.read_csv(f'../data/backtranslation/{path}', sep='\\t', index_col=0)))\n",
    "\n",
    "train_bt.rename(columns={'backtranslate': 'gen'}, inplace=True)\n",
    "train_bt = train_bt[['source', 'gen']]"
   ]
  },
  {
   "cell_type": "code",
   "execution_count": 44,
   "metadata": {},
   "outputs": [
    {
     "data": {
      "text/plain": [
       "(21939, 21939)"
      ]
     },
     "execution_count": 44,
     "metadata": {},
     "output_type": "execute_result"
    }
   ],
   "source": [
    "len(train_bt), 4625 + 7954 + 9360"
   ]
  },
  {
   "cell_type": "code",
   "execution_count": 31,
   "metadata": {},
   "outputs": [],
   "source": [
    "# working with validation data\n",
    "dev_fr = pd.read_csv('../data/backtranslation/fren_dev_sel.txt', sep='\\t', index_col=0)[['source', 'backtranslate']]\n",
    "dev_ru = pd.read_csv('../data/backtranslation/ruen_dev_sel.txt', sep='\\t', index_col=0)[['source', 'backtranslate']]\n",
    "dev_es = pd.read_csv('../data/backtranslation/esen_dev_sel.txt', sep='\\t', index_col=0)[['source', 'backtranslate']]\n",
    "\n",
    "dev_frru = dev_fr.join(dev_ru, how='left', rsuffix='_ru')\n",
    "dev_frrues = dev_frru.join(dev_es, how='left', rsuffix='_es')\n",
    "\n",
    "dev_frrues['backtranslate'] = dev_frrues.apply(make_reference, axis=1)\n",
    "dev_frrues = dev_frrues[['source', 'backtranslate']]"
   ]
  },
  {
   "cell_type": "code",
   "execution_count": 45,
   "metadata": {},
   "outputs": [
    {
     "data": {
      "text/plain": [
       "(509, 484, 295)"
      ]
     },
     "execution_count": 45,
     "metadata": {},
     "output_type": "execute_result"
    }
   ],
   "source": [
    "len(dev_fr), len(dev_ru), len(dev_es)"
   ]
  },
  {
   "cell_type": "code",
   "execution_count": 32,
   "metadata": {},
   "outputs": [],
   "source": [
    "dev_ru_left = dev_ru.loc[[i for i in dev_ru.index if i not in dev_fr.index]]\n",
    "dev_es_left = dev_es.loc[[i for i in dev_es.index if i not in dev_fr.index]]\n",
    "\n",
    "dev_ru_left['backtranslate'] = dev_ru_left['backtranslate'].apply(lambda x: [x])\n",
    "dev_es_left['backtranslate'] = dev_es_left['backtranslate'].apply(lambda x: [x])\n",
    "\n",
    "dev_bt = pd.concat([dev_frrues, dev_ru_left, dev_es_left])\n",
    "dev_bt.rename(columns={'backtranslate': 'gen'}, inplace=True)"
   ]
  },
  {
   "cell_type": "code",
   "execution_count": 33,
   "metadata": {},
   "outputs": [],
   "source": [
    "# working with test data\n",
    "test_fr = pd.read_csv('../data/backtranslation/fren_test_sel.txt', sep='\\t', index_col=0)[['source', 'backtranslate']]\n",
    "test_ru = pd.read_csv('../data/backtranslation/ruen_test_sel.txt', sep='\\t', index_col=0)[['source', 'backtranslate']]\n",
    "test_es = pd.read_csv('../data/backtranslation/esen_test_sel.txt', sep='\\t', index_col=0)[['source', 'backtranslate']]\n",
    "\n",
    "test_frru = test_fr.join(test_ru, how='left', rsuffix='_ru')\n",
    "test_frrues = test_frru.join(test_es, how='left', rsuffix='_es')\n",
    "\n",
    "test_frrues['backtranslate'] = test_frrues.apply(make_reference, axis=1)\n",
    "test_frrues = test_frrues[['source', 'backtranslate']]"
   ]
  },
  {
   "cell_type": "code",
   "execution_count": 46,
   "metadata": {},
   "outputs": [
    {
     "data": {
      "text/plain": [
       "(528, 385, 202)"
      ]
     },
     "execution_count": 46,
     "metadata": {},
     "output_type": "execute_result"
    }
   ],
   "source": [
    "len(test_fr), len(test_ru), len(test_es)"
   ]
  },
  {
   "cell_type": "code",
   "execution_count": 34,
   "metadata": {},
   "outputs": [],
   "source": [
    "test_ru_left = test_ru.loc[[i for i in test_ru.index if i not in test_fr.index]]\n",
    "test_es_left = test_es.loc[[i for i in test_es.index if i not in test_fr.index]]\n",
    "\n",
    "test_ru_left['backtranslate'] = test_ru_left['backtranslate'].apply(lambda x: [x])\n",
    "test_es_left['backtranslate'] = test_es_left['backtranslate'].apply(lambda x: [x])\n",
    "\n",
    "test_bt = pd.concat([test_frrues, test_ru_left, test_es_left])\n",
    "test_bt.rename(columns={'backtranslate': 'gen'}, inplace=True)"
   ]
  },
  {
   "cell_type": "markdown",
   "metadata": {},
   "source": [
    "#### Concat Dataset"
   ]
  },
  {
   "cell_type": "code",
   "execution_count": 35,
   "metadata": {},
   "outputs": [],
   "source": [
    "train_all = pd.concat([train_pair_fil, train_bt])\n",
    "train20k_all = pd.concat([train20k_pair_fil, train_bt])\n",
    "dev_all = pd.concat([dev_pair_fil, dev_bt])\n",
    "test_all = pd.concat([test_pair_fil, test_bt])"
   ]
  },
  {
   "cell_type": "markdown",
   "metadata": {},
   "source": [
    "#### Export Dataset"
   ]
  },
  {
   "cell_type": "code",
   "execution_count": 36,
   "metadata": {},
   "outputs": [],
   "source": [
    "train_all.to_csv('../data/parallel/train_pair_all.txt', sep='\\t', index=False, header=True)\n",
    "train20k_all.to_csv('../data/parallel/train20k_pair_all.txt', sep='\\t', index=False, header=True)\n",
    "dev_all.to_csv('../data/parallel/valid_pair_all.txt', sep='\\t', index=False, header=True)\n",
    "test_all.to_csv('../data/parallel/test_pair_all.txt', sep='\\t', index=False, header=True)"
   ]
  },
  {
   "cell_type": "code",
   "execution_count": 13,
   "metadata": {},
   "outputs": [],
   "source": [
    "# train_pair_fil.to_csv('../data/parallel/train_gpt_pair.txt', sep='\\t', index=False, header=True)\n",
    "train20k_pair_fil.to_csv('../data/parallel/train20k_gpt_pair.txt', sep='\\t', index=False, header=True)\n",
    "dev_pair_fil.to_csv('../data/parallel/valid_gpt_pair.txt', sep='\\t', index=False, header=True)\n",
    "test_pair_fil.to_csv('../data/parallel/test_gpt_pair.txt', sep='\\t', index=False, header=True)"
   ]
  },
  {
   "cell_type": "code",
   "execution_count": 38,
   "metadata": {},
   "outputs": [],
   "source": [
    "train_bt.to_csv('../data/parallel/train_bt_pair.txt', sep='\\t', index=False, header=True)\n",
    "dev_bt.to_csv('../data/parallel/valid_bt_pair.txt', sep='\\t', index=False, header=True)\n",
    "test_bt.to_csv('../data/parallel/test_bt_pair.txt', sep='\\t', index=False, header=True)"
   ]
  }
 ],
 "metadata": {
  "kernelspec": {
   "display_name": "Python 3",
   "language": "python",
   "name": "python3"
  },
  "language_info": {
   "codemirror_mode": {
    "name": "ipython",
    "version": 3
   },
   "file_extension": ".py",
   "mimetype": "text/x-python",
   "name": "python",
   "nbconvert_exporter": "python",
   "pygments_lexer": "ipython3",
   "version": "3.7.9"
  }
 },
 "nbformat": 4,
 "nbformat_minor": 4
}
