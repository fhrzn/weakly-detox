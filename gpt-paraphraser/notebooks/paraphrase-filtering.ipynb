{
 "cells": [
  {
   "cell_type": "code",
   "execution_count": 1,
   "metadata": {},
   "outputs": [
    {
     "name": "stderr",
     "output_type": "stream",
     "text": [
      "/home/jovyan/.local/lib/python3.7/site-packages/pandas/compat/_optional.py:138: UserWarning: Pandas requires version '2.7.0' or newer of 'numexpr' (version '2.6.8' currently installed).\n",
      "  warnings.warn(msg, UserWarning)\n"
     ]
    }
   ],
   "source": [
    "import pandas as pd\n",
    "import numpy as np"
   ]
  },
  {
   "cell_type": "markdown",
   "metadata": {},
   "source": [
    "#### Load and Filter Paraphrase Data"
   ]
  },
  {
   "cell_type": "code",
   "execution_count": 4,
   "metadata": {},
   "outputs": [],
   "source": [
    "train_pair = pd.read_csv('../data/output/train_gen_pair_sampled_eval.txt', sep='\\t')\n",
    "train20k_pair = pd.read_csv('../data/output/train_gen_pair_20k_eval.txt', sep='\\t')\n",
    "trainfull_pair = pd.read_csv('../data/output/train_gen_pair_full_2_eval.txt', sep='\\t')\n",
    "dev_pair = pd.read_csv('../data/output/val_gen_pair_eval.txt', sep='\\t')\n",
    "test_pair = pd.read_csv('../data/output/test_gen_pair_eval.txt', sep='\\t')"
   ]
  },
  {
   "cell_type": "code",
   "execution_count": 5,
   "metadata": {},
   "outputs": [],
   "source": [
    "train_pair_fil = train_pair[(~train_pair.gen.isna()) & \\\n",
    "                            (train_pair['preds'] == 0) & \\\n",
    "                            (train_pair.sem_similarity > 0.25)]\n",
    "train20k_pair_fil = train20k_pair[(~train20k_pair.gen.isna()) & \\\n",
    "                                  (train20k_pair['preds'] == 0) & \\\n",
    "                                  (train20k_pair.sem_similarity > 0.25)]\n",
    "trainfull_pair_fil = trainfull_pair[(~trainfull_pair.gen.isna()) & \\\n",
    "                                    (trainfull_pair['preds'] == 0) & \\\n",
    "                                    (trainfull_pair.sem_similarity > 0.25)]\n",
    "dev_pair_fil = dev_pair[(~dev_pair.gen.isna()) & (dev_pair['preds'] == 0)]\n",
    "test_pair_fil = test_pair[(~test_pair.gen.isna()) & (test_pair['preds'] == 0)]"
   ]
  },
  {
   "cell_type": "code",
   "execution_count": 6,
   "metadata": {},
   "outputs": [
    {
     "data": {
      "text/plain": [
       "(4690, 8209, 11631)"
      ]
     },
     "execution_count": 6,
     "metadata": {},
     "output_type": "execute_result"
    }
   ],
   "source": [
    "len(train_pair_fil), len(train20k_pair_fil), len(trainfull_pair_fil)"
   ]
  },
  {
   "cell_type": "code",
   "execution_count": 7,
   "metadata": {},
   "outputs": [
    {
     "name": "stderr",
     "output_type": "stream",
     "text": [
      "/home/jovyan/.local/lib/python3.7/site-packages/pandas/core/frame.py:5047: SettingWithCopyWarning: \n",
      "A value is trying to be set on a copy of a slice from a DataFrame\n",
      "\n",
      "See the caveats in the documentation: https://pandas.pydata.org/pandas-docs/stable/user_guide/indexing.html#returning-a-view-versus-a-copy\n",
      "  errors=errors,\n"
     ]
    }
   ],
   "source": [
    "train_pair_fil.rename(columns={'ori': 'source'}, inplace=True)\n",
    "train20k_pair_fil.rename(columns={'ori': 'source'}, inplace=True)\n",
    "trainfull_pair_fil.rename(columns={'ori': 'source'}, inplace=True)\n",
    "dev_pair_fil.rename(columns={'ori': 'source'}, inplace=True)\n",
    "test_pair_fil.rename(columns={'ori': 'source'}, inplace=True)"
   ]
  },
  {
   "cell_type": "code",
   "execution_count": 8,
   "metadata": {},
   "outputs": [],
   "source": [
    "train_pair_fil = train_pair_fil[['source', 'gen']]\n",
    "train20k_pair_fil = train20k_pair_fil[['source', 'gen']]\n",
    "trainfull_pair_fil = trainfull_pair_fil[['source', 'gen']]\n",
    "dev_pair_fil = dev_pair_fil[['source', 'gen']]\n",
    "test_pair_fil = test_pair_fil[['source', 'gen']]"
   ]
  },
  {
   "cell_type": "code",
   "execution_count": 9,
   "metadata": {},
   "outputs": [
    {
     "name": "stderr",
     "output_type": "stream",
     "text": [
      "/opt/conda/lib/python3.7/site-packages/ipykernel_launcher.py:3: SettingWithCopyWarning: \n",
      "A value is trying to be set on a copy of a slice from a DataFrame.\n",
      "Try using .loc[row_indexer,col_indexer] = value instead\n",
      "\n",
      "See the caveats in the documentation: https://pandas.pydata.org/pandas-docs/stable/user_guide/indexing.html#returning-a-view-versus-a-copy\n",
      "  This is separate from the ipykernel package so we can avoid doing imports until\n",
      "/opt/conda/lib/python3.7/site-packages/ipykernel_launcher.py:4: SettingWithCopyWarning: \n",
      "A value is trying to be set on a copy of a slice from a DataFrame.\n",
      "Try using .loc[row_indexer,col_indexer] = value instead\n",
      "\n",
      "See the caveats in the documentation: https://pandas.pydata.org/pandas-docs/stable/user_guide/indexing.html#returning-a-view-versus-a-copy\n",
      "  after removing the cwd from sys.path.\n"
     ]
    }
   ],
   "source": [
    "# train_pair_fil['gen'] = train_pair_fil.gen.apply(lambda x: [x])\n",
    "# train20k_pair_fil['gen'] = train20k_pair_fil.gen.apply(lambda x: [x])\n",
    "dev_pair_fil['gen'] = dev_pair_fil.gen.apply(lambda x: [x])\n",
    "test_pair_fil['gen'] = test_pair_fil.gen.apply(lambda x: [x])"
   ]
  },
  {
   "cell_type": "markdown",
   "metadata": {},
   "source": [
    "#### Load Backtranslation Data"
   ]
  },
  {
   "cell_type": "code",
   "execution_count": 32,
   "metadata": {},
   "outputs": [],
   "source": [
    "def make_reference(row):\n",
    "    refs = [row['gen']]\n",
    "    if not pd.isnull(row['gen_ru']):\n",
    "        refs.append(row['gen_ru'])\n",
    "    if not pd.isnull(row['gen_es']):\n",
    "        refs.append(row['gen_es'])\n",
    "        \n",
    "    return str(refs)"
   ]
  },
  {
   "cell_type": "code",
   "execution_count": 35,
   "metadata": {},
   "outputs": [
    {
     "name": "stdout",
     "output_type": "stream",
     "text": [
      "esen_train_sel.txt 9489\n",
      "ruen_train_sel.txt 13854\n",
      "fren_train_sel.txt 14181\n"
     ]
    }
   ],
   "source": [
    "# load train data\n",
    "import os\n",
    "\n",
    "train_bt = None\n",
    "for path in os.listdir('../../backtranslate/data/'):\n",
    "    if 'train_sel' in path:\n",
    "        if train_bt is None:\n",
    "            train_bt = pd.read_csv(f'../../backtranslate/data/{path}', sep='\\t', index_col=0)\n",
    "        else:\n",
    "            train_bt = pd.concat([train_bt,\n",
    "                                 pd.read_csv(f'../../backtranslate/data/{path}', sep='\\t', index_col=0)])\n",
    "        \n",
    "        print(path, len(pd.read_csv(f'../../backtranslate/data/{path}', sep='\\t', index_col=0)))\n",
    "\n",
    "# train_bt.rename(columns={'backtranslate': 'gen'}, inplace=True)\n",
    "train_bt = train_bt[['source', 'gen']]"
   ]
  },
  {
   "cell_type": "code",
   "execution_count": 36,
   "metadata": {},
   "outputs": [
    {
     "data": {
      "text/html": [
       "<div>\n",
       "<style scoped>\n",
       "    .dataframe tbody tr th:only-of-type {\n",
       "        vertical-align: middle;\n",
       "    }\n",
       "\n",
       "    .dataframe tbody tr th {\n",
       "        vertical-align: top;\n",
       "    }\n",
       "\n",
       "    .dataframe thead th {\n",
       "        text-align: right;\n",
       "    }\n",
       "</style>\n",
       "<table border=\"1\" class=\"dataframe\">\n",
       "  <thead>\n",
       "    <tr style=\"text-align: right;\">\n",
       "      <th></th>\n",
       "      <th>source</th>\n",
       "      <th>gen</th>\n",
       "    </tr>\n",
       "  </thead>\n",
       "  <tbody>\n",
       "    <tr>\n",
       "      <th>1</th>\n",
       "      <td>just another vicious and trashy antitrump , pr...</td>\n",
       "      <td>Just another vicious and shameless anti-tromp,...</td>\n",
       "    </tr>\n",
       "    <tr>\n",
       "      <th>39</th>\n",
       "      <td>if we were not dumb lambs , why is it that the...</td>\n",
       "      <td>If we were not mute lambs, why is there an epi...</td>\n",
       "    </tr>\n",
       "    <tr>\n",
       "      <th>81</th>\n",
       "      <td>all this war talk goin on like why are we fuck...</td>\n",
       "      <td>All this war talk, why are we getting out of h...</td>\n",
       "    </tr>\n",
       "    <tr>\n",
       "      <th>94</th>\n",
       "      <td>but with a man , off with his head !</td>\n",
       "      <td>But with a man, out with his head!</td>\n",
       "    </tr>\n",
       "    <tr>\n",
       "      <th>97</th>\n",
       "      <td>im willing to bet he flew the koop like many b...</td>\n",
       "      <td>I'm willing to bet he flew like a lot of black...</td>\n",
       "    </tr>\n",
       "    <tr>\n",
       "      <th>...</th>\n",
       "      <td>...</td>\n",
       "      <td>...</td>\n",
       "    </tr>\n",
       "    <tr>\n",
       "      <th>135353</th>\n",
       "      <td>butt butt butt butt butt butt butt butt butt b...</td>\n",
       "      <td>Butt Butt Butt Butt Butt Butt Butt Butt Butt B...</td>\n",
       "    </tr>\n",
       "    <tr>\n",
       "      <th>135364</th>\n",
       "      <td>but id vote for someone i dont trust , before ...</td>\n",
       "      <td>But id vote for someone I don't trust, before ...</td>\n",
       "    </tr>\n",
       "    <tr>\n",
       "      <th>135370</th>\n",
       "      <td>mental midgets think that the chain saw is the...</td>\n",
       "      <td>Dwarfs believe that chain saws are the only re...</td>\n",
       "    </tr>\n",
       "    <tr>\n",
       "      <th>135374</th>\n",
       "      <td>im no supporter of drumpf either , but i love ...</td>\n",
       "      <td>I don't like the drummer's support either, but...</td>\n",
       "    </tr>\n",
       "    <tr>\n",
       "      <th>135377</th>\n",
       "      <td>it helps me know what cretins religious folks ...</td>\n",
       "      <td>It helps me to know what the religious of Cret...</td>\n",
       "    </tr>\n",
       "  </tbody>\n",
       "</table>\n",
       "<p>37524 rows × 2 columns</p>\n",
       "</div>"
      ],
      "text/plain": [
       "                                                   source  \\\n",
       "1       just another vicious and trashy antitrump , pr...   \n",
       "39      if we were not dumb lambs , why is it that the...   \n",
       "81      all this war talk goin on like why are we fuck...   \n",
       "94                   but with a man , off with his head !   \n",
       "97      im willing to bet he flew the koop like many b...   \n",
       "...                                                   ...   \n",
       "135353  butt butt butt butt butt butt butt butt butt b...   \n",
       "135364  but id vote for someone i dont trust , before ...   \n",
       "135370  mental midgets think that the chain saw is the...   \n",
       "135374  im no supporter of drumpf either , but i love ...   \n",
       "135377  it helps me know what cretins religious folks ...   \n",
       "\n",
       "                                                      gen  \n",
       "1       Just another vicious and shameless anti-tromp,...  \n",
       "39      If we were not mute lambs, why is there an epi...  \n",
       "81      All this war talk, why are we getting out of h...  \n",
       "94                     But with a man, out with his head!  \n",
       "97      I'm willing to bet he flew like a lot of black...  \n",
       "...                                                   ...  \n",
       "135353  Butt Butt Butt Butt Butt Butt Butt Butt Butt B...  \n",
       "135364  But id vote for someone I don't trust, before ...  \n",
       "135370  Dwarfs believe that chain saws are the only re...  \n",
       "135374  I don't like the drummer's support either, but...  \n",
       "135377  It helps me to know what the religious of Cret...  \n",
       "\n",
       "[37524 rows x 2 columns]"
      ]
     },
     "execution_count": 36,
     "metadata": {},
     "output_type": "execute_result"
    }
   ],
   "source": [
    "train_bt"
   ]
  },
  {
   "cell_type": "code",
   "execution_count": 37,
   "metadata": {},
   "outputs": [],
   "source": [
    "# working with validation data\n",
    "dev_fr = pd.read_csv('../../backtranslate/data/fren_valid_sel.txt', sep='\\t', index_col=0)[['source', 'gen']]\n",
    "dev_ru = pd.read_csv('../../backtranslate/data/ruen_valid_sel.txt', sep='\\t', index_col=0)[['source', 'gen']]\n",
    "dev_es = pd.read_csv('../../backtranslate/data/esen_valid_sel.txt', sep='\\t', index_col=0)[['source', 'gen']]\n",
    "\n",
    "dev_frru = dev_fr.join(dev_ru, how='left', rsuffix='_ru')\n",
    "dev_frrues = dev_frru.join(dev_es, how='left', rsuffix='_es')\n",
    "\n",
    "dev_frrues['gen'] = dev_frrues.apply(make_reference, axis=1)\n",
    "dev_frrues = dev_frrues[['source', 'gen']]"
   ]
  },
  {
   "cell_type": "code",
   "execution_count": 38,
   "metadata": {},
   "outputs": [
    {
     "data": {
      "text/plain": [
       "(762, 787, 506)"
      ]
     },
     "execution_count": 38,
     "metadata": {},
     "output_type": "execute_result"
    }
   ],
   "source": [
    "len(dev_fr), len(dev_ru), len(dev_es)"
   ]
  },
  {
   "cell_type": "code",
   "execution_count": 39,
   "metadata": {},
   "outputs": [],
   "source": [
    "dev_ru_left = dev_ru.loc[[i for i in dev_ru.index if i not in dev_fr.index]]\n",
    "dev_es_left = dev_es.loc[[i for i in dev_es.index if i not in dev_fr.index]]\n",
    "\n",
    "dev_ru_left['gen'] = dev_ru_left['gen'].apply(lambda x: [x])\n",
    "dev_es_left['gen'] = dev_es_left['gen'].apply(lambda x: [x])\n",
    "\n",
    "dev_bt = pd.concat([dev_frrues, dev_ru_left, dev_es_left])\n",
    "# dev_bt.rename(columns={'backtranslate': 'gen'}, inplace=True)"
   ]
  },
  {
   "cell_type": "code",
   "execution_count": 41,
   "metadata": {},
   "outputs": [],
   "source": [
    "# working with test data\n",
    "test_fr = pd.read_csv('../../backtranslate/data/fren_test_sel.txt', sep='\\t', index_col=0)[['source', 'gen']]\n",
    "test_ru = pd.read_csv('../../backtranslate/data/ruen_test_sel.txt', sep='\\t', index_col=0)[['source', 'gen']]\n",
    "test_es = pd.read_csv('../../backtranslate/data/esen_test_sel.txt', sep='\\t', index_col=0)[['source', 'gen']]\n",
    "\n",
    "test_frru = test_fr.join(test_ru, how='left', rsuffix='_ru')\n",
    "test_frrues = test_frru.join(test_es, how='left', rsuffix='_es')\n",
    "\n",
    "test_frrues['gen'] = test_frrues.apply(make_reference, axis=1)\n",
    "test_frrues = test_frrues[['source', 'gen']]"
   ]
  },
  {
   "cell_type": "code",
   "execution_count": 42,
   "metadata": {},
   "outputs": [
    {
     "data": {
      "text/plain": [
       "(681, 551, 300)"
      ]
     },
     "execution_count": 42,
     "metadata": {},
     "output_type": "execute_result"
    }
   ],
   "source": [
    "len(test_fr), len(test_ru), len(test_es)"
   ]
  },
  {
   "cell_type": "code",
   "execution_count": 43,
   "metadata": {},
   "outputs": [],
   "source": [
    "test_ru_left = test_ru.loc[[i for i in test_ru.index if i not in test_fr.index]]\n",
    "test_es_left = test_es.loc[[i for i in test_es.index if i not in test_fr.index]]\n",
    "\n",
    "test_ru_left['gen'] = test_ru_left['gen'].apply(lambda x: [x])\n",
    "test_es_left['gen'] = test_es_left['gen'].apply(lambda x: [x])\n",
    "\n",
    "test_bt = pd.concat([test_frrues, test_ru_left, test_es_left])\n",
    "# test_bt.rename(columns={'backtranslate': 'gen'}, inplace=True)"
   ]
  },
  {
   "cell_type": "markdown",
   "metadata": {},
   "source": [
    "#### Concat Dataset"
   ]
  },
  {
   "cell_type": "code",
   "execution_count": 45,
   "metadata": {},
   "outputs": [],
   "source": [
    "train_all = pd.concat([train_pair_fil, train_bt])\n",
    "train20k_all = pd.concat([train20k_pair_fil, train_bt])\n",
    "trainfull_all = pd.concat([trainfull_pair_fil, train_bt])\n",
    "dev_all = pd.concat([dev_pair_fil, dev_bt])\n",
    "test_all = pd.concat([test_pair_fil, test_bt])"
   ]
  },
  {
   "cell_type": "code",
   "execution_count": 53,
   "metadata": {},
   "outputs": [
    {
     "data": {
      "text/plain": [
       "(42214, 45733, 49155)"
      ]
     },
     "execution_count": 53,
     "metadata": {},
     "output_type": "execute_result"
    }
   ],
   "source": [
    "len(train_all), len(train20k_all), len(trainfull_all)"
   ]
  },
  {
   "cell_type": "markdown",
   "metadata": {},
   "source": [
    "#### Export Dataset"
   ]
  },
  {
   "cell_type": "code",
   "execution_count": 55,
   "metadata": {},
   "outputs": [],
   "source": [
    "train_all.to_csv('../../parallel-detox/data/train_pair_all.txt', sep='\\t', index=False, header=True)\n",
    "train20k_all.to_csv('../../parallel-detox/data/train20k_pair_all.txt', sep='\\t', index=False, header=True)\n",
    "trainfull_all.to_csv('../../parallel-detox/data/trainfull_pair_all.txt', sep='\\t', index=False, header=True)\n",
    "dev_all.to_csv('../../parallel-detox/data/valid_pair_all.txt', sep='\\t', index=False, header=True)\n",
    "test_all.to_csv('../../parallel-detox/data/test_pair_all.txt', sep='\\t', index=False, header=True)"
   ]
  },
  {
   "cell_type": "code",
   "execution_count": 56,
   "metadata": {},
   "outputs": [],
   "source": [
    "train_pair_fil.to_csv('../../parallel-detox/data/train_gpt_pair.txt', sep='\\t', index=False, header=True)\n",
    "train20k_pair_fil.to_csv('../../parallel-detox/data/train20k_gpt_pair.txt', sep='\\t', index=False, header=True)\n",
    "trainfull_pair_fil.to_csv('../../parallel-detox/data/trainfull_gpt_pair.txt', sep='\\t', index=False, header=True)\n",
    "dev_pair_fil.to_csv('../../parallel-detox/data/valid_gpt_pair.txt', sep='\\t', index=False, header=True)\n",
    "test_pair_fil.to_csv('../../parallel-detox/data/test_gpt_pair.txt', sep='\\t', index=False, header=True)"
   ]
  },
  {
   "cell_type": "code",
   "execution_count": 38,
   "metadata": {},
   "outputs": [],
   "source": [
    "train_bt.to_csv('../data/parallel/train_bt_pair.txt', sep='\\t', index=False, header=True)\n",
    "dev_bt.to_csv('../data/parallel/valid_bt_pair.txt', sep='\\t', index=False, header=True)\n",
    "test_bt.to_csv('../data/parallel/test_bt_pair.txt', sep='\\t', index=False, header=True)"
   ]
  }
 ],
 "metadata": {
  "kernelspec": {
   "display_name": "Python 3",
   "language": "python",
   "name": "python3"
  },
  "language_info": {
   "codemirror_mode": {
    "name": "ipython",
    "version": 3
   },
   "file_extension": ".py",
   "mimetype": "text/x-python",
   "name": "python",
   "nbconvert_exporter": "python",
   "pygments_lexer": "ipython3",
   "version": "3.7.9"
  }
 },
 "nbformat": 4,
 "nbformat_minor": 4
}
