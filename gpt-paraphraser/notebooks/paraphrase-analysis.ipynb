{
 "cells": [
  {
   "cell_type": "code",
   "execution_count": 1,
   "metadata": {},
   "outputs": [
    {
     "name": "stderr",
     "output_type": "stream",
     "text": [
      "/home/jovyan/.local/lib/python3.7/site-packages/pandas/compat/_optional.py:138: UserWarning: Pandas requires version '2.7.0' or newer of 'numexpr' (version '2.6.8' currently installed).\n",
      "  warnings.warn(msg, UserWarning)\n"
     ]
    }
   ],
   "source": [
    "import pandas as pd\n",
    "from transformers import AutoModelForSequenceClassification, AutoTokenizer\n",
    "import torch\n",
    "import numpy as np\n",
    "from datasets import Dataset, DatasetDict\n",
    "from torch.utils.data import DataLoader\n",
    "\n",
    "from tqdm.auto import tqdm\n",
    "from sklearn.feature_extraction.text import TfidfVectorizer\n",
    "from sklearn.metrics import accuracy_score"
   ]
  },
  {
   "cell_type": "code",
   "execution_count": 4,
   "metadata": {},
   "outputs": [
    {
     "data": {
      "text/html": [
       "<div>\n",
       "<style scoped>\n",
       "    .dataframe tbody tr th:only-of-type {\n",
       "        vertical-align: middle;\n",
       "    }\n",
       "\n",
       "    .dataframe tbody tr th {\n",
       "        vertical-align: top;\n",
       "    }\n",
       "\n",
       "    .dataframe thead th {\n",
       "        text-align: right;\n",
       "    }\n",
       "</style>\n",
       "<table border=\"1\" class=\"dataframe\">\n",
       "  <thead>\n",
       "    <tr style=\"text-align: right;\">\n",
       "      <th></th>\n",
       "      <th>generated</th>\n",
       "      <th>ori</th>\n",
       "      <th>gen</th>\n",
       "      <th>preds</th>\n",
       "      <th>sem_similarity</th>\n",
       "      <th>bleu</th>\n",
       "      <th>fluency</th>\n",
       "    </tr>\n",
       "  </thead>\n",
       "  <tbody>\n",
       "    <tr>\n",
       "      <th>0</th>\n",
       "      <td>paraphrase: toxic:  you are a fucking idiot. &gt;...</td>\n",
       "      <td>you are a fucking idiot.</td>\n",
       "      <td>You fucking idiot.</td>\n",
       "      <td>1</td>\n",
       "      <td>0.800891</td>\n",
       "      <td>0.000000</td>\n",
       "      <td>0</td>\n",
       "    </tr>\n",
       "    <tr>\n",
       "      <th>1</th>\n",
       "      <td>paraphrase: toxic:  as stupid and arrogant as ...</td>\n",
       "      <td>as stupid and arrogant as his boss</td>\n",
       "      <td>Like his boss, it's as stupid and arrogant as...</td>\n",
       "      <td>1</td>\n",
       "      <td>0.882828</td>\n",
       "      <td>0.470371</td>\n",
       "      <td>1</td>\n",
       "    </tr>\n",
       "    <tr>\n",
       "      <th>2</th>\n",
       "      <td>paraphrase: toxic:  a stupid society does stup...</td>\n",
       "      <td>a stupid society does stupid things and votes...</td>\n",
       "      <td>ive been silly in society for a long time, and...</td>\n",
       "      <td>1</td>\n",
       "      <td>0.680312</td>\n",
       "      <td>0.240784</td>\n",
       "      <td>0</td>\n",
       "    </tr>\n",
       "    <tr>\n",
       "      <th>3</th>\n",
       "      <td>paraphrase: toxic:  a president who is an idio...</td>\n",
       "      <td>a president who is an idiot.</td>\n",
       "      <td>President who's an idiot.</td>\n",
       "      <td>1</td>\n",
       "      <td>0.882192</td>\n",
       "      <td>0.000000</td>\n",
       "      <td>1</td>\n",
       "    </tr>\n",
       "    <tr>\n",
       "      <th>4</th>\n",
       "      <td>paraphrase: toxic:  colbert is a stupid moron ...</td>\n",
       "      <td>colbert is a stupid moron and is a terrorist.</td>\n",
       "      <td>Colbert is a stupid idiot and a terrorist.</td>\n",
       "      <td>1</td>\n",
       "      <td>0.964641</td>\n",
       "      <td>0.399388</td>\n",
       "      <td>0</td>\n",
       "    </tr>\n",
       "  </tbody>\n",
       "</table>\n",
       "</div>"
      ],
      "text/plain": [
       "                                           generated  \\\n",
       "0  paraphrase: toxic:  you are a fucking idiot. >...   \n",
       "1  paraphrase: toxic:  as stupid and arrogant as ...   \n",
       "2  paraphrase: toxic:  a stupid society does stup...   \n",
       "3  paraphrase: toxic:  a president who is an idio...   \n",
       "4  paraphrase: toxic:  colbert is a stupid moron ...   \n",
       "\n",
       "                                                 ori  \\\n",
       "0                          you are a fucking idiot.    \n",
       "1                as stupid and arrogant as his boss    \n",
       "2   a stupid society does stupid things and votes...   \n",
       "3                      a president who is an idiot.    \n",
       "4     colbert is a stupid moron and is a terrorist.    \n",
       "\n",
       "                                                 gen  preds  sem_similarity  \\\n",
       "0                                You fucking idiot.       1        0.800891   \n",
       "1   Like his boss, it's as stupid and arrogant as...      1        0.882828   \n",
       "2  ive been silly in society for a long time, and...      1        0.680312   \n",
       "3                         President who's an idiot.       1        0.882192   \n",
       "4        Colbert is a stupid idiot and a terrorist.       1        0.964641   \n",
       "\n",
       "       bleu  fluency  \n",
       "0  0.000000        0  \n",
       "1  0.470371        1  \n",
       "2  0.240784        0  \n",
       "3  0.000000        1  \n",
       "4  0.399388        0  "
      ]
     },
     "execution_count": 4,
     "metadata": {},
     "output_type": "execute_result"
    }
   ],
   "source": [
    "gpt_df = pd.read_csv('../data/output/test_gpt_full_eval.txt', sep='\\t')\n",
    "gpt_df.head()"
   ]
  },
  {
   "cell_type": "markdown",
   "metadata": {},
   "source": [
    "### Analyze"
   ]
  },
  {
   "cell_type": "code",
   "execution_count": 6,
   "metadata": {
    "scrolled": true
   },
   "outputs": [
    {
     "name": "stdout",
     "output_type": "stream",
     "text": [
      "STA: 0.0912\n",
      "SIM: 0.747805916313082\n",
      "BLEU: 0.28687024715322695\n",
      "FL: 0.2051\n"
     ]
    }
   ],
   "source": [
    "sta_gt = np.zeros(len(gpt_df))\n",
    "fl_gt = np.ones(len(gpt_df))\n",
    "\n",
    "gpt_acc = accuracy_score(sta_gt, gpt_df.preds)\n",
    "gpt_sim = gpt_df.sem_similarity.mean()\n",
    "gpt_bleu = gpt_df.bleu.mean()\n",
    "gpt_fl = accuracy_score(fl_gt, gpt_df.fluency)\n",
    "\n",
    "print(f'STA: {gpt_acc}')\n",
    "print(f'SIM: {gpt_sim}')\n",
    "print(f'BLEU: {gpt_bleu}')\n",
    "print(f'FL: {gpt_fl}')"
   ]
  }
 ],
 "metadata": {
  "kernelspec": {
   "display_name": "Python 3",
   "language": "python",
   "name": "python3"
  },
  "language_info": {
   "codemirror_mode": {
    "name": "ipython",
    "version": 3
   },
   "file_extension": ".py",
   "mimetype": "text/x-python",
   "name": "python",
   "nbconvert_exporter": "python",
   "pygments_lexer": "ipython3",
   "version": "3.7.9"
  }
 },
 "nbformat": 4,
 "nbformat_minor": 4
}
