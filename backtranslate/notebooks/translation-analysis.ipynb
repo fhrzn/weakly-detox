{
 "cells": [
  {
   "cell_type": "markdown",
   "metadata": {},
   "source": [
    "### Analyze Evaluated Backtranslation Dataset"
   ]
  },
  {
   "cell_type": "code",
   "execution_count": 30,
   "metadata": {},
   "outputs": [],
   "source": [
    "import pandas as pd\n",
    "import numpy as np\n",
    "from sklearn.metrics import accuracy_score"
   ]
  },
  {
   "cell_type": "code",
   "execution_count": 31,
   "metadata": {},
   "outputs": [],
   "source": [
    "# ruen dataset\n",
    "ruen_train = pd.read_csv('../../data/backtranslation/ruen_train_eval.txt', sep='\\t')\n",
    "ruen_dev = pd.read_csv('../../data/backtranslation/ruen_valid_eval.txt', sep='\\t')\n",
    "ruen_test = pd.read_csv('../../data/backtranslation/ruen_test_eval.txt', sep='\\t')\n",
    "ruen = pd.concat([ruen_train, ruen_dev, ruen_test])"
   ]
  },
  {
   "cell_type": "code",
   "execution_count": 32,
   "metadata": {},
   "outputs": [],
   "source": [
    "# fren dataset\n",
    "fren_train = pd.read_csv('../../data/backtranslation/fren_train_eval.txt', sep='\\t')\n",
    "fren_dev = pd.read_csv('../../data/backtranslation/fren_valid_eval.txt', sep='\\t')\n",
    "fren_test = pd.read_csv('../../data/backtranslation/fren_test_eval.txt', sep='\\t')\n",
    "fren = pd.concat([fren_train, fren_dev, fren_test])"
   ]
  },
  {
   "cell_type": "code",
   "execution_count": 33,
   "metadata": {},
   "outputs": [],
   "source": [
    "# esen dataset\n",
    "esen_train = pd.read_csv('../../data/backtranslation/esen_train_eval.txt', sep='\\t')\n",
    "esen_dev = pd.read_csv('../../data/backtranslation/esen_valid_eval.txt', sep='\\t')\n",
    "esen_test = pd.read_csv('../../data/backtranslation/esen_test_eval.txt', sep='\\t')\n",
    "esen = pd.concat([esen_train, esen_dev, esen_test])"
   ]
  },
  {
   "cell_type": "markdown",
   "metadata": {},
   "source": [
    "#### Calculate Metrics Performances on Test Set"
   ]
  },
  {
   "cell_type": "code",
   "execution_count": 43,
   "metadata": {},
   "outputs": [
    {
     "name": "stdout",
     "output_type": "stream",
     "text": [
      "STA: 0.0566\n",
      "SIM: 0.7984542970358184\n",
      "BLEU: 0.27877145224658756\n",
      "FL: 0.1513\n"
     ]
    }
   ],
   "source": [
    "# RUEN\n",
    "sta_ground_truth = np.zeros(len(ruen_test), dtype=int)\n",
    "fl_ground_truth = np.ones(len(ruen_test), dtype=int)\n",
    "ruen_test_acc = accuracy_score(sta_ground_truth, ruen_test.preds.to_numpy())\n",
    "ruen_test_sim = ruen.sem_similarity.mean()\n",
    "ruen_test_bleu = ruen.bleu.mean()\n",
    "ruen_test_fl = accuracy_score(fl_ground_truth, ruen_test.fluency.to_numpy())\n",
    "\n",
    "ruen_test_acc, ruen_test_sim, ruen_test_bleu, ruen_test_fl\n",
    "print(f'STA: {ruen_test_acc}')\n",
    "print(f'SIM: {ruen_test_sim}')\n",
    "print(f'BLEU: {ruen_test_bleu}')\n",
    "print(f'FL: {ruen_test_fl}')"
   ]
  },
  {
   "cell_type": "code",
   "execution_count": 45,
   "metadata": {},
   "outputs": [
    {
     "name": "stdout",
     "output_type": "stream",
     "text": [
      "STA: 0.0703\n",
      "SIM: 0.8579955021110762\n",
      "BLEU: 0.4266084091800362\n",
      "FL: 0.2294\n"
     ]
    }
   ],
   "source": [
    "# FREN\n",
    "sta_ground_truth = np.zeros(len(fren_test), dtype=int)\n",
    "fl_ground_truth = np.ones(len(fren_test), dtype=int)\n",
    "fren_test_acc = accuracy_score(sta_ground_truth, fren_test.preds.to_numpy())\n",
    "fren_test_sim = fren.sem_similarity.mean()\n",
    "fren_test_bleu = fren.bleu.mean()\n",
    "fren_test_fl = accuracy_score(fl_ground_truth, fren_test.fluency.to_numpy())\n",
    "\n",
    "fren_test_acc, fren_test_sim, fren_test_bleu, fren_test_fl\n",
    "print(f'STA: {fren_test_acc}')\n",
    "print(f'SIM: {fren_test_sim}')\n",
    "print(f'BLEU: {fren_test_bleu}')\n",
    "print(f'FL: {fren_test_fl}')"
   ]
  },
  {
   "cell_type": "code",
   "execution_count": 47,
   "metadata": {},
   "outputs": [
    {
     "name": "stdout",
     "output_type": "stream",
     "text": [
      "STA: 0.0308\n",
      "SIM: 0.8713989429817864\n",
      "BLEU: 0.4598169910763392\n",
      "FL: 0.1933\n"
     ]
    }
   ],
   "source": [
    "# ESEN\n",
    "sta_ground_truth = np.zeros(len(esen_test), dtype=int)\n",
    "fl_ground_truth = np.ones(len(esen_test), dtype=int)\n",
    "esen_test_acc = accuracy_score(sta_ground_truth, esen_test.preds.to_numpy())\n",
    "esen_test_sim = esen.sem_similarity.mean()\n",
    "esen_test_bleu = esen.bleu.mean()\n",
    "esen_test_fl = accuracy_score(fl_ground_truth, esen_test.fluency.to_numpy())\n",
    "\n",
    "esen_test_acc, esen_test_sim, esen_test_bleu, esen_test_fl\n",
    "print(f'STA: {esen_test_acc}')\n",
    "print(f'SIM: {esen_test_sim}')\n",
    "print(f'BLEU: {esen_test_bleu}')\n",
    "print(f'FL: {esen_test_fl}')"
   ]
  },
  {
   "cell_type": "markdown",
   "metadata": {},
   "source": [
    "##### Aggregate Backtranslation Metrics"
   ]
  },
  {
   "cell_type": "code",
   "execution_count": 50,
   "metadata": {},
   "outputs": [
    {
     "name": "stdout",
     "output_type": "stream",
     "text": [
      "STA: 0.05256666666666667\n",
      "SIM: 0.8426162473762271\n",
      "BLEU: 0.388398950834321\n",
      "FL: 0.19133333333333333\n"
     ]
    }
   ],
   "source": [
    "bt_sta = np.mean([ruen_test_acc,\n",
    "                  fren_test_acc,\n",
    "                  esen_test_acc])\n",
    "bt_sim = np.mean([ruen_test_sim,\n",
    "                  fren_test_sim,\n",
    "                  esen_test_sim])\n",
    "bt_bleu = np.mean([ruen_test_bleu,\n",
    "                   fren_test_bleu,\n",
    "                   esen_test_bleu])\n",
    "bt_fl = np.mean([ruen_test_fl,\n",
    "                 fren_test_fl,\n",
    "                 esen_test_fl])\n",
    "\n",
    "print(f'STA: {bt_sta}')\n",
    "print(f'SIM: {bt_sim}')\n",
    "print(f'BLEU: {bt_bleu}')\n",
    "print(f'FL: {bt_fl}')"
   ]
  }
 ],
 "metadata": {
  "kernelspec": {
   "display_name": "Python 3",
   "language": "python",
   "name": "python3"
  },
  "language_info": {
   "codemirror_mode": {
    "name": "ipython",
    "version": 3
   },
   "file_extension": ".py",
   "mimetype": "text/x-python",
   "name": "python",
   "nbconvert_exporter": "python",
   "pygments_lexer": "ipython3",
   "version": "3.7.9"
  }
 },
 "nbformat": 4,
 "nbformat_minor": 2
}
