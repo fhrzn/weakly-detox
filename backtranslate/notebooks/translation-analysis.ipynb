{
 "cells": [
  {
   "cell_type": "markdown",
   "metadata": {},
   "source": [
    "### Analyze Evaluated Backtranslation Dataset"
   ]
  },
  {
   "cell_type": "code",
   "execution_count": 1,
   "metadata": {},
   "outputs": [
    {
     "name": "stderr",
     "output_type": "stream",
     "text": [
      "/home/jovyan/.local/lib/python3.7/site-packages/pandas/compat/_optional.py:138: UserWarning: Pandas requires version '2.7.0' or newer of 'numexpr' (version '2.6.8' currently installed).\n",
      "  warnings.warn(msg, UserWarning)\n"
     ]
    }
   ],
   "source": [
    "import pandas as pd\n",
    "import numpy as np\n",
    "from sklearn.metrics import accuracy_score"
   ]
  },
  {
   "cell_type": "code",
   "execution_count": 31,
   "metadata": {},
   "outputs": [],
   "source": [
    "# ruen dataset\n",
    "ruen_train = pd.read_csv('../../data/backtranslation/ruen_train_eval.txt', sep='\\t')\n",
    "ruen_dev = pd.read_csv('../../data/backtranslation/ruen_valid_eval.txt', sep='\\t')\n",
    "ruen_test = pd.read_csv('../../data/backtranslation/ruen_test_eval.txt', sep='\\t')\n",
    "ruen = pd.concat([ruen_train, ruen_dev, ruen_test])"
   ]
  },
  {
   "cell_type": "code",
   "execution_count": 32,
   "metadata": {},
   "outputs": [],
   "source": [
    "# fren dataset\n",
    "fren_train = pd.read_csv('../../data/backtranslation/fren_train_eval.txt', sep='\\t')\n",
    "fren_dev = pd.read_csv('../../data/backtranslation/fren_valid_eval.txt', sep='\\t')\n",
    "fren_test = pd.read_csv('../../data/backtranslation/fren_test_eval.txt', sep='\\t')\n",
    "fren = pd.concat([fren_train, fren_dev, fren_test])"
   ]
  },
  {
   "cell_type": "code",
   "execution_count": 33,
   "metadata": {},
   "outputs": [],
   "source": [
    "# esen dataset\n",
    "esen_train = pd.read_csv('../../data/backtranslation/esen_train_eval.txt', sep='\\t')\n",
    "esen_dev = pd.read_csv('../../data/backtranslation/esen_valid_eval.txt', sep='\\t')\n",
    "esen_test = pd.read_csv('../../data/backtranslation/esen_test_eval.txt', sep='\\t')\n",
    "esen = pd.concat([esen_train, esen_dev, esen_test])"
   ]
  },
  {
   "cell_type": "markdown",
   "metadata": {},
   "source": [
    "#### Calculate Metrics Performances on Test Set"
   ]
  },
  {
   "cell_type": "code",
   "execution_count": 43,
   "metadata": {},
   "outputs": [
    {
     "name": "stdout",
     "output_type": "stream",
     "text": [
      "STA: 0.0566\n",
      "SIM: 0.7984542970358184\n",
      "BLEU: 0.27877145224658756\n",
      "FL: 0.1513\n"
     ]
    }
   ],
   "source": [
    "# RUEN\n",
    "sta_ground_truth = np.zeros(len(ruen_test), dtype=int)\n",
    "fl_ground_truth = np.ones(len(ruen_test), dtype=int)\n",
    "ruen_test_acc = accuracy_score(sta_ground_truth, ruen_test.preds.to_numpy())\n",
    "ruen_test_sim = ruen.sem_similarity.mean()\n",
    "ruen_test_bleu = ruen.bleu.mean()\n",
    "ruen_test_fl = accuracy_score(fl_ground_truth, ruen_test.fluency.to_numpy())\n",
    "\n",
    "ruen_test_acc, ruen_test_sim, ruen_test_bleu, ruen_test_fl\n",
    "print(f'STA: {ruen_test_acc}')\n",
    "print(f'SIM: {ruen_test_sim}')\n",
    "print(f'BLEU: {ruen_test_bleu}')\n",
    "print(f'FL: {ruen_test_fl}')"
   ]
  },
  {
   "cell_type": "code",
   "execution_count": 45,
   "metadata": {},
   "outputs": [
    {
     "name": "stdout",
     "output_type": "stream",
     "text": [
      "STA: 0.0703\n",
      "SIM: 0.8579955021110762\n",
      "BLEU: 0.4266084091800362\n",
      "FL: 0.2294\n"
     ]
    }
   ],
   "source": [
    "# FREN\n",
    "sta_ground_truth = np.zeros(len(fren_test), dtype=int)\n",
    "fl_ground_truth = np.ones(len(fren_test), dtype=int)\n",
    "fren_test_acc = accuracy_score(sta_ground_truth, fren_test.preds.to_numpy())\n",
    "fren_test_sim = fren.sem_similarity.mean()\n",
    "fren_test_bleu = fren.bleu.mean()\n",
    "fren_test_fl = accuracy_score(fl_ground_truth, fren_test.fluency.to_numpy())\n",
    "\n",
    "fren_test_acc, fren_test_sim, fren_test_bleu, fren_test_fl\n",
    "print(f'STA: {fren_test_acc}')\n",
    "print(f'SIM: {fren_test_sim}')\n",
    "print(f'BLEU: {fren_test_bleu}')\n",
    "print(f'FL: {fren_test_fl}')"
   ]
  },
  {
   "cell_type": "code",
   "execution_count": 47,
   "metadata": {},
   "outputs": [
    {
     "name": "stdout",
     "output_type": "stream",
     "text": [
      "STA: 0.0308\n",
      "SIM: 0.8713989429817864\n",
      "BLEU: 0.4598169910763392\n",
      "FL: 0.1933\n"
     ]
    }
   ],
   "source": [
    "# ESEN\n",
    "sta_ground_truth = np.zeros(len(esen_test), dtype=int)\n",
    "fl_ground_truth = np.ones(len(esen_test), dtype=int)\n",
    "esen_test_acc = accuracy_score(sta_ground_truth, esen_test.preds.to_numpy())\n",
    "esen_test_sim = esen.sem_similarity.mean()\n",
    "esen_test_bleu = esen.bleu.mean()\n",
    "esen_test_fl = accuracy_score(fl_ground_truth, esen_test.fluency.to_numpy())\n",
    "\n",
    "esen_test_acc, esen_test_sim, esen_test_bleu, esen_test_fl\n",
    "print(f'STA: {esen_test_acc}')\n",
    "print(f'SIM: {esen_test_sim}')\n",
    "print(f'BLEU: {esen_test_bleu}')\n",
    "print(f'FL: {esen_test_fl}')"
   ]
  },
  {
   "cell_type": "markdown",
   "metadata": {},
   "source": [
    "##### Aggregate Backtranslation Metrics"
   ]
  },
  {
   "cell_type": "code",
   "execution_count": 50,
   "metadata": {},
   "outputs": [
    {
     "name": "stdout",
     "output_type": "stream",
     "text": [
      "STA: 0.05256666666666667\n",
      "SIM: 0.8426162473762271\n",
      "BLEU: 0.388398950834321\n",
      "FL: 0.19133333333333333\n"
     ]
    }
   ],
   "source": [
    "bt_sta = np.mean([ruen_test_acc,\n",
    "                  fren_test_acc,\n",
    "                  esen_test_acc])\n",
    "bt_sim = np.mean([ruen_test_sim,\n",
    "                  fren_test_sim,\n",
    "                  esen_test_sim])\n",
    "bt_bleu = np.mean([ruen_test_bleu,\n",
    "                   fren_test_bleu,\n",
    "                   esen_test_bleu])\n",
    "bt_fl = np.mean([ruen_test_fl,\n",
    "                 fren_test_fl,\n",
    "                 esen_test_fl])\n",
    "\n",
    "print(f'STA: {bt_sta}')\n",
    "print(f'SIM: {bt_sim}')\n",
    "print(f'BLEU: {bt_bleu}')\n",
    "print(f'FL: {bt_fl}')"
   ]
  },
  {
   "cell_type": "code",
   "execution_count": null,
   "metadata": {},
   "outputs": [],
   "source": []
  },
  {
   "cell_type": "code",
   "execution_count": null,
   "metadata": {},
   "outputs": [],
   "source": []
  },
  {
   "cell_type": "code",
   "execution_count": 7,
   "metadata": {},
   "outputs": [
    {
     "data": {
      "text/html": [
       "<div>\n",
       "<style scoped>\n",
       "    .dataframe tbody tr th:only-of-type {\n",
       "        vertical-align: middle;\n",
       "    }\n",
       "\n",
       "    .dataframe tbody tr th {\n",
       "        vertical-align: top;\n",
       "    }\n",
       "\n",
       "    .dataframe thead th {\n",
       "        text-align: right;\n",
       "    }\n",
       "</style>\n",
       "<table border=\"1\" class=\"dataframe\">\n",
       "  <thead>\n",
       "    <tr style=\"text-align: right;\">\n",
       "      <th></th>\n",
       "      <th>source</th>\n",
       "      <th>translate</th>\n",
       "      <th>gen</th>\n",
       "      <th>preds</th>\n",
       "      <th>sem_similarity</th>\n",
       "      <th>bleu</th>\n",
       "      <th>fluency</th>\n",
       "    </tr>\n",
       "  </thead>\n",
       "  <tbody>\n",
       "    <tr>\n",
       "      <th>0</th>\n",
       "      <td>fuck you , you nixonian twit .</td>\n",
       "      <td>Va te faire foutre, espèce de nixonien.</td>\n",
       "      <td>Fuck you, you nixonian.</td>\n",
       "      <td>1</td>\n",
       "      <td>0.862333</td>\n",
       "      <td>0.673182</td>\n",
       "      <td>0</td>\n",
       "    </tr>\n",
       "    <tr>\n",
       "      <th>1</th>\n",
       "      <td>just another vicious and trashy antitrump , pr...</td>\n",
       "      <td>juste un autre antitromp vicieux et sinistre, ...</td>\n",
       "      <td>Just another vicious and sinister anti-tromp, ...</td>\n",
       "      <td>0</td>\n",
       "      <td>0.757104</td>\n",
       "      <td>0.357405</td>\n",
       "      <td>0</td>\n",
       "    </tr>\n",
       "    <tr>\n",
       "      <th>2</th>\n",
       "      <td>if you want to talk hypocrites , bauer , im up...</td>\n",
       "      <td>si vous voulez parler hypocrites, bauer, im up...</td>\n",
       "      <td>if you want to speak hypocrites, bauer, im up ...</td>\n",
       "      <td>1</td>\n",
       "      <td>0.971661</td>\n",
       "      <td>0.629813</td>\n",
       "      <td>1</td>\n",
       "    </tr>\n",
       "    <tr>\n",
       "      <th>3</th>\n",
       "      <td>that you were shocked by the backlash only fur...</td>\n",
       "      <td>que vous avez été choqués par la réaction ne f...</td>\n",
       "      <td>that you have been shocked by the reaction onl...</td>\n",
       "      <td>1</td>\n",
       "      <td>0.805292</td>\n",
       "      <td>0.540173</td>\n",
       "      <td>0</td>\n",
       "    </tr>\n",
       "    <tr>\n",
       "      <th>4</th>\n",
       "      <td>you all suck shapiros cock and lick his mother...</td>\n",
       "      <td>Vous sucez tous la bite de shamiros et lui léc...</td>\n",
       "      <td>You all suck the shamiros dick and lick her mo...</td>\n",
       "      <td>1</td>\n",
       "      <td>0.555377</td>\n",
       "      <td>0.000000</td>\n",
       "      <td>0</td>\n",
       "    </tr>\n",
       "  </tbody>\n",
       "</table>\n",
       "</div>"
      ],
      "text/plain": [
       "                                              source  \\\n",
       "0                     fuck you , you nixonian twit .   \n",
       "1  just another vicious and trashy antitrump , pr...   \n",
       "2  if you want to talk hypocrites , bauer , im up...   \n",
       "3  that you were shocked by the backlash only fur...   \n",
       "4  you all suck shapiros cock and lick his mother...   \n",
       "\n",
       "                                           translate  \\\n",
       "0            Va te faire foutre, espèce de nixonien.   \n",
       "1  juste un autre antitromp vicieux et sinistre, ...   \n",
       "2  si vous voulez parler hypocrites, bauer, im up...   \n",
       "3  que vous avez été choqués par la réaction ne f...   \n",
       "4  Vous sucez tous la bite de shamiros et lui léc...   \n",
       "\n",
       "                                                 gen  preds  sem_similarity  \\\n",
       "0                            Fuck you, you nixonian.      1        0.862333   \n",
       "1  Just another vicious and sinister anti-tromp, ...      0        0.757104   \n",
       "2  if you want to speak hypocrites, bauer, im up ...      1        0.971661   \n",
       "3  that you have been shocked by the reaction onl...      1        0.805292   \n",
       "4  You all suck the shamiros dick and lick her mo...      1        0.555377   \n",
       "\n",
       "       bleu  fluency  \n",
       "0  0.673182        0  \n",
       "1  0.357405        0  \n",
       "2  0.629813        1  \n",
       "3  0.540173        0  \n",
       "4  0.000000        0  "
      ]
     },
     "execution_count": 7,
     "metadata": {},
     "output_type": "execute_result"
    }
   ],
   "source": [
    "fren = pd.read_csv('../data/fren_train_eval.txt', sep='\\t')\n",
    "fren.head()"
   ]
  },
  {
   "cell_type": "code",
   "execution_count": 18,
   "metadata": {
    "scrolled": false
   },
   "outputs": [
    {
     "name": "stdout",
     "output_type": "stream",
     "text": [
      "SRC: this dok is an embarrassment to every normal canadian .\n",
      "T: Эта доска - позор для каждого нормального канадца.\n",
      "BT: This board is a shame for every normal Canadian.\n",
      "**********\n",
      "SRC: move comments from clocker to trash .\n",
      "T: Перенести комментарии из часового в мусор.\n",
      "BT: Move the comments from the clock to the trash.\n",
      "**********\n",
      "SRC: do people really wonder why the world seems so screwed up and backwards ?\n",
      "T: Неужели люди действительно удивляются, почему мир кажется таким испорченным и отсталым?\n",
      "BT: Do people really wonder why the world seems so spoiled and backward?\n",
      "**********\n",
      "SRC: so move to mexico liberal loser !\n",
      "T: Так что двигайся к либералу-мексико!\n",
      "BT: So move on to liberal mexico!\n",
      "**********\n",
      "SRC: there are lunatics like dylann roof on every corner .\n",
      "T: На каждом углу есть такие сумасшедшие, как дилановая крыша.\n",
      "BT: There are crazy people on every corner like a dylan roof.\n",
      "**********\n",
      "SRC: but with a man , off with his head !\n",
      "T: Но с мужчиной, со своей головой!\n",
      "BT: But with a man, with his head!\n",
      "**********\n",
      "SRC: he is simpatico with that cesspool .\n",
      "T: Он симпатик с этой выгребной ямой.\n",
      "BT: He's cute with this cesspool.\n",
      "**********\n",
      "SRC: trump got pee peed on folks .\n",
      "T: На ребята пописали.\n",
      "BT: They peed on the guys.\n",
      "**********\n",
      "SRC: get your own damn school and do what you want without my tax dollars .\n",
      "T: Получи свою школу и делай, что хочешь, без моих налоговых долларов.\n",
      "BT: Get your school and do whatever you want, without my tax dollars.\n",
      "**********\n",
      "SRC: now scurry back into your hole .\n",
      "T: А теперь возвращайся в свою дыру.\n",
      "BT: Now go back to your hole.\n",
      "**********\n",
      "SRC: so the government has proven itself to be secretive , inept and corrupt with the entire rail project .\n",
      "T: Таким образом, правительство оказалось скрытным, неспособным и коррумпированным со всем железнодорожным проектом.\n",
      "BT: Thus, the Government has proven to be secretive, incapable and corrupt with the entire railway project.\n",
      "**********\n",
      "SRC: loser obamas weak red line was a threat of us military action against syria should it continue to use chemical weapons .\n",
      "T: Слабая красная линия проигрыша была угрозой военных действий против сирии, если она будет продолжать применять химическое оружие.\n",
      "BT: A weak red losing line was a threat of war against the Syrian Arab Republic if it continued to use chemical weapons.\n",
      "**********\n",
      "SRC: the delusions sure bring out the democratic propaganda losers , say hi to soros and the rest of the msnbc , cnn , ny times and other such bought off hillary criminals\n",
      "T: Галлюцинации, несомненно, выведут демократов, проигравших в пропаганде, передай привет Соросу и остальным msnbc, Cnn, ny времена и прочее, купленное у горных преступников\n",
      "BT: The hallucinations will no doubt expose the democrats who have lost in propaganda, say hi to Soros and the rest of the msnbc, Cnn, ny times and stuff bought from the mountain criminals.\n",
      "**********\n",
      "SRC: they are an embarrassment to tv !\n",
      "T: Это смущение для телевизора!\n",
      "BT: It's embarrassing for the TV!\n",
      "**********\n",
      "SRC: i dont want your slimy st all over my page , so why dont you fk off and leave the rest of us to celebrate the fact were all going to die ?\n",
      "T: Я не хочу, чтобы твой слизняк был на моей странице, так почему бы тебе не отвалить и не оставить нас отпраздновать тот факт, что все умрут?\n",
      "BT: I don't want your slug on my page, so why don't you back off and leave us to celebrate the fact that everyone's gonna die?\n",
      "**********\n",
      "SRC: a thug from ethiopia dispensing a flattering title to one of his hoodlum friends from zimbabwe .\n",
      "T: Грабитель из Эхиопии, раздавая приятный титул одному из своих друзей-хулиганов из Зимбабве.\n",
      "BT: A burglar from Ahiopia, giving a nice title to one of his hooligan friends from Zimbabwe.\n",
      "**********\n",
      "SRC: you can run away from being an ammosexual but you cannot hide .\n",
      "T: Ты можешь убежать от того, чтобы быть аммосексуалом, но ты не можешь спрятаться.\n",
      "BT: You can run away from being an ammo, but you can't hide.\n",
      "**********\n",
      "SRC: it never fails to amaze how trumps fan club really loves promoting themselves as the most clueless , heartless , wasteful , nationkilling bunch in world history .\n",
      "T: Он никогда не перестает удивляться, как фан-клуб действительно любит рекламировать себя как самую бессмысленную, бессердечную, расточительную, национально-убийцу в мировой истории.\n",
      "BT: He never ceases to wonder how the fan club really likes to advertise itself as the most senseless, heartless, wasteful, national killer in world history.\n",
      "**********\n",
      "SRC: nice try to fool people troll .\n",
      "T: Хорошая попытка обмануть троллей.\n",
      "BT: Nice try to trick the trolls.\n",
      "**********\n",
      "SRC: mad dog mulcair took joly to task on this garbage in qp today .\n",
      "T: Сумасшедший пёсик мулкер сегодня взялся за это дело в Qp.\n",
      "BT: Crazy dog mulker took the case to Qp today.\n",
      "**********\n",
      "SRC: why does the globe continue to provide coverage to this human gas bag .\n",
      "T: почему мир продолжает обеспечивать охват этого газового мешка человека.\n",
      "BT: Why the world continues to provide coverage for this human gas bag.\n",
      "**********\n",
      "SRC: stop anyone who looks latino and ask for their papers .\n",
      "T: Остановите всех, кто выглядит латино, и спросите у них документы.\n",
      "BT: Stop everyone who looks Latin and ask them for papers.\n",
      "**********\n",
      "SRC: by all means , volunteer for military service in the middle east and shoot everyone in sight .\n",
      "T: Добровольцем на военную службу на Среднем Востоке и стреляйте из всех на виду.\n",
      "BT: Volunteer for military service in the Middle East and shoot out of sight.\n",
      "**********\n",
      "SRC: are you saying that its ok for moore to be a pedophile if martin luther king got it on with a bunch of women ? .\n",
      "T: Ты говоришь, что это нормально для Мора быть педофилом, если Мартин Лютер Кинг нанял кучу женщин?\n",
      "BT: You're saying it's okay for Maura to be a pedophile if Martin Luther King hired a bunch of women?\n",
      "**********\n",
      "SRC: you are ignorantyou cannot make a store sell something it does not sell\n",
      "T: Вы не знаете, что не можете заставить магазин продать то, что он не продаёт.\n",
      "BT: You don't know you can't make a store sell something it doesn't sell.\n",
      "**********\n",
      "SRC: be smart enough to do your own research then write these jack s off .\n",
      "T: быть достаточно умным, чтобы провести собственное исследование, а потом выписать эти джеки.\n",
      "BT: Be smart enough to do your own research, and then write those Jacks.\n",
      "**********\n",
      "SRC: are you trying to justify your high school drop outs ( temporary foreign workers that cant read a damn map ? .\n",
      "T: Ты пытаешься оправдать свой отсев из школы (временные иностранные рабочие, которые не умеют читать чертову карту?\n",
      "BT: Are you trying to justify your dropping out of school?\n",
      "**********\n",
      "SRC: i better say thats just my opinion god for bid its libel and you sue me boo hoo hoo omg wtf .\n",
      "T: Я лучше скажу, что это просто бог моего мнения за клевету, а ты засудишь меня за бу-ху-ху-ху-ом-тф.\n",
      "BT: I'd better say it's just the god of my opinion for slander, and you're gonna sue me for boo, hoo, hoo, hoo, whoo, whoo, whoo.\n",
      "**********\n",
      "SRC: and you , sir , are both unintelligible and rude .\n",
      "T: И вы, сэр, оба неразборчивы и грубы.\n",
      "BT: And you, sir, are both indistinguishable and rude.\n",
      "**********\n",
      "SRC: as a privileged brat she got nothing for murder !\n",
      "T: Как привилегированный мальчишка, она ничего не получила за убийство!\n",
      "BT: As a privileged boy, she didn't get anything for murder!\n",
      "**********\n",
      "SRC: it appears the civilized world is sick of the shenanigans these islamists are constantly up to .\n",
      "T: Похоже, цивилизованный мир устал от хэннаниганов, которых эти иламисты постоянно догоняют.\n",
      "BT: It seems that the civilized world is tired of the Hannanigans that these Islamics keep catching up with.\n",
      "**********\n",
      "SRC: you are an embarrassment to canada .\n",
      "T: Ты смущаешь канаду.\n",
      "BT: You're embarrassing the canada.\n",
      "**********\n",
      "SRC: kim jung un and donald trump : two belligerent egos with big boy toys that can instantly kill millions who they dont give a damn about .\n",
      "T: Ким Чжон Ун и Дональд Трамп: два боевых эго с большими мальчиками игрушками, которые могут мгновенно убить миллионы, которых им наплевать.\n",
      "BT: Kim Jong-un and Donald Trump: two battle egos with big boys toys that can kill millions of people they don't care about instantly.\n",
      "**********\n",
      "SRC: they are more worthy of living than the many demented lowlives in alaska that have nothing better to do than drive around and shoot anything with a pulse .\n",
      "T: Они более достойны жить, чем многие безумные низменные живые существа в аласке, которым нечего делать, кроме как ехать и стрелять пульсом.\n",
      "BT: They're more worthy of living than many crazy lowlife living creatures in alask who have nothing to do but drive and shoot with a pulse.\n",
      "**********\n",
      "SRC: they lie , and they act like spoiled little brats .\n",
      "T: Они лгут, и ведут себя как испорченные маленькие ребята.\n",
      "BT: They lie, and they act like spoiled little guys.\n",
      "**********\n",
      "SRC: damn , is he even buried yet ? .\n",
      "T: Чёрт, он ещё не похоронен?\n",
      "BT: Hell, he's not buried yet?\n",
      "**********\n",
      "SRC: we maki , die , dead already if this wasnt a test !\n",
      "T: Мы, Маки, умрем, уже мертвы, если это не было тестом!\n",
      "BT: We Mackie are gonna die, if it wasn't a test!\n",
      "**********\n",
      "SRC: mainstream liberal media were all stunned by trumps victory in spite of their unceasing and relentless demonizing of trump as being a racist , a bigot , etc .\n",
      "T: Основные либеральные средства массовой информации были ошеломлены победой, несмотря на то, что они безжалостно и безжалостно демонизировали, что они являются расистом, фанатиком и т.д.\n",
      "BT: The main liberal media were stunned by the victory, despite their ruthless and ruthlessly demonizing that they were racist, fanatic, etc.\n",
      "**********\n",
      "SRC: my goal here was achieved , which is to call you out on yourgrade level comments that you read and regurgitate from right wing garbage sites .\n",
      "T: Моя цель здесь была достигнута, и она заключается в том, чтобы вызвать вас на ваш уровень комментариев, которые вы читаете и реггитируете с мест мусора правого крыла.\n",
      "BT: My goal here has been achieved, and it is to summon you to your level of comment, which you read and regitize from the garbage of the right wing.\n",
      "**********\n",
      "SRC: you are ignorant of the history of that time .\n",
      "T: Вы не знаете историю того времени.\n",
      "BT: You don't know the history of that time.\n",
      "**********\n",
      "SRC: yet now that six people of the islamic faith have just been murdered by a muslimhating extremist , the conservatives suddenly dont like the word .\n",
      "T: Но теперь, когда шесть человек иламской веры были только что убиты мусульманином экстремистом, консерваторам внезапно не понравилось это слово.\n",
      "BT: But now that six people of the Islamic faith have just been killed by a Muslim extremist, conservatives suddenly did not like the word.\n",
      "**********\n",
      "SRC: like a coward you will not address the facts i referenced , and as usual post something more fit for a public bathroom wall .\n",
      "T: Как трус, вы не будете рассматривать факты, на которые я ссылался, и как обычно постите что-то более подходящее для публичной стены в ванной.\n",
      "BT: As a coward, you will not consider the facts I have referred to and as usual post something more appropriate for the public wall in the bathroom.\n",
      "**********\n",
      "SRC: i am so disillusioned and unproud to be canadian its actually sickening watching these complete and utter fools operate on my behalf .\n",
      "T: Я так разочарована и не горда тем, что я канадианка, на самом деле зануда, наблюдая, как эти полные и полные глупости действуют от моего имени.\n",
      "BT: I'm so disappointed and not proud that I'm a canadian, actually a bore, watching these complete and complete nonsenses act on my behalf.\n",
      "**********\n",
      "SRC: people from his ethnic group should be denied visas\n",
      "T: лицам, принадлежащим к его этнической группе, следует отказывать в визах\n",
      "BT: Persons belonging to his or her ethnic group should be denied visas\n",
      "**********\n",
      "SRC: can you also provide the numbers on how many muslims have been killed by muslims ?\n",
      "T: Вы можете также представить цифры о том, сколько мусульман было убито мусульманами?\n",
      "BT: Can you also provide figures on how many Muslims have been killed by Muslims?\n",
      "**********\n"
     ]
    }
   ],
   "source": [
    "fren = pd.read_csv('../data/ruen_train_sel.txt', sep='\\t', index_col=0)\n",
    "for _, item in fren.head(45).iterrows():\n",
    "    print(f\"SRC: {item['source']}\")\n",
    "    print(f\"T: {item['translate']}\")\n",
    "    print(f\"BT: {item['gen']}\")\n",
    "    print('*' * 10)"
   ]
  },
  {
   "cell_type": "code",
   "execution_count": null,
   "metadata": {},
   "outputs": [],
   "source": []
  },
  {
   "cell_type": "code",
   "execution_count": null,
   "metadata": {},
   "outputs": [],
   "source": []
  }
 ],
 "metadata": {
  "kernelspec": {
   "display_name": "Python 3",
   "language": "python",
   "name": "python3"
  },
  "language_info": {
   "codemirror_mode": {
    "name": "ipython",
    "version": 3
   },
   "file_extension": ".py",
   "mimetype": "text/x-python",
   "name": "python",
   "nbconvert_exporter": "python",
   "pygments_lexer": "ipython3",
   "version": "3.7.9"
  }
 },
 "nbformat": 4,
 "nbformat_minor": 2
}
