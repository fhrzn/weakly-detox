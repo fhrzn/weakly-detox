{
 "cells": [
  {
   "cell_type": "code",
   "execution_count": 2,
   "metadata": {},
   "outputs": [
    {
     "name": "stderr",
     "output_type": "stream",
     "text": [
      "/home/jovyan/.local/lib/python3.7/site-packages/pandas/compat/_optional.py:138: UserWarning: Pandas requires version '2.7.0' or newer of 'numexpr' (version '2.6.8' currently installed).\n",
      "  warnings.warn(msg, UserWarning)\n"
     ]
    }
   ],
   "source": [
    "import torch\n",
    "import pandas as pd\n",
    "import numpy as np\n",
    "from tqdm.auto import tqdm"
   ]
  },
  {
   "cell_type": "markdown",
   "metadata": {},
   "source": [
    "### RuEn Data Filtering"
   ]
  },
  {
   "cell_type": "code",
   "execution_count": 4,
   "metadata": {},
   "outputs": [],
   "source": [
    "# ruen dataset\n",
    "ruen_train = pd.read_csv('../data/ruen_train_eval.txt', sep='\\t')\n",
    "ruen_dev = pd.read_csv('../data/ruen_valid_eval.txt', sep='\\t')\n",
    "ruen_test = pd.read_csv('../data/ruen_test_eval.txt', sep='\\t')"
   ]
  },
  {
   "cell_type": "code",
   "execution_count": 5,
   "metadata": {},
   "outputs": [],
   "source": [
    "ruen_train_sel = ruen_train[(ruen_train['preds'] == 0) & (ruen_train['sem_similarity'] > .5)]\n",
    "ruen_dev_sel = ruen_dev[(ruen_dev['preds'] == 0) & (ruen_dev['sem_similarity'] > .1)]\n",
    "ruen_test_sel = ruen_test[(ruen_test['preds'] == 0) & (ruen_test['sem_similarity'] > .25)]\n"
   ]
  },
  {
   "cell_type": "markdown",
   "metadata": {},
   "source": [
    "### FrEn Data Filtering"
   ]
  },
  {
   "cell_type": "code",
   "execution_count": 7,
   "metadata": {},
   "outputs": [],
   "source": [
    "# iden dataset\n",
    "fren_train = pd.read_csv('../data/fren_train_eval.txt', sep='\\t')\n",
    "fren_dev = pd.read_csv('../data/fren_valid_eval.txt', sep='\\t')\n",
    "fren_test = pd.read_csv('../data/fren_test_eval.txt', sep='\\t')"
   ]
  },
  {
   "cell_type": "code",
   "execution_count": 8,
   "metadata": {},
   "outputs": [],
   "source": [
    "fren_train_sel = fren_train[(fren_train['preds'] == 0) & (fren_train['sem_similarity'] > .5)]\n",
    "fren_dev_sel = fren_dev[(fren_dev['preds'] == 0) & (fren_dev['sem_similarity'] > .27)]\n",
    "fren_test_sel = fren_test[(fren_test['preds'] == 0) & (fren_test['sem_similarity'] > .25)]"
   ]
  },
  {
   "cell_type": "markdown",
   "metadata": {},
   "source": [
    "### EsEn Data Filtering"
   ]
  },
  {
   "cell_type": "code",
   "execution_count": 9,
   "metadata": {},
   "outputs": [],
   "source": [
    "# iden dataset\n",
    "esen_train = pd.read_csv('../data/esen_train_eval.txt', sep='\\t')\n",
    "esen_dev = pd.read_csv('../data/esen_valid_eval.txt', sep='\\t')\n",
    "esen_test = pd.read_csv('../data/esen_test_eval.txt', sep='\\t')"
   ]
  },
  {
   "cell_type": "code",
   "execution_count": 10,
   "metadata": {},
   "outputs": [],
   "source": [
    "esen_train_sel = esen_train[(esen_train['preds'] == 0) & (esen_train['sem_similarity'] > .5)]\n",
    "esen_dev_sel = esen_dev[(esen_dev['preds'] == 0) & (esen_dev['sem_similarity'] > .3)]\n",
    "esen_test_sel = esen_test[(esen_test['preds'] == 0) & (esen_test['sem_similarity'] > .3)]"
   ]
  },
  {
   "cell_type": "markdown",
   "metadata": {},
   "source": [
    "### Synthetic Paraphrase Data Creation"
   ]
  },
  {
   "cell_type": "code",
   "execution_count": 111,
   "metadata": {},
   "outputs": [],
   "source": [
    "df_paraphrase_ref = pd.concat([\n",
    "    ruen_train_sel[['source', 'backtranslate']],\n",
    "    ruen_dev_sel[['source', 'backtranslate']],\n",
    "    ruen_test_sel[['source', 'backtranslate']],\n",
    "    fren_train_sel[['source', 'backtranslate']],\n",
    "    fren_dev_sel[['source', 'backtranslate']],\n",
    "    fren_test_sel[['source', 'backtranslate']],\n",
    "    esen_train_sel[['source', 'backtranslate']],\n",
    "    esen_dev_sel[['source', 'backtranslate']],\n",
    "    esen_test_sel[['source', 'backtranslate']],\n",
    "], axis=0)"
   ]
  },
  {
   "cell_type": "code",
   "execution_count": 115,
   "metadata": {},
   "outputs": [],
   "source": [
    "# export filtered dataset for training GPT-2 paraphraser\n",
    "df_paraphrase_ref.to_csv('../../data/paraphrase/paraphrase_ref.txt', sep='\\t', index=False, header=True)"
   ]
  },
  {
   "cell_type": "code",
   "execution_count": 122,
   "metadata": {},
   "outputs": [],
   "source": [
    "ruen_train[ruen_train['preds'] == 1][['source', 'backtranslate']].to_csv('../../data/paraphrase/train_ref.txt', sep='\\t', index=False, header=True)\n",
    "ruen_dev[ruen_dev['preds'] == 1][['source', 'backtranslate']].to_csv('../../data/paraphrase/dev_ref.txt', sep='\\t', index=False, header=True)\n",
    "ruen_test[ruen_test['preds'] == 1][['source', 'backtranslate']].to_csv('../../data/paraphrase/test_ref.txt', sep='\\t', index=False, header=True)\n"
   ]
  },
  {
   "cell_type": "code",
   "execution_count": 135,
   "metadata": {},
   "outputs": [],
   "source": [
    "# sampled trainset to be paraphrased in inference phase (for train BART parallel model)\n",
    "train_paraphrase_sample = ruen_train[ruen_train['preds'] == 1].sample(20000, random_state=42)[['source', 'backtranslate']]\n",
    "train_paraphrase_sample.to_csv('../../data/paraphrase/train_ref_20k.txt', sep='\\t', index=False, header=True)"
   ]
  },
  {
   "cell_type": "code",
   "execution_count": 136,
   "metadata": {
    "scrolled": true
   },
   "outputs": [
    {
     "data": {
      "text/plain": [
       "20000"
      ]
     },
     "execution_count": 136,
     "metadata": {},
     "output_type": "execute_result"
    }
   ],
   "source": [
    "len(train_paraphrase_sample)"
   ]
  },
  {
   "cell_type": "markdown",
   "metadata": {},
   "source": [
    "#### Export Individual Translation Data"
   ]
  },
  {
   "cell_type": "code",
   "execution_count": 13,
   "metadata": {},
   "outputs": [],
   "source": [
    "# will be used for preparing parallel dataset\n",
    "ruen_train_sel.to_csv('../data/ruen_train_sel.txt', sep='\\t', index=True, header=True)\n",
    "ruen_dev_sel.to_csv('../data/ruen_valid_sel.txt', sep='\\t', index=True, header=True)\n",
    "ruen_test_sel.to_csv('../data/ruen_test_sel.txt', sep='\\t', index=True, header=True)\n",
    "fren_train_sel.to_csv('../data/fren_train_sel.txt', sep='\\t', index=True, header=True)\n",
    "fren_dev_sel.to_csv('../data/fren_valid_sel.txt', sep='\\t', index=True, header=True)\n",
    "fren_test_sel.to_csv('../data/fren_test_sel.txt', sep='\\t', index=True, header=True)\n",
    "esen_train_sel.to_csv('../data/esen_train_sel.txt', sep='\\t', index=True, header=True)\n",
    "esen_dev_sel.to_csv('../data/esen_valid_sel.txt', sep='\\t', index=True, header=True)\n",
    "esen_test_sel.to_csv('../data/esen_test_sel.txt', sep='\\t', index=True, header=True)"
   ]
  }
 ],
 "metadata": {
  "kernelspec": {
   "display_name": "Python 3",
   "language": "python",
   "name": "python3"
  },
  "language_info": {
   "codemirror_mode": {
    "name": "ipython",
    "version": 3
   },
   "file_extension": ".py",
   "mimetype": "text/x-python",
   "name": "python",
   "nbconvert_exporter": "python",
   "pygments_lexer": "ipython3",
   "version": "3.7.9"
  }
 },
 "nbformat": 4,
 "nbformat_minor": 4
}
