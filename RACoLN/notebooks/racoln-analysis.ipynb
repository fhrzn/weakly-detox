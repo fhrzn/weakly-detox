{
 "cells": [
  {
   "cell_type": "markdown",
   "metadata": {},
   "source": [
    "### Read Generated Dataset"
   ]
  },
  {
   "cell_type": "code",
   "execution_count": 1,
   "metadata": {},
   "outputs": [
    {
     "name": "stderr",
     "output_type": "stream",
     "text": [
      "/home/jovyan/.local/lib/python3.7/site-packages/pandas/compat/_optional.py:138: UserWarning: Pandas requires version '2.7.0' or newer of 'numexpr' (version '2.6.8' currently installed).\n",
      "  warnings.warn(msg, UserWarning)\n"
     ]
    }
   ],
   "source": [
    "import json\n",
    "import pandas as pd\n",
    "import numpy as np\n",
    "import os"
   ]
  },
  {
   "cell_type": "code",
   "execution_count": 2,
   "metadata": {},
   "outputs": [],
   "source": [
    "alldata = []\n",
    "with open('../output/jigsaw-0.15.jsonl', 'r', encoding='utf-8') as r:\n",
    "    buffer = r.read().strip().split('\\n')\n",
    "    for b in buffer:\n",
    "        alldata.append(json.loads(b))"
   ]
  },
  {
   "cell_type": "code",
   "execution_count": 3,
   "metadata": {},
   "outputs": [
    {
     "data": {
      "text/html": [
       "<div>\n",
       "<style scoped>\n",
       "    .dataframe tbody tr th:only-of-type {\n",
       "        vertical-align: middle;\n",
       "    }\n",
       "\n",
       "    .dataframe tbody tr th {\n",
       "        vertical-align: top;\n",
       "    }\n",
       "\n",
       "    .dataframe thead th {\n",
       "        text-align: right;\n",
       "    }\n",
       "</style>\n",
       "<table border=\"1\" class=\"dataframe\">\n",
       "  <thead>\n",
       "    <tr style=\"text-align: right;\">\n",
       "      <th></th>\n",
       "      <th>gen</th>\n",
       "      <th>racoln_label</th>\n",
       "    </tr>\n",
       "    <tr>\n",
       "      <th>index</th>\n",
       "      <th></th>\n",
       "      <th></th>\n",
       "    </tr>\n",
       "  </thead>\n",
       "  <tbody>\n",
       "    <tr>\n",
       "      <th>0</th>\n",
       "      <td>zero chance of winning , either in the cpc , o...</td>\n",
       "      <td>1</td>\n",
       "    </tr>\n",
       "    <tr>\n",
       "      <th>1</th>\n",
       "      <td>the dictionary ( idiotic ) from a day as , amo...</td>\n",
       "      <td>1</td>\n",
       "    </tr>\n",
       "    <tr>\n",
       "      <th>2</th>\n",
       "      <td>could it be that trudeau is revealing his priv...</td>\n",
       "      <td>1</td>\n",
       "    </tr>\n",
       "    <tr>\n",
       "      <th>3</th>\n",
       "      <td>the land belongs to the people of county count...</td>\n",
       "      <td>1</td>\n",
       "    </tr>\n",
       "    <tr>\n",
       "      <th>4</th>\n",
       "      <td>in stupid , cj carried the &lt;unk&gt; digit times .</td>\n",
       "      <td>1</td>\n",
       "    </tr>\n",
       "  </tbody>\n",
       "</table>\n",
       "</div>"
      ],
      "text/plain": [
       "                                                     gen  racoln_label\n",
       "index                                                                 \n",
       "0      zero chance of winning , either in the cpc , o...             1\n",
       "1      the dictionary ( idiotic ) from a day as , amo...             1\n",
       "2      could it be that trudeau is revealing his priv...             1\n",
       "3      the land belongs to the people of county count...             1\n",
       "4         in stupid , cj carried the <unk> digit times .             1"
      ]
     },
     "execution_count": 3,
     "metadata": {},
     "output_type": "execute_result"
    }
   ],
   "source": [
    "racolndf = pd.DataFrame.from_dict(alldata).set_index('index')\n",
    "racolndf = racolndf.rename({'X': 'gen', 'C': 'racoln_label'}, axis=1)\n",
    "racolndf.head()"
   ]
  },
  {
   "cell_type": "code",
   "execution_count": 4,
   "metadata": {},
   "outputs": [],
   "source": [
    "# export for evaluate\n",
    "racolndf = racolndf.iloc[(len(racolndf)//2):]\n",
    "# racoln_df.iloc[(len(racoln_df)//2):][['gen']].to_csv('../../data/RACoLN/tsf_test.txt', sep='\\t', index=False, header=True)"
   ]
  },
  {
   "cell_type": "code",
   "execution_count": 7,
   "metadata": {},
   "outputs": [],
   "source": [
    "racolndf[['gen']].to_csv('../output/racoln.tox', index=False, header=False)"
   ]
  },
  {
   "cell_type": "markdown",
   "metadata": {},
   "source": [
    "### Read Original Dataset"
   ]
  },
  {
   "cell_type": "code",
   "execution_count": 95,
   "metadata": {},
   "outputs": [],
   "source": [
    "refdata = []\n",
    "with open('../data/jigsaw/test.jsonl', 'r', encoding='utf-8') as r:\n",
    "    buffer = r.read().strip().split('\\n')\n",
    "    for b in buffer:\n",
    "        refdata.append(json.loads(b))"
   ]
  },
  {
   "cell_type": "code",
   "execution_count": 96,
   "metadata": {},
   "outputs": [
    {
     "data": {
      "text/html": [
       "<div>\n",
       "<style scoped>\n",
       "    .dataframe tbody tr th:only-of-type {\n",
       "        vertical-align: middle;\n",
       "    }\n",
       "\n",
       "    .dataframe tbody tr th {\n",
       "        vertical-align: top;\n",
       "    }\n",
       "\n",
       "    .dataframe thead th {\n",
       "        text-align: right;\n",
       "    }\n",
       "</style>\n",
       "<table border=\"1\" class=\"dataframe\">\n",
       "  <thead>\n",
       "    <tr style=\"text-align: right;\">\n",
       "      <th></th>\n",
       "      <th>ori</th>\n",
       "    </tr>\n",
       "  </thead>\n",
       "  <tbody>\n",
       "    <tr>\n",
       "      <th>0</th>\n",
       "      <td>zero chance of winning , either in the cpc , o...</td>\n",
       "    </tr>\n",
       "    <tr>\n",
       "      <th>1</th>\n",
       "      <td>the dictionary ( webster ) defines a separatis...</td>\n",
       "    </tr>\n",
       "    <tr>\n",
       "      <th>2</th>\n",
       "      <td>could it be that trudeau is revealing his priv...</td>\n",
       "    </tr>\n",
       "    <tr>\n",
       "      <th>3</th>\n",
       "      <td>the land belongs to the people of clark county...</td>\n",
       "    </tr>\n",
       "    <tr>\n",
       "      <th>4</th>\n",
       "      <td>in theirlosses , cj carried the balland DIGIT ...</td>\n",
       "    </tr>\n",
       "  </tbody>\n",
       "</table>\n",
       "</div>"
      ],
      "text/plain": [
       "                                                 ori\n",
       "0  zero chance of winning , either in the cpc , o...\n",
       "1  the dictionary ( webster ) defines a separatis...\n",
       "2  could it be that trudeau is revealing his priv...\n",
       "3  the land belongs to the people of clark county...\n",
       "4  in theirlosses , cj carried the balland DIGIT ..."
      ]
     },
     "execution_count": 96,
     "metadata": {},
     "output_type": "execute_result"
    }
   ],
   "source": [
    "refdf = pd.DataFrame.from_dict(refdata)\n",
    "# actually its up to you whether use X or Y as ref column as it is identical\n",
    "refdf = refdf.rename({'Y': 'ori'}, axis=1)\n",
    "refdf = refdf.drop(['index', 'X', 'C'], axis=1)\n",
    "refdf.head()"
   ]
  },
  {
   "cell_type": "code",
   "execution_count": 97,
   "metadata": {},
   "outputs": [],
   "source": [
    "refdf = refdf[len(refdf)//2:]"
   ]
  },
  {
   "cell_type": "markdown",
   "metadata": {},
   "source": [
    "### Join both dataset"
   ]
  },
  {
   "cell_type": "code",
   "execution_count": 98,
   "metadata": {},
   "outputs": [
    {
     "data": {
      "text/html": [
       "<div>\n",
       "<style scoped>\n",
       "    .dataframe tbody tr th:only-of-type {\n",
       "        vertical-align: middle;\n",
       "    }\n",
       "\n",
       "    .dataframe tbody tr th {\n",
       "        vertical-align: top;\n",
       "    }\n",
       "\n",
       "    .dataframe thead th {\n",
       "        text-align: right;\n",
       "    }\n",
       "</style>\n",
       "<table border=\"1\" class=\"dataframe\">\n",
       "  <thead>\n",
       "    <tr style=\"text-align: right;\">\n",
       "      <th></th>\n",
       "      <th>ori</th>\n",
       "      <th>gen</th>\n",
       "      <th>racoln_label</th>\n",
       "    </tr>\n",
       "  </thead>\n",
       "  <tbody>\n",
       "    <tr>\n",
       "      <th>10000</th>\n",
       "      <td>you are a fucking idiot .</td>\n",
       "      <td>you are a sewing magazine .</td>\n",
       "      <td>0</td>\n",
       "    </tr>\n",
       "    <tr>\n",
       "      <th>10001</th>\n",
       "      <td>as stupid and arrogant as his boss</td>\n",
       "      <td>as gift and tactics as his boss</td>\n",
       "      <td>0</td>\n",
       "    </tr>\n",
       "    <tr>\n",
       "      <th>10002</th>\n",
       "      <td>a stupid society does stupid things and votes ...</td>\n",
       "      <td>a &lt;unk&gt; society does &lt;unk&gt; things and votes fo...</td>\n",
       "      <td>0</td>\n",
       "    </tr>\n",
       "    <tr>\n",
       "      <th>10003</th>\n",
       "      <td>a president who is an idiot .</td>\n",
       "      <td>a president who is an magazine .</td>\n",
       "      <td>0</td>\n",
       "    </tr>\n",
       "    <tr>\n",
       "      <th>10004</th>\n",
       "      <td>colbert is a stupid moron and is a terrorist .</td>\n",
       "      <td>mckinley is a gift veteran and is a nationality .</td>\n",
       "      <td>0</td>\n",
       "    </tr>\n",
       "  </tbody>\n",
       "</table>\n",
       "</div>"
      ],
      "text/plain": [
       "                                                     ori  \\\n",
       "10000                          you are a fucking idiot .   \n",
       "10001                 as stupid and arrogant as his boss   \n",
       "10002  a stupid society does stupid things and votes ...   \n",
       "10003                      a president who is an idiot .   \n",
       "10004     colbert is a stupid moron and is a terrorist .   \n",
       "\n",
       "                                                     gen  racoln_label  \n",
       "10000                        you are a sewing magazine .             0  \n",
       "10001                    as gift and tactics as his boss             0  \n",
       "10002  a <unk> society does <unk> things and votes fo...             0  \n",
       "10003                   a president who is an magazine .             0  \n",
       "10004  mckinley is a gift veteran and is a nationality .             0  "
      ]
     },
     "execution_count": 98,
     "metadata": {},
     "output_type": "execute_result"
    }
   ],
   "source": [
    "racoln_df = pd.concat([refdf, racolndf], axis=1)\n",
    "racoln_df.to_csv('../output/racoln_test.txt', index=False, header=True, sep='\\t')\n",
    "racoln_df.head()"
   ]
  },
  {
   "cell_type": "markdown",
   "metadata": {},
   "source": [
    "## Analyze output"
   ]
  },
  {
   "cell_type": "code",
   "execution_count": 101,
   "metadata": {},
   "outputs": [
    {
     "data": {
      "text/html": [
       "<div>\n",
       "<style scoped>\n",
       "    .dataframe tbody tr th:only-of-type {\n",
       "        vertical-align: middle;\n",
       "    }\n",
       "\n",
       "    .dataframe tbody tr th {\n",
       "        vertical-align: top;\n",
       "    }\n",
       "\n",
       "    .dataframe thead th {\n",
       "        text-align: right;\n",
       "    }\n",
       "</style>\n",
       "<table border=\"1\" class=\"dataframe\">\n",
       "  <thead>\n",
       "    <tr style=\"text-align: right;\">\n",
       "      <th></th>\n",
       "      <th>gen</th>\n",
       "      <th>ori</th>\n",
       "      <th>preds</th>\n",
       "      <th>sem_similarity</th>\n",
       "      <th>bleu</th>\n",
       "      <th>fluency</th>\n",
       "    </tr>\n",
       "  </thead>\n",
       "  <tbody>\n",
       "    <tr>\n",
       "      <th>0</th>\n",
       "      <td>you are a sewing magazine .</td>\n",
       "      <td>you are a fucking idiot .</td>\n",
       "      <td>0</td>\n",
       "      <td>0.139873</td>\n",
       "      <td>0.000000</td>\n",
       "      <td>1</td>\n",
       "    </tr>\n",
       "    <tr>\n",
       "      <th>1</th>\n",
       "      <td>as gift and tactics as his boss</td>\n",
       "      <td>as stupid and arrogant as his boss</td>\n",
       "      <td>0</td>\n",
       "      <td>0.661481</td>\n",
       "      <td>0.000000</td>\n",
       "      <td>1</td>\n",
       "    </tr>\n",
       "    <tr>\n",
       "      <th>2</th>\n",
       "      <td>a &lt;unk&gt; society does &lt;unk&gt; things and votes fo...</td>\n",
       "      <td>a stupid society does stupid things and votes ...</td>\n",
       "      <td>0</td>\n",
       "      <td>0.484383</td>\n",
       "      <td>0.187102</td>\n",
       "      <td>0</td>\n",
       "    </tr>\n",
       "    <tr>\n",
       "      <th>3</th>\n",
       "      <td>a president who is an magazine .</td>\n",
       "      <td>a president who is an idiot .</td>\n",
       "      <td>0</td>\n",
       "      <td>0.538400</td>\n",
       "      <td>0.643459</td>\n",
       "      <td>0</td>\n",
       "    </tr>\n",
       "    <tr>\n",
       "      <th>4</th>\n",
       "      <td>mckinley is a gift veteran and is a nationality .</td>\n",
       "      <td>colbert is a stupid moron and is a terrorist .</td>\n",
       "      <td>0</td>\n",
       "      <td>0.156737</td>\n",
       "      <td>0.000000</td>\n",
       "      <td>1</td>\n",
       "    </tr>\n",
       "  </tbody>\n",
       "</table>\n",
       "</div>"
      ],
      "text/plain": [
       "                                                 gen  \\\n",
       "0                        you are a sewing magazine .   \n",
       "1                    as gift and tactics as his boss   \n",
       "2  a <unk> society does <unk> things and votes fo...   \n",
       "3                   a president who is an magazine .   \n",
       "4  mckinley is a gift veteran and is a nationality .   \n",
       "\n",
       "                                                 ori  preds  sem_similarity  \\\n",
       "0                          you are a fucking idiot .      0        0.139873   \n",
       "1                 as stupid and arrogant as his boss      0        0.661481   \n",
       "2  a stupid society does stupid things and votes ...      0        0.484383   \n",
       "3                      a president who is an idiot .      0        0.538400   \n",
       "4     colbert is a stupid moron and is a terrorist .      0        0.156737   \n",
       "\n",
       "       bleu  fluency  \n",
       "0  0.000000        1  \n",
       "1  0.000000        1  \n",
       "2  0.187102        0  \n",
       "3  0.643459        0  \n",
       "4  0.000000        1  "
      ]
     },
     "execution_count": 101,
     "metadata": {},
     "output_type": "execute_result"
    }
   ],
   "source": [
    "from sklearn.metrics import accuracy_score\n",
    "\n",
    "racoln_eval = pd.read_csv('../output/racoln_test_eval.txt', sep='\\t')\n",
    "racoln_eval.head()"
   ]
  },
  {
   "cell_type": "code",
   "execution_count": 106,
   "metadata": {},
   "outputs": [
    {
     "name": "stdout",
     "output_type": "stream",
     "text": [
      "STA: 0.907\n",
      "SIM: 0.5434536392819136\n",
      "BLEU: 0.44728756889839805\n",
      "FL: 0.6092\n"
     ]
    }
   ],
   "source": [
    "sta_gt = np.zeros(len(racoln_eval))\n",
    "fl_gt = np.ones(len(racoln_eval))\n",
    "\n",
    "racoln_acc = accuracy_score(sta_gt, racoln_eval.preds)\n",
    "racoln_sim = np.mean(racoln_eval.sem_similarity)\n",
    "racoln_bleu = np.mean(racoln_eval.bleu)\n",
    "racoln_fl = accuracy_score(fl_gt, racoln_eval.fluency)\n",
    "\n",
    "print(f'STA: {racoln_acc}')\n",
    "print(f'SIM: {racoln_sim}')\n",
    "print(f'BLEU: {racoln_bleu}')\n",
    "print(f'FL: {racoln_fl}')"
   ]
  },
  {
   "cell_type": "code",
   "execution_count": null,
   "metadata": {},
   "outputs": [],
   "source": []
  }
 ],
 "metadata": {
  "kernelspec": {
   "display_name": "Python 3",
   "language": "python",
   "name": "python3"
  },
  "language_info": {
   "codemirror_mode": {
    "name": "ipython",
    "version": 3
   },
   "file_extension": ".py",
   "mimetype": "text/x-python",
   "name": "python",
   "nbconvert_exporter": "python",
   "pygments_lexer": "ipython3",
   "version": "3.7.9"
  }
 },
 "nbformat": 4,
 "nbformat_minor": 2
}
