{
 "cells": [
  {
   "cell_type": "code",
   "execution_count": 1,
   "metadata": {},
   "outputs": [
    {
     "name": "stderr",
     "output_type": "stream",
     "text": [
      "/home/jovyan/.local/lib/python3.7/site-packages/pandas/compat/_optional.py:138: UserWarning: Pandas requires version '2.7.0' or newer of 'numexpr' (version '2.6.8' currently installed).\n",
      "  warnings.warn(msg, UserWarning)\n"
     ]
    }
   ],
   "source": [
    "# data manipulation\n",
    "import pandas as pd\n",
    "import numpy as np\n",
    "import matplotlib.pyplot as plt\n",
    "import seaborn as sns\n",
    "\n",
    "# torch\n",
    "import torch\n",
    "from torch.nn import Sigmoid\n",
    "from torch.utils.data import DataLoader\n",
    "from torch.optim import AdamW\n",
    "\n",
    "# sklearn\n",
    "from sklearn.metrics import f1_score, roc_auc_score, accuracy_score, precision_score, recall_score, balanced_accuracy_score\n",
    "\n",
    "# huggingface\n",
    "from datasets import load_from_disk, Dataset, DatasetDict\n",
    "from transformers import AutoModelForSequenceClassification\n",
    "from transformers import AutoTokenizer, Trainer, TrainingArguments\n",
    "from transformers import DataCollatorWithPadding\n",
    "from datasets import load_dataset\n",
    "from transformers import get_scheduler\n",
    "from sentence_transformers import SentenceTransformer, util\n",
    "\n",
    "# # utils\n",
    "from tqdm.auto import tqdm\n",
    "from pprint import pprint"
   ]
  },
  {
   "cell_type": "code",
   "execution_count": 2,
   "metadata": {},
   "outputs": [],
   "source": [
    "MODEL_CKPT = 'roberta-base'\n",
    "LR = 2e-5\n",
    "BATCH_SIZE = 64\n",
    "WEIGHT_DECAY = 0.01\n",
    "DEVICE = 'cuda:3' if torch.cuda.is_available else 'cpu'\n",
    "# torch.cuda.set_device(4)\n",
    "# torch.cuda.current_device()"
   ]
  },
  {
   "cell_type": "code",
   "execution_count": 3,
   "metadata": {},
   "outputs": [],
   "source": [
    "# labels\n",
    "id2label = {0: 'Normal', 1: 'Toxic'}\n",
    "label2id = {'Normal': 0, 'Toxic': 1}"
   ]
  },
  {
   "cell_type": "code",
   "execution_count": 4,
   "metadata": {},
   "outputs": [
    {
     "name": "stderr",
     "output_type": "stream",
     "text": [
      "Some weights of the model checkpoint at roberta-base were not used when initializing RobertaForSequenceClassification: ['roberta.pooler.dense.weight', 'lm_head.layer_norm.weight', 'roberta.pooler.dense.bias', 'lm_head.decoder.weight', 'lm_head.dense.weight', 'lm_head.layer_norm.bias', 'lm_head.dense.bias', 'lm_head.bias']\n",
      "- This IS expected if you are initializing RobertaForSequenceClassification from the checkpoint of a model trained on another task or with another architecture (e.g. initializing a BertForSequenceClassification model from a BertForPreTraining model).\n",
      "- This IS NOT expected if you are initializing RobertaForSequenceClassification from the checkpoint of a model that you expect to be exactly identical (initializing a BertForSequenceClassification model from a BertForSequenceClassification model).\n",
      "Some weights of RobertaForSequenceClassification were not initialized from the model checkpoint at roberta-base and are newly initialized: ['classifier.dense.bias', 'classifier.dense.weight', 'classifier.out_proj.bias', 'classifier.out_proj.weight']\n",
      "You should probably TRAIN this model on a down-stream task to be able to use it for predictions and inference.\n"
     ]
    }
   ],
   "source": [
    "tokenizer = AutoTokenizer.from_pretrained(MODEL_CKPT)\n",
    "model = AutoModelForSequenceClassification.from_pretrained(MODEL_CKPT,\n",
    "                                                           num_labels=2,\n",
    "                                                           id2label=id2label,\n",
    "                                                           label2id=label2id)\n",
    "\n",
    "model = model.to(DEVICE)"
   ]
  },
  {
   "cell_type": "code",
   "execution_count": 5,
   "metadata": {},
   "outputs": [],
   "source": [
    "def tokenize_data(batch):\n",
    "    comment = batch['text']\n",
    "    \n",
    "    tokenized = tokenizer(\n",
    "        comment,\n",
    "        truncation=True,\n",
    "        max_length=128,\n",
    "#         return_overflowing_tokens=True,\n",
    "        padding='max_length'\n",
    "    )  \n",
    "\n",
    "    return tokenized"
   ]
  },
  {
   "cell_type": "markdown",
   "metadata": {},
   "source": [
    "### Training Phase 1"
   ]
  },
  {
   "cell_type": "code",
   "execution_count": 6,
   "metadata": {},
   "outputs": [],
   "source": [
    "train = pd.read_csv('../../data/classification/jigsaw-self-cleaned/train.txt', sep='\\t', names=['labels', 'text'])\n",
    "test = pd.read_csv('../../data/classification/jigsaw-self-cleaned/test.txt', sep='\\t', names=['labels', 'text'])\n",
    "valid = pd.read_csv('../../data/classification/jigsaw-self-cleaned/valid.txt', sep='\\t', names=['labels', 'text'])"
   ]
  },
  {
   "cell_type": "code",
   "execution_count": 7,
   "metadata": {},
   "outputs": [
    {
     "data": {
      "text/html": [
       "<div>\n",
       "<style scoped>\n",
       "    .dataframe tbody tr th:only-of-type {\n",
       "        vertical-align: middle;\n",
       "    }\n",
       "\n",
       "    .dataframe tbody tr th {\n",
       "        vertical-align: top;\n",
       "    }\n",
       "\n",
       "    .dataframe thead th {\n",
       "        text-align: right;\n",
       "    }\n",
       "</style>\n",
       "<table border=\"1\" class=\"dataframe\">\n",
       "  <thead>\n",
       "    <tr style=\"text-align: right;\">\n",
       "      <th></th>\n",
       "      <th>labels</th>\n",
       "      <th>text</th>\n",
       "    </tr>\n",
       "  </thead>\n",
       "  <tbody>\n",
       "    <tr>\n",
       "      <th>0</th>\n",
       "      <td>0</td>\n",
       "      <td>\" Please do not vandalize pages, as you did wi...</td>\n",
       "    </tr>\n",
       "    <tr>\n",
       "      <th>1</th>\n",
       "      <td>1</td>\n",
       "      <td>\" Reverting for no reason I spent quite some t...</td>\n",
       "    </tr>\n",
       "    <tr>\n",
       "      <th>2</th>\n",
       "      <td>0</td>\n",
       "      <td>story line is maybe not the most original or c...</td>\n",
       "    </tr>\n",
       "    <tr>\n",
       "      <th>3</th>\n",
       "      <td>1</td>\n",
       "      <td>YOu motherfucker Pablo.... you have a sorry be...</td>\n",
       "    </tr>\n",
       "    <tr>\n",
       "      <th>4</th>\n",
       "      <td>1</td>\n",
       "      <td>GROUND UNTIL IT'S A BLOODY PULP, THEN PROCEEDS...</td>\n",
       "    </tr>\n",
       "  </tbody>\n",
       "</table>\n",
       "</div>"
      ],
      "text/plain": [
       "   labels                                               text\n",
       "0       0  \" Please do not vandalize pages, as you did wi...\n",
       "1       1  \" Reverting for no reason I spent quite some t...\n",
       "2       0  story line is maybe not the most original or c...\n",
       "3       1  YOu motherfucker Pablo.... you have a sorry be...\n",
       "4       1  GROUND UNTIL IT'S A BLOODY PULP, THEN PROCEEDS..."
      ]
     },
     "execution_count": 7,
     "metadata": {},
     "output_type": "execute_result"
    }
   ],
   "source": [
    "train.head()"
   ]
  },
  {
   "cell_type": "code",
   "execution_count": 8,
   "metadata": {},
   "outputs": [
    {
     "data": {
      "text/plain": [
       "DatasetDict({\n",
       "    train: Dataset({\n",
       "        features: ['text', 'labels'],\n",
       "        num_rows: 20194\n",
       "    })\n",
       "    validation: Dataset({\n",
       "        features: ['text', 'labels'],\n",
       "        num_rows: 5591\n",
       "    })\n",
       "    test: Dataset({\n",
       "        features: ['text', 'labels'],\n",
       "        num_rows: 8375\n",
       "    })\n",
       "})"
      ]
     },
     "execution_count": 8,
     "metadata": {},
     "output_type": "execute_result"
    }
   ],
   "source": [
    "toxics = DatasetDict({\n",
    "    'train': Dataset.from_pandas(train[['text', 'labels']]),\n",
    "    'validation': Dataset.from_pandas(valid[['text', 'labels']]),\n",
    "    'test': Dataset.from_pandas(test[['text', 'labels']])\n",
    "})\n",
    "\n",
    "toxics"
   ]
  },
  {
   "cell_type": "code",
   "execution_count": 9,
   "metadata": {},
   "outputs": [
    {
     "data": {
      "text/plain": [
       "{'text': '\" Please do not vandalize pages, as you did with this edit to Vincent ( disambiguation ). If you continue to do so, you will be blocked from editing. \"',\n",
       " 'labels': 0}"
      ]
     },
     "execution_count": 9,
     "metadata": {},
     "output_type": "execute_result"
    }
   ],
   "source": [
    "# examine a little bit\n",
    "toxics['train'][0]"
   ]
  },
  {
   "cell_type": "code",
   "execution_count": 10,
   "metadata": {},
   "outputs": [
    {
     "data": {
      "application/vnd.jupyter.widget-view+json": {
       "model_id": "3d66101da6ac427e910ff1553f078a25",
       "version_major": 2,
       "version_minor": 0
      },
      "text/plain": [
       "  0%|          | 0/21 [00:00<?, ?ba/s]"
      ]
     },
     "metadata": {},
     "output_type": "display_data"
    },
    {
     "data": {
      "application/vnd.jupyter.widget-view+json": {
       "model_id": "b39ed0ece1ad41bdba141d442833150c",
       "version_major": 2,
       "version_minor": 0
      },
      "text/plain": [
       "  0%|          | 0/6 [00:00<?, ?ba/s]"
      ]
     },
     "metadata": {},
     "output_type": "display_data"
    },
    {
     "data": {
      "application/vnd.jupyter.widget-view+json": {
       "model_id": "c6a2b285451f4140b586c7e2f6b5648b",
       "version_major": 2,
       "version_minor": 0
      },
      "text/plain": [
       "  0%|          | 0/9 [00:00<?, ?ba/s]"
      ]
     },
     "metadata": {},
     "output_type": "display_data"
    },
    {
     "data": {
      "text/plain": [
       "DatasetDict({\n",
       "    train: Dataset({\n",
       "        features: ['labels', 'input_ids', 'attention_mask'],\n",
       "        num_rows: 20194\n",
       "    })\n",
       "    validation: Dataset({\n",
       "        features: ['labels', 'input_ids', 'attention_mask'],\n",
       "        num_rows: 5591\n",
       "    })\n",
       "    test: Dataset({\n",
       "        features: ['labels', 'input_ids', 'attention_mask'],\n",
       "        num_rows: 8375\n",
       "    })\n",
       "})"
      ]
     },
     "execution_count": 10,
     "metadata": {},
     "output_type": "execute_result"
    }
   ],
   "source": [
    "toxics_tokenized = toxics.map(tokenize_data, batched=True, remove_columns='text')\n",
    "toxics_tokenized"
   ]
  },
  {
   "cell_type": "code",
   "execution_count": 11,
   "metadata": {},
   "outputs": [
    {
     "name": "stdout",
     "output_type": "stream",
     "text": [
      "<s>\" Please do not vandalize pages, as you did with this edit to Vincent ( disambiguation ). If you continue to do so, you will be blocked from editing. \"</s><pad><pad><pad><pad><pad><pad><pad><pad><pad><pad><pad><pad><pad><pad><pad><pad><pad><pad><pad><pad><pad><pad><pad><pad><pad><pad><pad><pad><pad><pad><pad><pad><pad><pad><pad><pad><pad><pad><pad><pad><pad><pad><pad><pad><pad><pad><pad><pad><pad><pad><pad><pad><pad><pad><pad><pad><pad><pad><pad><pad><pad><pad><pad><pad><pad><pad><pad><pad><pad><pad><pad><pad><pad><pad><pad><pad><pad><pad><pad><pad><pad><pad><pad><pad><pad><pad><pad><pad><pad> label: 0\n"
     ]
    }
   ],
   "source": [
    "sample = toxics_tokenized['train'][0]\n",
    "print(tokenizer.decode(sample['input_ids']), f'label: {sample[\"labels\"]}')\n",
    "# [id2label[idx] for idx, label in enumerate(sample['labels']) if label == 1.0]"
   ]
  },
  {
   "cell_type": "code",
   "execution_count": 12,
   "metadata": {},
   "outputs": [],
   "source": [
    "toxics_tokenized.set_format('torch')"
   ]
  },
  {
   "cell_type": "code",
   "execution_count": 13,
   "metadata": {},
   "outputs": [],
   "source": [
    "trainloader = DataLoader(toxics_tokenized['train'], shuffle=True, batch_size=BATCH_SIZE)\n",
    "devloader = DataLoader(toxics_tokenized['validation'], shuffle=False, batch_size=BATCH_SIZE)\n",
    "testloader = DataLoader(toxics_tokenized['test'], shuffle=False, batch_size=BATCH_SIZE)"
   ]
  },
  {
   "cell_type": "code",
   "execution_count": 14,
   "metadata": {},
   "outputs": [],
   "source": [
    "optimizer = AdamW(model.parameters(), lr=2e-5, weight_decay=0.01)\n",
    "\n",
    "num_epochs = 10\n",
    "num_train_steps = num_epochs * len(trainloader)\n",
    "scheduler = get_scheduler('linear',\n",
    "                         optimizer=optimizer,\n",
    "                         num_warmup_steps=0,\n",
    "                         num_training_steps=num_train_steps)"
   ]
  },
  {
   "cell_type": "code",
   "execution_count": 15,
   "metadata": {},
   "outputs": [],
   "source": [
    "history = {}\n",
    "for i in ['train', 'dev', 'test']:\n",
    "    for j in ['loss', 'acc', 'f1', 'prec', 'rec']:\n",
    "        history[f'{i}_{j}'] = []"
   ]
  },
  {
   "cell_type": "code",
   "execution_count": 16,
   "metadata": {},
   "outputs": [
    {
     "data": {
      "application/vnd.jupyter.widget-view+json": {
       "model_id": "69975c397eb34c79865580770546f900",
       "version_major": 2,
       "version_minor": 0
      },
      "text/plain": [
       "  0%|          | 0/3160 [00:00<?, ?it/s]"
      ]
     },
     "metadata": {},
     "output_type": "display_data"
    },
    {
     "data": {
      "application/vnd.jupyter.widget-view+json": {
       "model_id": "",
       "version_major": 2,
       "version_minor": 0
      },
      "text/plain": [
       "Validation:   0%|          | 0/88 [00:00<?, ?it/s]"
      ]
     },
     "metadata": {},
     "output_type": "display_data"
    },
    {
     "name": "stdout",
     "output_type": "stream",
     "text": [
      "{'train_loss': 0.2241340800176693, 'train_acc': 0.9134371509679822, 'train_f1': 0.9134371509679822, 'train_prec': 0.9134371509679822, 'train_rec': 0.9134371509679822, 'train_rocauc': 0.9063061896679518, 'dev_loss': 0.17617177963256836, 'dev_acc': 0.9117647058823525, 'dev_f1': 0.9117647058823525, 'dev_prec': 0.9117647058823525, 'dev_rec': 0.9117647058823525, 'dev_rocauc': 0.9131944444444432, 'test_loss': 0, 'test_acc': 0, 'test_f1': 0, 'test_prec': 0, 'test_rec': 0, 'test_rocauc': 0}\n"
     ]
    },
    {
     "data": {
      "application/vnd.jupyter.widget-view+json": {
       "model_id": "",
       "version_major": 2,
       "version_minor": 0
      },
      "text/plain": [
       "Validation:   0%|          | 0/88 [00:00<?, ?it/s]"
      ]
     },
     "metadata": {},
     "output_type": "display_data"
    },
    {
     "name": "stdout",
     "output_type": "stream",
     "text": [
      "{'train_loss': 0.15049702945295013, 'train_acc': 0.9468569666790767, 'train_f1': 0.9468569666790767, 'train_prec': 0.9468569666790767, 'train_rec': 0.9468569666790767, 'train_rocauc': 0.9448481919507241, 'dev_loss': 0.1628216654062271, 'dev_acc': 0.9411764705882333, 'dev_f1': 0.9411764705882333, 'dev_prec': 0.9411764705882333, 'dev_rec': 0.9411764705882333, 'dev_rocauc': 0.9409722222222231, 'test_loss': 0, 'test_acc': 0, 'test_f1': 0, 'test_prec': 0, 'test_rec': 0, 'test_rocauc': 0}\n"
     ]
    },
    {
     "data": {
      "application/vnd.jupyter.widget-view+json": {
       "model_id": "",
       "version_major": 2,
       "version_minor": 0
      },
      "text/plain": [
       "Validation:   0%|          | 0/88 [00:00<?, ?it/s]"
      ]
     },
     "metadata": {},
     "output_type": "display_data"
    },
    {
     "name": "stdout",
     "output_type": "stream",
     "text": [
      "{'train_loss': 0.11310520441023798, 'train_acc': 0.9617897198436336, 'train_f1': 0.9617897198436336, 'train_prec': 0.9617897198436336, 'train_rec': 0.9617897198436336, 'train_rocauc': 0.9604652502015433, 'dev_loss': 0.0628209337592125, 'dev_acc': 0.9705882352941163, 'dev_f1': 0.9705882352941163, 'dev_prec': 0.9705882352941163, 'dev_rec': 0.9705882352941163, 'dev_rocauc': 0.96875, 'test_loss': 0, 'test_acc': 0, 'test_f1': 0, 'test_prec': 0, 'test_rec': 0, 'test_rocauc': 0}\n"
     ]
    },
    {
     "data": {
      "application/vnd.jupyter.widget-view+json": {
       "model_id": "",
       "version_major": 2,
       "version_minor": 0
      },
      "text/plain": [
       "Validation:   0%|          | 0/88 [00:00<?, ?it/s]"
      ]
     },
     "metadata": {},
     "output_type": "display_data"
    },
    {
     "name": "stdout",
     "output_type": "stream",
     "text": [
      "{'train_loss': 0.08202102586267446, 'train_acc': 0.9735026526433359, 'train_f1': 0.9735026526433359, 'train_prec': 0.9735026526433359, 'train_rec': 0.9735026526433359, 'train_rocauc': 0.9725310112397654, 'dev_loss': 0.12175202369689941, 'dev_acc': 0.9705882352941163, 'dev_f1': 0.9705882352941163, 'dev_prec': 0.9705882352941163, 'dev_rec': 0.9705882352941163, 'dev_rocauc': 0.98, 'test_loss': 0, 'test_acc': 0, 'test_f1': 0, 'test_prec': 0, 'test_rec': 0, 'test_rocauc': 0}\n"
     ]
    },
    {
     "data": {
      "application/vnd.jupyter.widget-view+json": {
       "model_id": "",
       "version_major": 2,
       "version_minor": 0
      },
      "text/plain": [
       "Validation:   0%|          | 0/88 [00:00<?, ?it/s]"
      ]
     },
     "metadata": {},
     "output_type": "display_data"
    },
    {
     "name": "stdout",
     "output_type": "stream",
     "text": [
      "{'train_loss': 0.05545682546275939, 'train_acc': 0.9830021407297096, 'train_f1': 0.9830021407297096, 'train_prec': 0.9830021407297096, 'train_rec': 0.9830021407297096, 'train_rocauc': 0.9823284721592465, 'dev_loss': 0.14812436699867249, 'dev_acc': 0.9411764705882333, 'dev_f1': 0.9411764705882333, 'dev_prec': 0.9411764705882333, 'dev_rec': 0.9411764705882333, 'dev_rocauc': 0.9545454545454536, 'test_loss': 0, 'test_acc': 0, 'test_f1': 0, 'test_prec': 0, 'test_rec': 0, 'test_rocauc': 0}\n"
     ]
    },
    {
     "data": {
      "application/vnd.jupyter.widget-view+json": {
       "model_id": "",
       "version_major": 2,
       "version_minor": 0
      },
      "text/plain": [
       "Validation:   0%|          | 0/88 [00:00<?, ?it/s]"
      ]
     },
     "metadata": {},
     "output_type": "display_data"
    },
    {
     "name": "stdout",
     "output_type": "stream",
     "text": [
      "{'train_loss': 0.04201822642522829, 'train_acc': 0.9878362341772152, 'train_f1': 0.9878362341772152, 'train_prec': 0.9878362341772152, 'train_rec': 0.9878362341772152, 'train_rocauc': 0.9873133444666051, 'dev_loss': 0.004088368732482195, 'dev_acc': 1.0, 'dev_f1': 1.0, 'dev_prec': 1.0, 'dev_rec': 1.0, 'dev_rocauc': 1.0, 'test_loss': 0, 'test_acc': 0, 'test_f1': 0, 'test_prec': 0, 'test_rec': 0, 'test_rocauc': 0}\n"
     ]
    },
    {
     "data": {
      "application/vnd.jupyter.widget-view+json": {
       "model_id": "",
       "version_major": 2,
       "version_minor": 0
      },
      "text/plain": [
       "Validation:   0%|          | 0/88 [00:00<?, ?it/s]"
      ]
     },
     "metadata": {},
     "output_type": "display_data"
    },
    {
     "name": "stdout",
     "output_type": "stream",
     "text": [
      "{'train_loss': 0.028854813406470857, 'train_acc': 0.9921438709977662, 'train_f1': 0.9921438709977662, 'train_prec': 0.9921438709977662, 'train_rec': 0.9921438709977662, 'train_rocauc': 0.9919460831726403, 'dev_loss': 0.0029003534000366926, 'dev_acc': 1.0, 'dev_f1': 1.0, 'dev_prec': 1.0, 'dev_rec': 1.0, 'dev_rocauc': 1.0, 'test_loss': 0, 'test_acc': 0, 'test_f1': 0, 'test_prec': 0, 'test_rec': 0, 'test_rocauc': 0}\n"
     ]
    },
    {
     "data": {
      "application/vnd.jupyter.widget-view+json": {
       "model_id": "",
       "version_major": 2,
       "version_minor": 0
      },
      "text/plain": [
       "Validation:   0%|          | 0/88 [00:00<?, ?it/s]"
      ]
     },
     "metadata": {},
     "output_type": "display_data"
    },
    {
     "name": "stdout",
     "output_type": "stream",
     "text": [
      "{'train_loss': 0.021487822503446826, 'train_acc': 0.9941653481012658, 'train_f1': 0.9941653481012658, 'train_prec': 0.9941653481012658, 'train_rec': 0.9941653481012658, 'train_rocauc': 0.9940118290927072, 'dev_loss': 0.00228686211630702, 'dev_acc': 1.0, 'dev_f1': 1.0, 'dev_prec': 1.0, 'dev_rec': 1.0, 'dev_rocauc': 1.0, 'test_loss': 0, 'test_acc': 0, 'test_f1': 0, 'test_prec': 0, 'test_rec': 0, 'test_rocauc': 0}\n"
     ]
    },
    {
     "data": {
      "application/vnd.jupyter.widget-view+json": {
       "model_id": "",
       "version_major": 2,
       "version_minor": 0
      },
      "text/plain": [
       "Validation:   0%|          | 0/88 [00:00<?, ?it/s]"
      ]
     },
     "metadata": {},
     "output_type": "display_data"
    },
    {
     "name": "stdout",
     "output_type": "stream",
     "text": [
      "{'train_loss': 0.014761446147738614, 'train_acc': 0.9954509493670886, 'train_f1': 0.9954509493670886, 'train_prec': 0.9954509493670886, 'train_rec': 0.9954509493670886, 'train_rocauc': 0.9955194960524496, 'dev_loss': 0.0016202823026105762, 'dev_acc': 1.0, 'dev_f1': 1.0, 'dev_prec': 1.0, 'dev_rec': 1.0, 'dev_rocauc': 1.0, 'test_loss': 0, 'test_acc': 0, 'test_f1': 0, 'test_prec': 0, 'test_rec': 0, 'test_rocauc': 0}\n"
     ]
    },
    {
     "data": {
      "application/vnd.jupyter.widget-view+json": {
       "model_id": "",
       "version_major": 2,
       "version_minor": 0
      },
      "text/plain": [
       "Validation:   0%|          | 0/88 [00:00<?, ?it/s]"
      ]
     },
     "metadata": {},
     "output_type": "display_data"
    },
    {
     "name": "stdout",
     "output_type": "stream",
     "text": [
      "{'train_loss': 0.011522658074590013, 'train_acc': 0.9966492926284438, 'train_f1': 0.9966492926284438, 'train_prec': 0.9966492926284438, 'train_rec': 0.9966492926284438, 'train_rocauc': 0.9966845583095991, 'dev_loss': 0.0769820436835289, 'dev_acc': 0.9411764705882333, 'dev_f1': 0.9411764705882333, 'dev_prec': 0.9411764705882333, 'dev_rec': 0.9411764705882333, 'dev_rocauc': 0.9565217391304361, 'test_loss': 0, 'test_acc': 0, 'test_f1': 0, 'test_prec': 0, 'test_rec': 0, 'test_rocauc': 0}\n"
     ]
    }
   ],
   "source": [
    "progress_bar = tqdm(range(num_train_steps))\n",
    "\n",
    "best_loss = float('inf')\n",
    "for epoch in range(num_epochs):\n",
    "    \n",
    "    model.train()\n",
    "    \n",
    "    step_history = {}\n",
    "    for i in ['train', 'dev', 'test']:\n",
    "        for j in ['loss', 'acc', 'f1', 'prec', 'rec', 'rocauc']:\n",
    "            step_history[f'{i}_{j}'] = 0\n",
    "    \n",
    "    for batch in trainloader:\n",
    "        batch = {k: v.to(DEVICE) for k, v in batch.items()}\n",
    "        outputs = model(**batch)\n",
    "        labels = batch['labels'].cpu().numpy()\n",
    "        \n",
    "        logits = outputs.logits.squeeze().detach().cpu()\n",
    "        probs = torch.sigmoid(logits)\n",
    "        preds = torch.argmax(probs, dim=1).numpy()        \n",
    "        \n",
    "        loss = outputs.loss\n",
    "        loss.backward()\n",
    "        \n",
    "        optimizer.step()\n",
    "        scheduler.step()\n",
    "        optimizer.zero_grad()\n",
    "        progress_bar.update(1)\n",
    "        \n",
    "        # logging\n",
    "        step_history['train_loss'] += loss.item()\n",
    "        step_history['train_acc'] += accuracy_score(labels, preds)\n",
    "        step_history['train_f1'] += f1_score(labels, preds, average='micro')\n",
    "        step_history['train_prec'] += precision_score(labels, preds, average='micro')\n",
    "        step_history['train_rec'] += recall_score(labels, preds, average='micro')\n",
    "        step_history['train_rocauc'] += roc_auc_score(labels, preds, average='micro')\n",
    "        \n",
    "    step_history['train_loss'] /= len(trainloader)\n",
    "    step_history['train_acc'] /= len(trainloader)\n",
    "    step_history['train_f1'] /= len(trainloader)\n",
    "    step_history['train_prec'] /= len(trainloader)\n",
    "    step_history['train_rec'] /= len(trainloader)\n",
    "    step_history['train_rocauc'] /= len(trainloader)\n",
    "    \n",
    "\n",
    "    model.eval()\n",
    "    with torch.no_grad():\n",
    "        for dbatch in tqdm(devloader, leave=False, desc='Validation'):\n",
    "            batch = {k: v.to(DEVICE) for k, v in batch.items()}\n",
    "            outputs = model(**batch)\n",
    "            labels = batch['labels'].cpu().numpy()\n",
    "\n",
    "            logits = outputs.logits.squeeze().detach().cpu()\n",
    "            probs = torch.sigmoid(logits)\n",
    "            preds = torch.argmax(probs, dim=1).numpy()        \n",
    "\n",
    "            loss = outputs.loss\n",
    "            \n",
    "            # logging\n",
    "            step_history['dev_loss'] += loss.item()\n",
    "            step_history['dev_acc'] += accuracy_score(labels, preds)\n",
    "            step_history['dev_f1'] += f1_score(labels, preds, average='micro')\n",
    "            step_history['dev_prec'] += precision_score(labels, preds, average='micro')\n",
    "            step_history['dev_rec'] += recall_score(labels, preds, average='micro')\n",
    "            step_history['dev_rocauc'] += roc_auc_score(labels, preds, average='micro')\n",
    "            \n",
    "    step_history['dev_loss'] /= len(devloader)\n",
    "    step_history['dev_acc'] /= len(devloader)\n",
    "    step_history['dev_f1'] /= len(devloader)\n",
    "    step_history['dev_prec'] /= len(devloader)\n",
    "    step_history['dev_rec'] /= len(devloader)\n",
    "    step_history['dev_rocauc'] /= len(devloader)\n",
    "    \n",
    "    if step_history['dev_loss'] <= best_loss:\n",
    "        torch.save(model.state_dict(), '../model/robertoxic-classifier.pth')\n",
    "    \n",
    "    \n",
    "    for key in history:\n",
    "        history[key].append(step_history[key])\n",
    "        \n",
    "    print(step_history)"
   ]
  },
  {
   "cell_type": "code",
   "execution_count": 17,
   "metadata": {},
   "outputs": [
    {
     "data": {
      "image/png": "[encoded data removed]",
      "text/plain": [
       "<Figure size 720x360 with 2 Axes>"
      ]
     },
     "metadata": {
      "needs_background": "light"
     },
     "output_type": "display_data"
    }
   ],
   "source": [
    "fig, ax = plt.subplots(1,2, figsize=(10,5))\n",
    "ax[0].plot(range(num_epochs), history['train_loss'], label='Train Loss')\n",
    "ax[0].plot(range(num_epochs), history['dev_loss'], label='Dev Loss')\n",
    "ax[0].legend()\n",
    "\n",
    "ax[1].plot(range(num_epochs), history['train_f1'], label='Train F1')\n",
    "ax[1].plot(range(num_epochs), history['dev_f1'], label='Dev F1')\n",
    "ax[1].legend()\n",
    "\n",
    "plt.show()"
   ]
  },
  {
   "cell_type": "code",
   "execution_count": 38,
   "metadata": {},
   "outputs": [],
   "source": [
    "torch.save(model.state_dict(), '../model/robertoxic-classifier.pth')"
   ]
  },
  {
   "cell_type": "markdown",
   "metadata": {},
   "source": [
    "### Finetuning Skoltech Jigsaw"
   ]
  },
  {
   "cell_type": "code",
   "execution_count": 8,
   "metadata": {},
   "outputs": [
    {
     "data": {
      "text/plain": [
       "<All keys matched successfully>"
      ]
     },
     "execution_count": 8,
     "metadata": {},
     "output_type": "execute_result"
    }
   ],
   "source": [
    "model.load_state_dict(torch.load('../model/robertoxic-classifier.pth'))"
   ]
  },
  {
   "cell_type": "code",
   "execution_count": 18,
   "metadata": {},
   "outputs": [
    {
     "name": "stdout",
     "output_type": "stream",
     "text": [
      "val.tox 6648\n",
      "test.tox 10000\n",
      "val.norm 6648\n",
      "train.norm 135390\n",
      "test.norm 10000\n",
      "train.tox 135390\n"
     ]
    }
   ],
   "source": [
    "import os\n",
    "\n",
    "raw_data = {}\n",
    "DATA_PATH = '../../data/seq2seq/'\n",
    "\n",
    "for file in os.listdir(DATA_PATH):\n",
    "    if '.' not in file:\n",
    "        continue\n",
    "    meta_ = file.split('.')\n",
    "    with open(DATA_PATH + file, 'r', encoding='utf-8') as f:        \n",
    "#         raw_data[f'{file.replace(\".\", \"_\")}'] = [s.strip() for s in f.readlines()]\n",
    "        data = [s.strip() for s in f.readlines()]\n",
    "        labels = [1] * len(data) if meta_[1] == 'tox' else [0] * len(data)\n",
    "        print(file, len(data))\n",
    "    \n",
    "    if meta_[0] not in raw_data.keys():\n",
    "        raw_data[meta_[0]] = data\n",
    "        raw_data[f'{meta_[0]}_labels'] = labels\n",
    "    else:\n",
    "        raw_data[meta_[0]].extend(data)\n",
    "        raw_data[f'{meta_[0]}_labels'].extend(labels)"
   ]
  },
  {
   "cell_type": "code",
   "execution_count": 19,
   "metadata": {
    "scrolled": true
   },
   "outputs": [],
   "source": [
    "ft_train = pd.DataFrame(data={'text': raw_data['train'], \n",
    "                              'labels': raw_data['train_labels']})\n",
    "ft_valid = pd.DataFrame(data={'text': raw_data['val'],\n",
    "                              'labels': raw_data['val_labels']})\n",
    "ft_test = pd.DataFrame(data={'text': raw_data['test'],\n",
    "                             'labels': raw_data['test_labels']})"
   ]
  },
  {
   "cell_type": "code",
   "execution_count": 20,
   "metadata": {},
   "outputs": [
    {
     "data": {
      "text/plain": [
       "0    135390\n",
       "1    135390\n",
       "Name: labels, dtype: int64"
      ]
     },
     "execution_count": 20,
     "metadata": {},
     "output_type": "execute_result"
    }
   ],
   "source": [
    "ft_train.labels.value_counts()"
   ]
  },
  {
   "cell_type": "code",
   "execution_count": 21,
   "metadata": {},
   "outputs": [
    {
     "data": {
      "text/plain": [
       "DatasetDict({\n",
       "    train: Dataset({\n",
       "        features: ['text', 'labels'],\n",
       "        num_rows: 270780\n",
       "    })\n",
       "    validation: Dataset({\n",
       "        features: ['text', 'labels'],\n",
       "        num_rows: 13296\n",
       "    })\n",
       "    test: Dataset({\n",
       "        features: ['text', 'labels'],\n",
       "        num_rows: 20000\n",
       "    })\n",
       "})"
      ]
     },
     "execution_count": 21,
     "metadata": {},
     "output_type": "execute_result"
    }
   ],
   "source": [
    "ft_toxics = DatasetDict({\n",
    "    'train': Dataset.from_pandas(ft_train[['text', 'labels']]),\n",
    "    'validation': Dataset.from_pandas(ft_valid[['text', 'labels']]),\n",
    "    'test': Dataset.from_pandas(ft_test[['text', 'labels']])\n",
    "})\n",
    "\n",
    "ft_toxics"
   ]
  },
  {
   "cell_type": "code",
   "execution_count": 22,
   "metadata": {
    "scrolled": false
   },
   "outputs": [
    {
     "data": {
      "application/vnd.jupyter.widget-view+json": {
       "model_id": "2fe513579dc74e869a0d017aac99e45f",
       "version_major": 2,
       "version_minor": 0
      },
      "text/plain": [
       "  0%|          | 0/271 [00:00<?, ?ba/s]"
      ]
     },
     "metadata": {},
     "output_type": "display_data"
    },
    {
     "data": {
      "application/vnd.jupyter.widget-view+json": {
       "model_id": "5dfa47f6d11b49c491a7441a1dd06958",
       "version_major": 2,
       "version_minor": 0
      },
      "text/plain": [
       "  0%|          | 0/14 [00:00<?, ?ba/s]"
      ]
     },
     "metadata": {},
     "output_type": "display_data"
    },
    {
     "data": {
      "application/vnd.jupyter.widget-view+json": {
       "model_id": "f7df505b52a94c92a291b998d542a08f",
       "version_major": 2,
       "version_minor": 0
      },
      "text/plain": [
       "  0%|          | 0/20 [00:00<?, ?ba/s]"
      ]
     },
     "metadata": {},
     "output_type": "display_data"
    },
    {
     "data": {
      "text/plain": [
       "DatasetDict({\n",
       "    train: Dataset({\n",
       "        features: ['labels', 'input_ids', 'attention_mask'],\n",
       "        num_rows: 270780\n",
       "    })\n",
       "    validation: Dataset({\n",
       "        features: ['labels', 'input_ids', 'attention_mask'],\n",
       "        num_rows: 13296\n",
       "    })\n",
       "    test: Dataset({\n",
       "        features: ['labels', 'input_ids', 'attention_mask'],\n",
       "        num_rows: 20000\n",
       "    })\n",
       "})"
      ]
     },
     "execution_count": 22,
     "metadata": {},
     "output_type": "execute_result"
    }
   ],
   "source": [
    "ft_toxics_tokenized = ft_toxics.map(tokenize_data, batched=True, remove_columns='text')\n",
    "ft_toxics_tokenized"
   ]
  },
  {
   "cell_type": "code",
   "execution_count": 23,
   "metadata": {},
   "outputs": [
    {
     "name": "stdout",
     "output_type": "stream",
     "text": [
      "<s>but i do have economic creds, so i know of which i speak.</s><pad><pad><pad><pad><pad><pad><pad><pad><pad><pad><pad><pad><pad><pad><pad><pad><pad><pad><pad><pad><pad><pad><pad><pad><pad><pad><pad><pad><pad><pad><pad><pad><pad><pad><pad><pad><pad><pad><pad><pad><pad><pad><pad><pad><pad><pad><pad><pad><pad><pad><pad><pad><pad><pad><pad><pad><pad><pad><pad><pad><pad><pad><pad><pad><pad><pad><pad><pad><pad><pad><pad><pad><pad><pad><pad><pad><pad><pad><pad><pad><pad><pad><pad><pad><pad><pad><pad><pad><pad><pad><pad><pad><pad><pad><pad><pad><pad><pad><pad><pad><pad><pad><pad><pad><pad><pad><pad><pad><pad><pad> label: 0\n"
     ]
    }
   ],
   "source": [
    "ft_sample = ft_toxics_tokenized['train'][5]\n",
    "print(tokenizer.decode(ft_sample['input_ids']), f'label: {ft_sample[\"labels\"]}')\n",
    "# [id2label[idx] for idx, label in enumerate(sample['labels']) if label == 1.0]"
   ]
  },
  {
   "cell_type": "code",
   "execution_count": 24,
   "metadata": {},
   "outputs": [],
   "source": [
    "ft_toxics_tokenized.set_format('torch')"
   ]
  },
  {
   "cell_type": "code",
   "execution_count": 25,
   "metadata": {},
   "outputs": [],
   "source": [
    "trainloader = DataLoader(ft_toxics_tokenized['train'], shuffle=True, batch_size=BATCH_SIZE)\n",
    "devloader = DataLoader(ft_toxics_tokenized['validation'], shuffle=False, batch_size=BATCH_SIZE)\n",
    "testloader = DataLoader(ft_toxics_tokenized['test'], shuffle=False, batch_size=BATCH_SIZE)"
   ]
  },
  {
   "cell_type": "code",
   "execution_count": 26,
   "metadata": {},
   "outputs": [],
   "source": [
    "history = {}\n",
    "for i in ['train', 'dev', 'test']:\n",
    "    for j in ['loss', 'acc', 'f1', 'prec', 'rec']:\n",
    "        history[f'ft_{i}_{j}'] = []"
   ]
  },
  {
   "cell_type": "code",
   "execution_count": 27,
   "metadata": {},
   "outputs": [],
   "source": [
    "num_epochs = 3\n",
    "num_train_steps = num_epochs * len(trainloader)\n",
    "optimizer = AdamW(model.parameters(), lr=2e-5, weight_decay=0.01)\n",
    "scheduler = get_scheduler('linear',\n",
    "                         optimizer=optimizer,\n",
    "                         num_warmup_steps=0,\n",
    "                         num_training_steps=num_train_steps)"
   ]
  },
  {
   "cell_type": "code",
   "execution_count": 28,
   "metadata": {
    "scrolled": false
   },
   "outputs": [
    {
     "data": {
      "application/vnd.jupyter.widget-view+json": {
       "model_id": "f315c4bce487473f9ea2f547150646a1",
       "version_major": 2,
       "version_minor": 0
      },
      "text/plain": [
       "  0%|          | 0/12693 [00:00<?, ?it/s]"
      ]
     },
     "metadata": {},
     "output_type": "display_data"
    },
    {
     "data": {
      "application/vnd.jupyter.widget-view+json": {
       "model_id": "",
       "version_major": 2,
       "version_minor": 0
      },
      "text/plain": [
       "Validation:   0%|          | 0/208 [00:00<?, ?it/s]"
      ]
     },
     "metadata": {},
     "output_type": "display_data"
    },
    {
     "name": "stdout",
     "output_type": "stream",
     "text": [
      "{'ft_dev_acc': 0.9499999999999973,\n",
      " 'ft_dev_f1': 0.9499999999999973,\n",
      " 'ft_dev_loss': 0.10859517008066177,\n",
      " 'ft_dev_prec': 0.9499999999999973,\n",
      " 'ft_dev_rec': 0.9499999999999973,\n",
      " 'ft_dev_rocauc': 0.953125,\n",
      " 'ft_test_acc': 0,\n",
      " 'ft_test_f1': 0,\n",
      " 'ft_test_loss': 0,\n",
      " 'ft_test_prec': 0,\n",
      " 'ft_test_rec': 0,\n",
      " 'ft_test_rocauc': 0,\n",
      " 'ft_train_acc': 0.9620905715748838,\n",
      " 'ft_train_f1': 0.9620905715748838,\n",
      " 'ft_train_loss': 0.11030269045289408,\n",
      " 'ft_train_prec': 0.9620905715748838,\n",
      " 'ft_train_rec': 0.9620905715748838,\n",
      " 'ft_train_rocauc': 0.9620932626217615}\n"
     ]
    },
    {
     "data": {
      "application/vnd.jupyter.widget-view+json": {
       "model_id": "",
       "version_major": 2,
       "version_minor": 0
      },
      "text/plain": [
       "Validation:   0%|          | 0/208 [00:00<?, ?it/s]"
      ]
     },
     "metadata": {},
     "output_type": "display_data"
    },
    {
     "name": "stdout",
     "output_type": "stream",
     "text": [
      "{'ft_dev_acc': 1.0,\n",
      " 'ft_dev_f1': 1.0,\n",
      " 'ft_dev_loss': 0.020879248157143593,\n",
      " 'ft_dev_prec': 1.0,\n",
      " 'ft_dev_rec': 1.0,\n",
      " 'ft_dev_rocauc': 1.0,\n",
      " 'ft_test_acc': 0,\n",
      " 'ft_test_f1': 0,\n",
      " 'ft_test_loss': 0,\n",
      " 'ft_test_prec': 0,\n",
      " 'ft_test_rec': 0,\n",
      " 'ft_test_rocauc': 0,\n",
      " 'ft_train_acc': 0.9767157586858899,\n",
      " 'ft_train_f1': 0.9767157586858899,\n",
      " 'ft_train_loss': 0.07326065222592948,\n",
      " 'ft_train_prec': 0.9767157586858899,\n",
      " 'ft_train_rec': 0.9767157586858899,\n",
      " 'ft_train_rocauc': 0.9767066900960252}\n"
     ]
    },
    {
     "data": {
      "application/vnd.jupyter.widget-view+json": {
       "model_id": "",
       "version_major": 2,
       "version_minor": 0
      },
      "text/plain": [
       "Validation:   0%|          | 0/208 [00:00<?, ?it/s]"
      ]
     },
     "metadata": {},
     "output_type": "display_data"
    },
    {
     "name": "stdout",
     "output_type": "stream",
     "text": [
      "{'ft_dev_acc': 0.9833333333333288,\n",
      " 'ft_dev_f1': 0.9833333333333288,\n",
      " 'ft_dev_loss': 0.021034590899944305,\n",
      " 'ft_dev_prec': 0.9833333333333288,\n",
      " 'ft_dev_rec': 0.9833333333333288,\n",
      " 'ft_dev_rocauc': 0.9848484848484899,\n",
      " 'ft_test_acc': 0,\n",
      " 'ft_test_f1': 0,\n",
      " 'ft_test_loss': 0,\n",
      " 'ft_test_prec': 0,\n",
      " 'ft_test_rec': 0,\n",
      " 'ft_test_rocauc': 0,\n",
      " 'ft_train_acc': 0.9840977802725912,\n",
      " 'ft_train_f1': 0.9840977802725912,\n",
      " 'ft_train_loss': 0.05454668200421172,\n",
      " 'ft_train_prec': 0.9840977802725912,\n",
      " 'ft_train_rec': 0.9840977802725912,\n",
      " 'ft_train_rocauc': 0.9841389954592951}\n"
     ]
    }
   ],
   "source": [
    "progress_bar = tqdm(range(num_train_steps))\n",
    "\n",
    "best_loss = float('inf')\n",
    "for epoch in range(num_epochs):\n",
    "    \n",
    "    model.train()\n",
    "    \n",
    "    step_history = {}\n",
    "    for i in ['train', 'dev', 'test']:\n",
    "        for j in ['loss', 'acc', 'f1', 'prec', 'rec', 'rocauc']:\n",
    "            step_history[f'ft_{i}_{j}'] = 0\n",
    "    \n",
    "    for batch in trainloader:\n",
    "        batch = {k: v.to(DEVICE) for k, v in batch.items()}\n",
    "        outputs = model(**batch)\n",
    "        labels = batch['labels'].cpu().numpy()\n",
    "        \n",
    "        logits = outputs.logits.squeeze().detach().cpu()\n",
    "        probs = torch.sigmoid(logits)\n",
    "        preds = torch.argmax(probs, dim=1).numpy()        \n",
    "        \n",
    "        loss = outputs.loss\n",
    "        loss.backward()\n",
    "        \n",
    "        optimizer.step()\n",
    "        scheduler.step()\n",
    "        optimizer.zero_grad()\n",
    "        progress_bar.update(1)\n",
    "        \n",
    "        # logging\n",
    "        step_history['ft_train_loss'] += loss.item()\n",
    "        step_history['ft_train_acc'] += accuracy_score(labels, preds)\n",
    "        step_history['ft_train_f1'] += f1_score(labels, preds, average='micro')\n",
    "        step_history['ft_train_prec'] += precision_score(labels, preds, average='micro')\n",
    "        step_history['ft_train_rec'] += recall_score(labels, preds, average='micro')\n",
    "        step_history['ft_train_rocauc'] += roc_auc_score(labels, preds, average='micro')\n",
    "        \n",
    "    step_history['ft_train_loss'] /= len(trainloader)\n",
    "    step_history['ft_train_acc'] /= len(trainloader)\n",
    "    step_history['ft_train_f1'] /= len(trainloader)\n",
    "    step_history['ft_train_prec'] /= len(trainloader)\n",
    "    step_history['ft_train_rec'] /= len(trainloader)\n",
    "    step_history['ft_train_rocauc'] /= len(trainloader)\n",
    "    \n",
    "\n",
    "    model.eval()\n",
    "    with torch.no_grad():\n",
    "        for dbatch in tqdm(devloader, leave=False, desc='Validation'):\n",
    "            batch = {k: v.to(DEVICE) for k, v in batch.items()}\n",
    "            outputs = model(**batch)\n",
    "            labels = batch['labels'].cpu().numpy()\n",
    "\n",
    "            logits = outputs.logits.squeeze().detach().cpu()\n",
    "            probs = torch.sigmoid(logits)\n",
    "            preds = torch.argmax(probs, dim=1).numpy()        \n",
    "\n",
    "            loss = outputs.loss\n",
    "            \n",
    "            # logging\n",
    "            step_history['ft_dev_loss'] += loss.item()\n",
    "            step_history['ft_dev_acc'] += accuracy_score(labels, preds)\n",
    "            step_history['ft_dev_f1'] += f1_score(labels, preds, average='micro')\n",
    "            step_history['ft_dev_prec'] += precision_score(labels, preds, average='micro')\n",
    "            step_history['ft_dev_rec'] += recall_score(labels, preds, average='micro')\n",
    "            step_history['ft_dev_rocauc'] += roc_auc_score(labels, preds, average='micro')\n",
    "            \n",
    "    step_history['ft_dev_loss'] /= len(devloader)\n",
    "    step_history['ft_dev_acc'] /= len(devloader)\n",
    "    step_history['ft_dev_f1'] /= len(devloader)\n",
    "    step_history['ft_dev_prec'] /= len(devloader)\n",
    "    step_history['ft_dev_rec'] /= len(devloader)\n",
    "    step_history['ft_dev_rocauc'] /= len(devloader)\n",
    "    \n",
    "    if step_history['ft_dev_loss'] <= best_loss:\n",
    "        torch.save(model.state_dict(), '../model/ft-robertoxic-classifier.pth')        \n",
    "    \n",
    "    for key in history:\n",
    "        history[key].append(step_history[key])\n",
    "        \n",
    "    pprint(step_history)"
   ]
  },
  {
   "cell_type": "code",
   "execution_count": 31,
   "metadata": {},
   "outputs": [
    {
     "data": {
      "image/png": "[encoded data removed]",
      "text/plain": [
       "<Figure size 720x360 with 2 Axes>"
      ]
     },
     "metadata": {
      "needs_background": "light"
     },
     "output_type": "display_data"
    }
   ],
   "source": [
    "fig, ax = plt.subplots(1,2, figsize=(10,5))\n",
    "ax[0].plot(range(num_epochs), history['ft_train_loss'], label='Train Loss')\n",
    "ax[0].plot(range(num_epochs), history['ft_dev_loss'], label='Dev Loss')\n",
    "ax[0].legend()\n",
    "\n",
    "ax[1].plot(range(num_epochs), history['ft_train_f1'], label='Train F1')\n",
    "ax[1].plot(range(num_epochs), history['ft_dev_f1'], label='Dev F1')\n",
    "ax[1].legend()\n",
    "\n",
    "plt.show()"
   ]
  },
  {
   "cell_type": "code",
   "execution_count": 41,
   "metadata": {},
   "outputs": [
    {
     "data": {
      "application/vnd.jupyter.widget-view+json": {
       "model_id": "9654f3b5427f40cb8ce1b78012978ceb",
       "version_major": 2,
       "version_minor": 0
      },
      "text/plain": [
       "Testing:   0%|          | 0/313 [00:00<?, ?it/s]"
      ]
     },
     "metadata": {},
     "output_type": "display_data"
    }
   ],
   "source": [
    "with torch.no_grad():\n",
    "    for dbatch in tqdm(testloader, desc='Testing'):\n",
    "        batch = {k: v.to(DEVICE) for k, v in batch.items()}\n",
    "        outputs = model(**batch)\n",
    "        labels = batch['labels'].cpu().numpy()\n",
    "\n",
    "        logits = outputs.logits.squeeze().detach().cpu()\n",
    "        probs = torch.sigmoid(logits)\n",
    "        preds = torch.argmax(probs, dim=1).numpy()        \n",
    "\n",
    "        loss = outputs.loss\n",
    "\n",
    "        # logging\n",
    "        step_history['ft_test_loss'] += loss.item()\n",
    "        step_history['ft_test_acc'] += accuracy_score(labels, preds)\n",
    "        step_history['ft_test_f1'] += f1_score(labels, preds, average='micro')\n",
    "        step_history['ft_test_prec'] += precision_score(labels, preds, average='micro')\n",
    "        step_history['ft_test_rec'] += recall_score(labels, preds, average='micro')\n",
    "        step_history['ft_test_rocauc'] += roc_auc_score(labels, preds, average='micro')\n",
    "        \n",
    "step_history['ft_test_loss'] /= len(testloader)\n",
    "step_history['ft_test_acc'] /= len(testloader)\n",
    "step_history['ft_test_f1'] /= len(testloader)\n",
    "step_history['ft_test_prec'] /= len(testloader)\n",
    "step_history['ft_test_rec'] /= len(testloader)\n",
    "step_history['ft_test_rocauc'] /= len(testloader)"
   ]
  },
  {
   "cell_type": "code",
   "execution_count": 42,
   "metadata": {
    "scrolled": false
   },
   "outputs": [
    {
     "data": {
      "text/plain": [
       "{'ft_train_loss': 0.05454668200421172,\n",
       " 'ft_train_acc': 0.9840977802725912,\n",
       " 'ft_train_f1': 0.9840977802725912,\n",
       " 'ft_train_prec': 0.9840977802725912,\n",
       " 'ft_train_rec': 0.9840977802725912,\n",
       " 'ft_train_rocauc': 0.9841389954592951,\n",
       " 'ft_dev_loss': 0.021034590899944305,\n",
       " 'ft_dev_acc': 0.9833333333333288,\n",
       " 'ft_dev_f1': 0.9833333333333288,\n",
       " 'ft_dev_prec': 0.9833333333333288,\n",
       " 'ft_dev_rec': 0.9833333333333288,\n",
       " 'ft_dev_rocauc': 0.9848484848484899,\n",
       " 'ft_test_loss': 0.021034590899944305,\n",
       " 'ft_test_acc': 0.9833333333333307,\n",
       " 'ft_test_f1': 0.9833333333333307,\n",
       " 'ft_test_prec': 0.9833333333333307,\n",
       " 'ft_test_rec': 0.9833333333333307,\n",
       " 'ft_test_rocauc': 0.9848484848484929}"
      ]
     },
     "execution_count": 42,
     "metadata": {},
     "output_type": "execute_result"
    }
   ],
   "source": [
    "step_history"
   ]
  },
  {
   "cell_type": "code",
   "execution_count": 43,
   "metadata": {},
   "outputs": [],
   "source": [
    "torch.save(model.state_dict(), '../model/ft-robertoxic-classifier.pth')"
   ]
  },
  {
   "cell_type": "markdown",
   "metadata": {},
   "source": [
    "### Infer on generated dataset"
   ]
  },
  {
   "cell_type": "code",
   "execution_count": 6,
   "metadata": {},
   "outputs": [
    {
     "name": "stdout",
     "output_type": "stream",
     "text": [
      "Load checkpoint\n"
     ]
    }
   ],
   "source": [
    "model = load_checkpoint('../model/ft-robertoxic-classifier.pth', model=model)"
   ]
  },
  {
   "cell_type": "code",
   "execution_count": 50,
   "metadata": {
    "scrolled": true
   },
   "outputs": [],
   "source": [
    "train_ruen = pd.read_csv('../../data/backtranslation/ruen_train.txt', sep='\\t', index_col=0)\n",
    "dev_ruen = pd.read_csv('../../data/backtranslation/ruen_valid.txt', sep='\\t', index_col=0)\n",
    "test_ruen = pd.read_csv('../../data/backtranslation/ruen_test.txt', sep='\\t', index_col=0)"
   ]
  },
  {
   "cell_type": "code",
   "execution_count": 52,
   "metadata": {},
   "outputs": [
    {
     "data": {
      "text/html": [
       "<div>\n",
       "<style scoped>\n",
       "    .dataframe tbody tr th:only-of-type {\n",
       "        vertical-align: middle;\n",
       "    }\n",
       "\n",
       "    .dataframe tbody tr th {\n",
       "        vertical-align: top;\n",
       "    }\n",
       "\n",
       "    .dataframe thead th {\n",
       "        text-align: right;\n",
       "    }\n",
       "</style>\n",
       "<table border=\"1\" class=\"dataframe\">\n",
       "  <thead>\n",
       "    <tr style=\"text-align: right;\">\n",
       "      <th></th>\n",
       "      <th>translated</th>\n",
       "      <th>original</th>\n",
       "      <th>source</th>\n",
       "    </tr>\n",
       "  </thead>\n",
       "  <tbody>\n",
       "    <tr>\n",
       "      <th>0</th>\n",
       "      <td>Fuck you, you nixon idiot.</td>\n",
       "      <td>Пошел ты на хуй, никсонский болван.</td>\n",
       "      <td>fuck you , you nixonian twit .</td>\n",
       "    </tr>\n",
       "    <tr>\n",
       "      <th>1</th>\n",
       "      <td>Just another angry and dirty anti-tramp, cool ...</td>\n",
       "      <td>просто еще один злобный и грязный антитрамп, п...</td>\n",
       "      <td>just another vicious and trashy antitrump , pr...</td>\n",
       "    </tr>\n",
       "    <tr>\n",
       "      <th>2</th>\n",
       "      <td>If you want to talk to the hypocrites, Bauer, ...</td>\n",
       "      <td>Если ты хочешь поговорить с лицемерами, Бауэр,...</td>\n",
       "      <td>if you want to talk hypocrites , bauer , im up...</td>\n",
       "    </tr>\n",
       "    <tr>\n",
       "      <th>3</th>\n",
       "      <td>The fact that you were shocked by the reaction...</td>\n",
       "      <td>То, что ты был шокирован ответной реакцией, ли...</td>\n",
       "      <td>that you were shocked by the backlash only fur...</td>\n",
       "    </tr>\n",
       "    <tr>\n",
       "      <th>4</th>\n",
       "      <td>You all suck the shit out of Shapiros and lick...</td>\n",
       "      <td>Вы все сосёте хуй шапироса и лижете его маму!</td>\n",
       "      <td>you all suck shapiros cock and lick his mother...</td>\n",
       "    </tr>\n",
       "  </tbody>\n",
       "</table>\n",
       "</div>"
      ],
      "text/plain": [
       "                                          translated  \\\n",
       "0                         Fuck you, you nixon idiot.   \n",
       "1  Just another angry and dirty anti-tramp, cool ...   \n",
       "2  If you want to talk to the hypocrites, Bauer, ...   \n",
       "3  The fact that you were shocked by the reaction...   \n",
       "4  You all suck the shit out of Shapiros and lick...   \n",
       "\n",
       "                                            original  \\\n",
       "0                Пошел ты на хуй, никсонский болван.   \n",
       "1  просто еще один злобный и грязный антитрамп, п...   \n",
       "2  Если ты хочешь поговорить с лицемерами, Бауэр,...   \n",
       "3  То, что ты был шокирован ответной реакцией, ли...   \n",
       "4      Вы все сосёте хуй шапироса и лижете его маму!   \n",
       "\n",
       "                                              source  \n",
       "0                     fuck you , you nixonian twit .  \n",
       "1  just another vicious and trashy antitrump , pr...  \n",
       "2  if you want to talk hypocrites , bauer , im up...  \n",
       "3  that you were shocked by the backlash only fur...  \n",
       "4  you all suck shapiros cock and lick his mother...  "
      ]
     },
     "execution_count": 52,
     "metadata": {},
     "output_type": "execute_result"
    }
   ],
   "source": [
    "train_ruen.head()"
   ]
  },
  {
   "cell_type": "code",
   "execution_count": 54,
   "metadata": {},
   "outputs": [],
   "source": [
    "# remap and reorder columns\n",
    "train_ruen.rename(columns={'translated': 'backtranslate', 'original': 'translate'}, inplace=True)\n",
    "train_ruen = train_ruen[['source', 'translate', 'backtranslate']]\n",
    "\n",
    "dev_ruen.rename(columns={'translated': 'backtranslate', 'original': 'translate'}, inplace=True)\n",
    "dev_ruen = dev_ruen[['source', 'translate', 'backtranslate']]\n",
    "\n",
    "test_ruen.rename(columns={'translated': 'backtranslate', 'original': 'translate'}, inplace=True)\n",
    "test_ruen = test_ruen[['source', 'translate', 'backtranslate']]"
   ]
  },
  {
   "cell_type": "code",
   "execution_count": 55,
   "metadata": {},
   "outputs": [],
   "source": [
    "ruen_toxics = DatasetDict({\n",
    "    'train': Dataset.from_pandas(train_ruen[['backtranslate']]),\n",
    "    'validation': Dataset.from_pandas(dev_ruen[['backtranslate']]),\n",
    "    'test': Dataset.from_pandas(test_ruen[['backtranslate']])\n",
    "})"
   ]
  },
  {
   "cell_type": "code",
   "execution_count": 56,
   "metadata": {},
   "outputs": [],
   "source": [
    "def tokenize_data(batch):\n",
    "    comment = batch['backtranslate']\n",
    "    \n",
    "    tokenized = tokenizer(\n",
    "        comment,\n",
    "        truncation=True,\n",
    "        max_length=128,\n",
    "        padding='max_length'\n",
    "    )\n",
    "\n",
    "    return tokenized"
   ]
  },
  {
   "cell_type": "code",
   "execution_count": 57,
   "metadata": {},
   "outputs": [
    {
     "data": {
      "application/vnd.jupyter.widget-view+json": {
       "model_id": "4d967db3bbaf4f84adbf65c37e3d73a4",
       "version_major": 2,
       "version_minor": 0
      },
      "text/plain": [
       "  0%|          | 0/136 [00:00<?, ?ba/s]"
      ]
     },
     "metadata": {},
     "output_type": "display_data"
    },
    {
     "data": {
      "application/vnd.jupyter.widget-view+json": {
       "model_id": "4dfe81519df44d0ab541e3ea249be885",
       "version_major": 2,
       "version_minor": 0
      },
      "text/plain": [
       "  0%|          | 0/7 [00:00<?, ?ba/s]"
      ]
     },
     "metadata": {},
     "output_type": "display_data"
    },
    {
     "data": {
      "application/vnd.jupyter.widget-view+json": {
       "model_id": "876d355823d64aa5afb0b64ed4096f79",
       "version_major": 2,
       "version_minor": 0
      },
      "text/plain": [
       "  0%|          | 0/10 [00:00<?, ?ba/s]"
      ]
     },
     "metadata": {},
     "output_type": "display_data"
    },
    {
     "data": {
      "text/plain": [
       "DatasetDict({\n",
       "    train: Dataset({\n",
       "        features: ['backtranslate', '__index_level_0__', 'input_ids', 'attention_mask'],\n",
       "        num_rows: 135390\n",
       "    })\n",
       "    validation: Dataset({\n",
       "        features: ['backtranslate', '__index_level_0__', 'input_ids', 'attention_mask'],\n",
       "        num_rows: 6648\n",
       "    })\n",
       "    test: Dataset({\n",
       "        features: ['backtranslate', '__index_level_0__', 'input_ids', 'attention_mask'],\n",
       "        num_rows: 10000\n",
       "    })\n",
       "})"
      ]
     },
     "execution_count": 57,
     "metadata": {},
     "output_type": "execute_result"
    }
   ],
   "source": [
    "ruen_toxics_tokenized = ruen_toxics.map(tokenize_data, batched=True)\n",
    "ruen_toxics_tokenized"
   ]
  },
  {
   "cell_type": "code",
   "execution_count": 58,
   "metadata": {},
   "outputs": [],
   "source": [
    "ruen_toxics_tokenized.set_format('torch')"
   ]
  },
  {
   "cell_type": "code",
   "execution_count": 59,
   "metadata": {},
   "outputs": [],
   "source": [
    "trainruenloader = DataLoader(ruen_toxics_tokenized['train'], shuffle=False, batch_size=BATCH_SIZE)\n",
    "devruenloader = DataLoader(ruen_toxics_tokenized['validation'], shuffle=False, batch_size=BATCH_SIZE)\n",
    "testruenloader = DataLoader(ruen_toxics_tokenized['test'], shuffle=False, batch_size=BATCH_SIZE)"
   ]
  },
  {
   "cell_type": "code",
   "execution_count": 60,
   "metadata": {},
   "outputs": [
    {
     "data": {
      "application/vnd.jupyter.widget-view+json": {
       "model_id": "b35b5ed9112c445f93468a77ad1bf4a1",
       "version_major": 2,
       "version_minor": 0
      },
      "text/plain": [
       "Trainset Inference:   0%|          | 0/2116 [00:00<?, ?it/s]"
      ]
     },
     "metadata": {},
     "output_type": "display_data"
    },
    {
     "data": {
      "application/vnd.jupyter.widget-view+json": {
       "model_id": "7934c6f1ef824b4bb1619e5fbea5eff3",
       "version_major": 2,
       "version_minor": 0
      },
      "text/plain": [
       "Devset Inference:   0%|          | 0/104 [00:00<?, ?it/s]"
      ]
     },
     "metadata": {},
     "output_type": "display_data"
    },
    {
     "data": {
      "application/vnd.jupyter.widget-view+json": {
       "model_id": "8a0a8d1afe784f68824974166c7680ea",
       "version_major": 2,
       "version_minor": 0
      },
      "text/plain": [
       "Testset Inference:   0%|          | 0/157 [00:00<?, ?it/s]"
      ]
     },
     "metadata": {},
     "output_type": "display_data"
    }
   ],
   "source": [
    "ruen_trainpreds = []\n",
    "ruen_devpreds = []\n",
    "ruen_testpreds = []\n",
    "\n",
    "for batch in tqdm(trainruenloader, desc='Trainset Inference'):\n",
    "    batch = {k: v.to(DEVICE) for k, v in batch.items() if k in ['input_ids', 'attention_mask']}\n",
    "    out = model(input_ids=batch['input_ids'], attention_mask=batch['attention_mask'])\n",
    "    \n",
    "    logits = out.logits.squeeze().detach().cpu()\n",
    "    probs = torch.sigmoid(logits)\n",
    "    preds = torch.argmax(probs, dim=1).numpy()    \n",
    "    \n",
    "    ruen_trainpreds.extend(preds.tolist())\n",
    "    \n",
    "\n",
    "for batch in tqdm(devruenloader, desc='Devset Inference'):\n",
    "    batch = {k: v.to(DEVICE) for k, v in batch.items() if k in ['input_ids', 'attention_mask']}\n",
    "    out = model(input_ids=batch['input_ids'], attention_mask=batch['attention_mask'])\n",
    "    \n",
    "    logits = out.logits.squeeze().detach().cpu()\n",
    "    probs = torch.sigmoid(logits)\n",
    "    preds = torch.argmax(probs, dim=1).numpy()\n",
    "    \n",
    "    ruen_devpreds.extend(preds.tolist())\n",
    "    \n",
    "\n",
    "for batch in tqdm(testruenloader, desc='Testset Inference'):\n",
    "    batch = {k: v.to(DEVICE) for k, v in batch.items() if k in ['input_ids', 'attention_mask']}\n",
    "    out = model(input_ids=batch['input_ids'], attention_mask=batch['attention_mask'])\n",
    "    \n",
    "    logits = out.logits.squeeze().detach().cpu()\n",
    "    probs = torch.sigmoid(logits)\n",
    "    preds = torch.argmax(probs, dim=1).numpy()\n",
    "    \n",
    "    ruen_testpreds.extend(preds.tolist())"
   ]
  },
  {
   "cell_type": "code",
   "execution_count": 36,
   "metadata": {},
   "outputs": [
    {
     "data": {
      "application/vnd.jupyter.widget-view+json": {
       "model_id": "afb80d6fa33d4039bea98a6453f75a0e",
       "version_major": 2,
       "version_minor": 0
      },
      "text/plain": [
       "  0%|          | 0/39 [00:00<?, ?it/s]"
      ]
     },
     "metadata": {},
     "output_type": "display_data"
    }
   ],
   "source": [
    "# devpreds = []\n",
    "\n",
    "# for batch in tqdm(devbtloader):\n",
    "#     batch = {k: v.to(DEVICE) for k, v in batch.items() if k in ['input_ids', 'attention_mask']}\n",
    "#     out = model(input_ids=batch['input_ids'], attention_mask=batch['attention_mask'])\n",
    "    \n",
    "#     logits = out.logits.squeeze().detach().cpu()\n",
    "#     probs = torch.sigmoid(logits)\n",
    "#     preds = torch.argmax(probs, dim=1).numpy()\n",
    "    \n",
    "#     devpreds.extend(preds.tolist())"
   ]
  },
  {
   "cell_type": "code",
   "execution_count": 37,
   "metadata": {},
   "outputs": [
    {
     "data": {
      "application/vnd.jupyter.widget-view+json": {
       "model_id": "bea2e00d639d430693bccb6a696f5922",
       "version_major": 2,
       "version_minor": 0
      },
      "text/plain": [
       "  0%|          | 0/58 [00:00<?, ?it/s]"
      ]
     },
     "metadata": {},
     "output_type": "display_data"
    }
   ],
   "source": [
    "# testpreds = []\n",
    "\n",
    "# for batch in tqdm(testbtloader):\n",
    "#     batch = {k: v.to(DEVICE) for k, v in batch.items() if k in ['input_ids', 'attention_mask']}\n",
    "#     out = model(input_ids=batch['input_ids'], attention_mask=batch['attention_mask'])\n",
    "    \n",
    "#     logits = out.logits.squeeze().detach().cpu()\n",
    "#     probs = torch.sigmoid(logits)\n",
    "#     preds = torch.argmax(probs, dim=1).numpy()\n",
    "    \n",
    "#     testpreds.extend(preds.tolist())"
   ]
  },
  {
   "cell_type": "code",
   "execution_count": 62,
   "metadata": {},
   "outputs": [
    {
     "name": "stderr",
     "output_type": "stream",
     "text": [
      "/opt/conda/lib/python3.7/site-packages/ipykernel_launcher.py:1: SettingWithCopyWarning: \n",
      "A value is trying to be set on a copy of a slice from a DataFrame.\n",
      "Try using .loc[row_indexer,col_indexer] = value instead\n",
      "\n",
      "See the caveats in the documentation: https://pandas.pydata.org/pandas-docs/stable/user_guide/indexing.html#returning-a-view-versus-a-copy\n",
      "  \"\"\"Entry point for launching an IPython kernel.\n"
     ]
    }
   ],
   "source": [
    "train_ruen['ruen_preds'] = ruen_trainpreds\n",
    "dev_ruen['ruen_preds'] = ruen_devpreds\n",
    "test_ruen['ruen_preds'] = ruen_testpreds"
   ]
  },
  {
   "cell_type": "code",
   "execution_count": 65,
   "metadata": {},
   "outputs": [
    {
     "data": {
      "text/html": [
       "<div>\n",
       "<style scoped>\n",
       "    .dataframe tbody tr th:only-of-type {\n",
       "        vertical-align: middle;\n",
       "    }\n",
       "\n",
       "    .dataframe tbody tr th {\n",
       "        vertical-align: top;\n",
       "    }\n",
       "\n",
       "    .dataframe thead th {\n",
       "        text-align: right;\n",
       "    }\n",
       "</style>\n",
       "<table border=\"1\" class=\"dataframe\">\n",
       "  <thead>\n",
       "    <tr style=\"text-align: right;\">\n",
       "      <th></th>\n",
       "      <th>source</th>\n",
       "      <th>translate</th>\n",
       "      <th>backtranslate</th>\n",
       "      <th>ruen_preds</th>\n",
       "    </tr>\n",
       "  </thead>\n",
       "  <tbody>\n",
       "    <tr>\n",
       "      <th>16</th>\n",
       "      <td>this dok is an embarrassment to every normal c...</td>\n",
       "      <td>Эта доска - позор для каждого нормального кана...</td>\n",
       "      <td>This board is a shame for every normal Canadian.</td>\n",
       "      <td>0</td>\n",
       "    </tr>\n",
       "    <tr>\n",
       "      <th>70</th>\n",
       "      <td>do people really wonder why the world seems so...</td>\n",
       "      <td>Неужели люди действительно удивляются, почему ...</td>\n",
       "      <td>Do people really wonder why the world seems so...</td>\n",
       "      <td>0</td>\n",
       "    </tr>\n",
       "    <tr>\n",
       "      <th>78</th>\n",
       "      <td>so move to mexico liberal loser !</td>\n",
       "      <td>Так что двигайся к либералу-мексико!</td>\n",
       "      <td>So move on to liberal mexico!</td>\n",
       "      <td>0</td>\n",
       "    </tr>\n",
       "    <tr>\n",
       "      <th>94</th>\n",
       "      <td>but with a man , off with his head !</td>\n",
       "      <td>Но с мужчиной, со своей головой!</td>\n",
       "      <td>But with a man, with his head!</td>\n",
       "      <td>0</td>\n",
       "    </tr>\n",
       "    <tr>\n",
       "      <th>104</th>\n",
       "      <td>get your own damn school and do what you want ...</td>\n",
       "      <td>Получи свою школу и делай, что хочешь, без мои...</td>\n",
       "      <td>Get your school and do whatever you want, with...</td>\n",
       "      <td>0</td>\n",
       "    </tr>\n",
       "    <tr>\n",
       "      <th>...</th>\n",
       "      <td>...</td>\n",
       "      <td>...</td>\n",
       "      <td>...</td>\n",
       "      <td>...</td>\n",
       "    </tr>\n",
       "    <tr>\n",
       "      <th>135365</th>\n",
       "      <td>muslims no worse than any other ? .</td>\n",
       "      <td>Муслимы не хуже других?</td>\n",
       "      <td>The Muslims are as good as the others?</td>\n",
       "      <td>0</td>\n",
       "    </tr>\n",
       "    <tr>\n",
       "      <th>135370</th>\n",
       "      <td>mental midgets think that the chain saw is the...</td>\n",
       "      <td>Умные карлики думают, что цепная пила - единст...</td>\n",
       "      <td>Smart dwarfs think chain saw is the only way t...</td>\n",
       "      <td>0</td>\n",
       "    </tr>\n",
       "    <tr>\n",
       "      <th>135372</th>\n",
       "      <td>a fine and fair comparison is comparing your b...</td>\n",
       "      <td>Прекрасное и справедливое сравнение - это срав...</td>\n",
       "      <td>A beautiful and fair comparison is a compariso...</td>\n",
       "      <td>0</td>\n",
       "    </tr>\n",
       "    <tr>\n",
       "      <th>135384</th>\n",
       "      <td>last but not least , it seems like of recent o...</td>\n",
       "      <td>И последнее, но не менее важное, похоже, что н...</td>\n",
       "      <td>Last but not least, it seems that our jump rec...</td>\n",
       "      <td>0</td>\n",
       "    </tr>\n",
       "    <tr>\n",
       "      <th>135388</th>\n",
       "      <td>youre nit picking details around trump and his...</td>\n",
       "      <td>Твоя хитрость, выбирая детали вокруг Трампа и ...</td>\n",
       "      <td>Your trick, choosing the details around Trump ...</td>\n",
       "      <td>0</td>\n",
       "    </tr>\n",
       "  </tbody>\n",
       "</table>\n",
       "<p>9469 rows × 4 columns</p>\n",
       "</div>"
      ],
      "text/plain": [
       "                                                   source  \\\n",
       "16      this dok is an embarrassment to every normal c...   \n",
       "70      do people really wonder why the world seems so...   \n",
       "78                      so move to mexico liberal loser !   \n",
       "94                   but with a man , off with his head !   \n",
       "104     get your own damn school and do what you want ...   \n",
       "...                                                   ...   \n",
       "135365                muslims no worse than any other ? .   \n",
       "135370  mental midgets think that the chain saw is the...   \n",
       "135372  a fine and fair comparison is comparing your b...   \n",
       "135384  last but not least , it seems like of recent o...   \n",
       "135388  youre nit picking details around trump and his...   \n",
       "\n",
       "                                                translate  \\\n",
       "16      Эта доска - позор для каждого нормального кана...   \n",
       "70      Неужели люди действительно удивляются, почему ...   \n",
       "78                   Так что двигайся к либералу-мексико!   \n",
       "94                       Но с мужчиной, со своей головой!   \n",
       "104     Получи свою школу и делай, что хочешь, без мои...   \n",
       "...                                                   ...   \n",
       "135365                            Муслимы не хуже других?   \n",
       "135370  Умные карлики думают, что цепная пила - единст...   \n",
       "135372  Прекрасное и справедливое сравнение - это срав...   \n",
       "135384  И последнее, но не менее важное, похоже, что н...   \n",
       "135388  Твоя хитрость, выбирая детали вокруг Трампа и ...   \n",
       "\n",
       "                                            backtranslate  ruen_preds  \n",
       "16       This board is a shame for every normal Canadian.           0  \n",
       "70      Do people really wonder why the world seems so...           0  \n",
       "78                          So move on to liberal mexico!           0  \n",
       "94                         But with a man, with his head!           0  \n",
       "104     Get your school and do whatever you want, with...           0  \n",
       "...                                                   ...         ...  \n",
       "135365             The Muslims are as good as the others?           0  \n",
       "135370  Smart dwarfs think chain saw is the only way t...           0  \n",
       "135372  A beautiful and fair comparison is a compariso...           0  \n",
       "135384  Last but not least, it seems that our jump rec...           0  \n",
       "135388  Your trick, choosing the details around Trump ...           0  \n",
       "\n",
       "[9469 rows x 4 columns]"
      ]
     },
     "execution_count": 65,
     "metadata": {},
     "output_type": "execute_result"
    }
   ],
   "source": [
    "train_ruen[train_ruen['ruen_preds'] == 0]"
   ]
  },
  {
   "cell_type": "code",
   "execution_count": 40,
   "metadata": {},
   "outputs": [],
   "source": [
    "def cosine_similarity(x, y):\n",
    "    return np.dot(x, y) / (np.sqrt(np.dot(x, x)) * np.sqrt(np.dot(y, y)))"
   ]
  },
  {
   "cell_type": "code",
   "execution_count": 42,
   "metadata": {},
   "outputs": [
    {
     "name": "stderr",
     "output_type": "stream",
     "text": [
      "/home/jovyan/.local/lib/python3.7/site-packages/sklearn/feature_extraction/text.py:1323: UserWarning: Upper case characters found in vocabulary while 'lowercase' is True. These entries will not be matched with any documents\n",
      "  \"Upper case characters found in\"\n",
      "/home/jovyan/.local/lib/python3.7/site-packages/sklearn/feature_extraction/text.py:1323: UserWarning: Upper case characters found in vocabulary while 'lowercase' is True. These entries will not be matched with any documents\n",
      "  \"Upper case characters found in\"\n",
      "/home/jovyan/.local/lib/python3.7/site-packages/sklearn/feature_extraction/text.py:1323: UserWarning: Upper case characters found in vocabulary while 'lowercase' is True. These entries will not be matched with any documents\n",
      "  \"Upper case characters found in\"\n",
      "/home/jovyan/.local/lib/python3.7/site-packages/sklearn/feature_extraction/text.py:1323: UserWarning: Upper case characters found in vocabulary while 'lowercase' is True. These entries will not be matched with any documents\n",
      "  \"Upper case characters found in\"\n",
      "/home/jovyan/.local/lib/python3.7/site-packages/sklearn/feature_extraction/text.py:1323: UserWarning: Upper case characters found in vocabulary while 'lowercase' is True. These entries will not be matched with any documents\n",
      "  \"Upper case characters found in\"\n",
      "/home/jovyan/.local/lib/python3.7/site-packages/sklearn/feature_extraction/text.py:1323: UserWarning: Upper case characters found in vocabulary while 'lowercase' is True. These entries will not be matched with any documents\n",
      "  \"Upper case characters found in\"\n"
     ]
    }
   ],
   "source": [
    "from sklearn.feature_extraction.text import TfidfVectorizer\n",
    "\n",
    "tfidf = TfidfVectorizer(vocabulary=tokenizer.vocab)\n",
    "train_trans_vec = tfidf.fit_transform(train_bt['backtranslate']).toarray()\n",
    "train_source_vec = tfidf.fit_transform(train_bt['source']).toarray()\n",
    "\n",
    "dev_trans_vec = tfidf.fit_transform(dev_bt['backtranslate']).toarray()\n",
    "dev_source_vec = tfidf.fit_transform(dev_bt['source']).toarray()\n",
    "\n",
    "test_trans_vec = tfidf.fit_transform(test_bt['backtranslate']).toarray()\n",
    "test_source_vec = tfidf.fit_transform(test_bt['source']).toarray()"
   ]
  },
  {
   "cell_type": "code",
   "execution_count": 43,
   "metadata": {},
   "outputs": [
    {
     "data": {
      "application/vnd.jupyter.widget-view+json": {
       "model_id": "dae38c6de32644aaa16076b0b625c6ed",
       "version_major": 2,
       "version_minor": 0
      },
      "text/plain": [
       "0it [00:00, ?it/s]"
      ]
     },
     "metadata": {},
     "output_type": "display_data"
    },
    {
     "name": "stderr",
     "output_type": "stream",
     "text": [
      "/opt/conda/lib/python3.7/site-packages/ipykernel_launcher.py:2: RuntimeWarning: invalid value encountered in double_scalars\n",
      "  \n"
     ]
    },
    {
     "data": {
      "application/vnd.jupyter.widget-view+json": {
       "model_id": "14dd6b1747d34b739681361a5ec14fae",
       "version_major": 2,
       "version_minor": 0
      },
      "text/plain": [
       "0it [00:00, ?it/s]"
      ]
     },
     "metadata": {},
     "output_type": "display_data"
    },
    {
     "data": {
      "application/vnd.jupyter.widget-view+json": {
       "model_id": "676318fea7d342a59e4e9f3970154f8d",
       "version_major": 2,
       "version_minor": 0
      },
      "text/plain": [
       "0it [00:00, ?it/s]"
      ]
     },
     "metadata": {},
     "output_type": "display_data"
    }
   ],
   "source": [
    "train_sim = []\n",
    "dev_sim = []\n",
    "test_sim = []\n",
    "\n",
    "for trans, src in tqdm(zip(train_trans_vec, train_source_vec)):\n",
    "    train_sim.append(cosine_similarity(trans, src))\n",
    "    \n",
    "for trans, src in tqdm(zip(dev_trans_vec, dev_source_vec)):\n",
    "    dev_sim.append(cosine_similarity(trans, src))\n",
    "    \n",
    "for trans, src in tqdm(zip(test_trans_vec, test_source_vec)):\n",
    "    test_sim.append(cosine_similarity(trans, src))"
   ]
  },
  {
   "cell_type": "code",
   "execution_count": 44,
   "metadata": {},
   "outputs": [],
   "source": [
    "train_bt['similarity'] = train_sim\n",
    "dev_bt['similarity'] = dev_sim\n",
    "test_bt['similarity'] = test_sim"
   ]
  },
  {
   "cell_type": "code",
   "execution_count": 45,
   "metadata": {},
   "outputs": [],
   "source": [
    "train_bt_selected = train_bt[(train_bt.bt_preds == 0) & (train_bt.similarity <= .725)]\n",
    "dev_bt_selected = dev_bt[(dev_bt.bt_preds == 0) & (dev_bt.similarity <= .725)]\n",
    "test_bt_selected = test_bt[(test_bt.bt_preds == 0) & (test_bt.similarity <= .725)]"
   ]
  },
  {
   "cell_type": "code",
   "execution_count": 47,
   "metadata": {},
   "outputs": [
    {
     "name": "stdout",
     "output_type": "stream",
     "text": [
      "<class 'pandas.core.frame.DataFrame'>\n",
      "Int64Index: 2081 entries, 40 to 3624\n",
      "Data columns (total 5 columns):\n",
      " #   Column         Non-Null Count  Dtype  \n",
      "---  ------         --------------  -----  \n",
      " 0   source         2081 non-null   object \n",
      " 1   translate      2081 non-null   object \n",
      " 2   backtranslate  2081 non-null   object \n",
      " 3   bt_preds       2081 non-null   int64  \n",
      " 4   similarity     2081 non-null   float64\n",
      "dtypes: float64(1), int64(1), object(3)\n",
      "memory usage: 97.5+ KB\n"
     ]
    }
   ],
   "source": [
    "df_paraphrase_ref = pd.concat([train_bt_selected, dev_bt_selected, test_bt_selected])\n",
    "df_paraphrase_ref.info()"
   ]
  },
  {
   "cell_type": "code",
   "execution_count": 256,
   "metadata": {},
   "outputs": [],
   "source": [
    "df_paraphrase_ref.to_csv('../data/paraphrase/paraphrase_ref.csv', sep='\\t', index=False, header=True)"
   ]
  },
  {
   "cell_type": "code",
   "execution_count": 50,
   "metadata": {},
   "outputs": [],
   "source": [
    "train_bt.to_csv('../data/paraphrase/train_prep_paraphrase.txt', sep='\\t', index=False, header=True)\n",
    "dev_bt.to_csv('../data/paraphrase/valid_prep_paraphrase.txt', sep='\\t', index=False, header=True)\n",
    "test_bt.to_csv('../data/paraphrase/test_prep_paraphrase.txt', sep='\\t', index=False, header=True)"
   ]
  },
  {
   "cell_type": "markdown",
   "metadata": {},
   "source": [
    "##### Calculate semantic similarity"
   ]
  },
  {
   "cell_type": "code",
   "execution_count": 3,
   "metadata": {},
   "outputs": [],
   "source": [
    "stmodel = SentenceTransformer('all-MiniLM-L6-v2')\n",
    "stmodel = stmodel.to(DEVICE)"
   ]
  },
  {
   "cell_type": "code",
   "execution_count": 4,
   "metadata": {},
   "outputs": [],
   "source": [
    "df_paraphrase_ref = pd.read_csv('../data/paraphrase/paraphrase_ref.csv', sep='\\t')\n",
    "train_bt = pd.read_csv('../data/paraphrase/train_prep_paraphrase.txt', sep='\\t')\n",
    "dev_bt = pd.read_csv('../data/paraphrase/valid_prep_paraphrase.txt', sep='\\t')\n",
    "test_bt = pd.read_csv('../data/paraphrase/test_prep_paraphrase.txt', sep='\\t')"
   ]
  },
  {
   "cell_type": "code",
   "execution_count": 11,
   "metadata": {},
   "outputs": [],
   "source": [
    "class SemanticDataset(Dataset):\n",
    "    def __init__(self, path, base_dir='../data/paraphrase/'):\n",
    "        \n",
    "        self.data_list = []\n",
    "        \n",
    "        self.path = os.path.join(base_dir, path)\n",
    "        \n",
    "        data = pd.read_csv(self.path, sep='\\t')\n",
    "        for row in tqdm(data.iterrows()):\n",
    "            self.data_list.append({\n",
    "                'source': row[1].source,\n",
    "                'backtrans': row[1].backtranslate\n",
    "            })\n",
    "            \n",
    "    def __len__(self):\n",
    "        return len(self.data_list)\n",
    "    \n",
    "    def __getitem__(self, item):\n",
    "        return self.data_list[item]"
   ]
  },
  {
   "cell_type": "code",
   "execution_count": 16,
   "metadata": {},
   "outputs": [
    {
     "data": {
      "application/vnd.jupyter.widget-view+json": {
       "model_id": "cab0638c1133472eb6860088bac7280c",
       "version_major": 2,
       "version_minor": 0
      },
      "text/plain": [
       "0it [00:00, ?it/s]"
      ]
     },
     "metadata": {},
     "output_type": "display_data"
    },
    {
     "data": {
      "application/vnd.jupyter.widget-view+json": {
       "model_id": "9c4ed2790d7e40988a2dd79757b81cb5",
       "version_major": 2,
       "version_minor": 0
      },
      "text/plain": [
       "0it [00:00, ?it/s]"
      ]
     },
     "metadata": {},
     "output_type": "display_data"
    },
    {
     "data": {
      "application/vnd.jupyter.widget-view+json": {
       "model_id": "61a5f55cafce4c58adfc9dcede605009",
       "version_major": 2,
       "version_minor": 0
      },
      "text/plain": [
       "0it [00:00, ?it/s]"
      ]
     },
     "metadata": {},
     "output_type": "display_data"
    }
   ],
   "source": [
    "trainbt_dataset = SemanticDataset('train_prep_paraphrase.txt')\n",
    "devbt_dataset = SemanticDataset('valid_prep_paraphrase.txt')\n",
    "testbt_dataset = SemanticDataset('test_prep_paraphrase.txt')\n",
    "\n",
    "trainbt_loader = DataLoader(trainbt_dataset, batch_size=BATCH_SIZE, shuffle=False)\n",
    "devbt_loader = DataLoader(devbt_dataset, batch_size=BATCH_SIZE, shuffle=False)\n",
    "testbt_loader = DataLoader(testbt_dataset, batch_size=BATCH_SIZE, shuffle=False)"
   ]
  },
  {
   "cell_type": "code",
   "execution_count": 21,
   "metadata": {},
   "outputs": [
    {
     "data": {
      "application/vnd.jupyter.widget-view+json": {
       "model_id": "ffb4d31d8bab4d748dd924956406dcf9",
       "version_major": 2,
       "version_minor": 0
      },
      "text/plain": [
       "  0%|          | 0/782 [00:00<?, ?it/s]"
      ]
     },
     "metadata": {},
     "output_type": "display_data"
    }
   ],
   "source": [
    "train_stsim = []\n",
    "\n",
    "for batch in tqdm(trainbt_loader):\n",
    "    source = batch['source']\n",
    "    backtrans = batch['backtrans']\n",
    "    src_embed = stmodel.encode(source, convert_to_tensor=True)\n",
    "    bts_embed = stmodel.encode(backtrans, convert_to_tensor=True)\n",
    "    scores = util.cos_sim(src_embed, bts_embed)\n",
    "    \n",
    "    for i in range(len(source)):\n",
    "        train_stsim.append(scores[i][i].item())\n",
    "        \n",
    "    torch.cuda.empty_cache()\n",
    "    del src_embed\n",
    "    del bts_embed"
   ]
  },
  {
   "cell_type": "code",
   "execution_count": 27,
   "metadata": {},
   "outputs": [
    {
     "data": {
      "application/vnd.jupyter.widget-view+json": {
       "model_id": "741fcce9d70a40e7b180dc357f4fa8d4",
       "version_major": 2,
       "version_minor": 0
      },
      "text/plain": [
       "  0%|          | 0/39 [00:00<?, ?it/s]"
      ]
     },
     "metadata": {},
     "output_type": "display_data"
    }
   ],
   "source": [
    "dev_stsim = []\n",
    "\n",
    "for batch in tqdm(devbt_loader):\n",
    "    source = batch['source']\n",
    "    backtrans = batch['backtrans']\n",
    "    src_embed = stmodel.encode(source, convert_to_tensor=True)\n",
    "    bts_embed = stmodel.encode(backtrans, convert_to_tensor=True)\n",
    "    scores = util.cos_sim(src_embed, bts_embed)\n",
    "    \n",
    "    for i in range(len(source)):\n",
    "        dev_stsim.append(scores[i][i].item())\n",
    "        \n",
    "    torch.cuda.empty_cache()\n",
    "    del src_embed\n",
    "    del bts_embed"
   ]
  },
  {
   "cell_type": "code",
   "execution_count": 28,
   "metadata": {},
   "outputs": [
    {
     "data": {
      "application/vnd.jupyter.widget-view+json": {
       "model_id": "2e312a9270024cf48c53d81236e2189b",
       "version_major": 2,
       "version_minor": 0
      },
      "text/plain": [
       "  0%|          | 0/58 [00:00<?, ?it/s]"
      ]
     },
     "metadata": {},
     "output_type": "display_data"
    }
   ],
   "source": [
    "test_stsim = []\n",
    "\n",
    "for batch in tqdm(testbt_loader):\n",
    "    source = batch['source']\n",
    "    backtrans = batch['backtrans']\n",
    "    src_embed = stmodel.encode(source, convert_to_tensor=True)\n",
    "    bts_embed = stmodel.encode(backtrans, convert_to_tensor=True)\n",
    "    scores = util.cos_sim(src_embed, bts_embed)\n",
    "    \n",
    "    for i in range(len(source)):\n",
    "        test_stsim.append(scores[i][i].item())\n",
    "        \n",
    "    torch.cuda.empty_cache()\n",
    "    del src_embed\n",
    "    del bts_embed"
   ]
  },
  {
   "cell_type": "code",
   "execution_count": 32,
   "metadata": {},
   "outputs": [],
   "source": [
    "train_bt['sem_similarity'] = train_stsim\n",
    "dev_bt['sem_similarity'] = dev_stsim\n",
    "test_bt['sem_similarity'] = test_stsim"
   ]
  },
  {
   "cell_type": "code",
   "execution_count": 33,
   "metadata": {},
   "outputs": [
    {
     "data": {
      "text/html": [
       "<div>\n",
       "<style scoped>\n",
       "    .dataframe tbody tr th:only-of-type {\n",
       "        vertical-align: middle;\n",
       "    }\n",
       "\n",
       "    .dataframe tbody tr th {\n",
       "        vertical-align: top;\n",
       "    }\n",
       "\n",
       "    .dataframe thead th {\n",
       "        text-align: right;\n",
       "    }\n",
       "</style>\n",
       "<table border=\"1\" class=\"dataframe\">\n",
       "  <thead>\n",
       "    <tr style=\"text-align: right;\">\n",
       "      <th></th>\n",
       "      <th>source</th>\n",
       "      <th>translate</th>\n",
       "      <th>backtranslate</th>\n",
       "      <th>bt_preds</th>\n",
       "      <th>similarity</th>\n",
       "      <th>sem_similarity</th>\n",
       "    </tr>\n",
       "  </thead>\n",
       "  <tbody>\n",
       "    <tr>\n",
       "      <th>0</th>\n",
       "      <td>take your admin powers and stick them up your ...</td>\n",
       "      <td>Бери свои административные способности и засун...</td>\n",
       "      <td>Take your administrative skills and shove them...</td>\n",
       "      <td>1</td>\n",
       "      <td>0.654044</td>\n",
       "      <td>0.797628</td>\n",
       "    </tr>\n",
       "    <tr>\n",
       "      <th>1</th>\n",
       "      <td>you just made a fool of yourself .</td>\n",
       "      <td>Ты только что выставил себя дураком.</td>\n",
       "      <td>You just made a fool of yourself.</td>\n",
       "      <td>1</td>\n",
       "      <td>0.999817</td>\n",
       "      <td>1.000000</td>\n",
       "    </tr>\n",
       "    <tr>\n",
       "      <th>2</th>\n",
       "      <td>this animal killer is paying his share .</td>\n",
       "      <td>Этот зверь-убийца платит свою долю.</td>\n",
       "      <td>This killer animal is paying its share.</td>\n",
       "      <td>1</td>\n",
       "      <td>0.903200</td>\n",
       "      <td>0.950419</td>\n",
       "    </tr>\n",
       "    <tr>\n",
       "      <th>3</th>\n",
       "      <td>so you voted for the loser ?</td>\n",
       "      <td>Значит, вы проголосовали за неудачника?</td>\n",
       "      <td>So you voted for the loser?</td>\n",
       "      <td>1</td>\n",
       "      <td>0.999822</td>\n",
       "      <td>1.000000</td>\n",
       "    </tr>\n",
       "    <tr>\n",
       "      <th>4</th>\n",
       "      <td>, but we would not expect a bias lib troll lik...</td>\n",
       "      <td>, но мы бы не ожидали, что такой пристрастный ...</td>\n",
       "      <td>but we wouldn't expect a biased troll like you...</td>\n",
       "      <td>1</td>\n",
       "      <td>0.425269</td>\n",
       "      <td>0.828127</td>\n",
       "    </tr>\n",
       "  </tbody>\n",
       "</table>\n",
       "</div>"
      ],
      "text/plain": [
       "                                              source  \\\n",
       "0  take your admin powers and stick them up your ...   \n",
       "1                 you just made a fool of yourself .   \n",
       "2           this animal killer is paying his share .   \n",
       "3                       so you voted for the loser ?   \n",
       "4  , but we would not expect a bias lib troll lik...   \n",
       "\n",
       "                                           translate  \\\n",
       "0  Бери свои административные способности и засун...   \n",
       "1               Ты только что выставил себя дураком.   \n",
       "2                Этот зверь-убийца платит свою долю.   \n",
       "3            Значит, вы проголосовали за неудачника?   \n",
       "4  , но мы бы не ожидали, что такой пристрастный ...   \n",
       "\n",
       "                                       backtranslate  bt_preds  similarity  \\\n",
       "0  Take your administrative skills and shove them...         1    0.654044   \n",
       "1                  You just made a fool of yourself.         1    0.999817   \n",
       "2            This killer animal is paying its share.         1    0.903200   \n",
       "3                        So you voted for the loser?         1    0.999822   \n",
       "4  but we wouldn't expect a biased troll like you...         1    0.425269   \n",
       "\n",
       "   sem_similarity  \n",
       "0        0.797628  \n",
       "1        1.000000  \n",
       "2        0.950419  \n",
       "3        1.000000  \n",
       "4        0.828127  "
      ]
     },
     "execution_count": 33,
     "metadata": {},
     "output_type": "execute_result"
    }
   ],
   "source": [
    "train_bt.head()"
   ]
  },
  {
   "cell_type": "code",
   "execution_count": 61,
   "metadata": {},
   "outputs": [],
   "source": [
    "train_bt_selected = train_bt[(train_bt.bt_preds == 0) & (train_bt.sem_similarity < 0.48)]\n",
    "dev_bt_selected = dev_bt[(dev_bt.bt_preds == 0)]\n",
    "test_bt_selected = test_bt[(test_bt.bt_preds == 0)]"
   ]
  },
  {
   "cell_type": "code",
   "execution_count": 56,
   "metadata": {},
   "outputs": [
    {
     "name": "stdout",
     "output_type": "stream",
     "text": [
      "<class 'pandas.core.frame.DataFrame'>\n",
      "Int64Index: 3233 entries, 6 to 3624\n",
      "Data columns (total 6 columns):\n",
      " #   Column          Non-Null Count  Dtype  \n",
      "---  ------          --------------  -----  \n",
      " 0   source          3233 non-null   object \n",
      " 1   translate       3233 non-null   object \n",
      " 2   backtranslate   3233 non-null   object \n",
      " 3   bt_preds        3233 non-null   int64  \n",
      " 4   similarity      3206 non-null   float64\n",
      " 5   sem_similarity  3233 non-null   float64\n",
      "dtypes: float64(2), int64(1), object(3)\n",
      "memory usage: 176.8+ KB\n"
     ]
    }
   ],
   "source": [
    "df_paraphrase_ref = pd.concat([train_bt_selected, dev_bt_selected, test_bt_selected])\n",
    "df_paraphrase_ref.info()"
   ]
  },
  {
   "cell_type": "code",
   "execution_count": 60,
   "metadata": {},
   "outputs": [
    {
     "data": {
      "text/html": [
       "<div>\n",
       "<style scoped>\n",
       "    .dataframe tbody tr th:only-of-type {\n",
       "        vertical-align: middle;\n",
       "    }\n",
       "\n",
       "    .dataframe tbody tr th {\n",
       "        vertical-align: top;\n",
       "    }\n",
       "\n",
       "    .dataframe thead th {\n",
       "        text-align: right;\n",
       "    }\n",
       "</style>\n",
       "<table border=\"1\" class=\"dataframe\">\n",
       "  <thead>\n",
       "    <tr style=\"text-align: right;\">\n",
       "      <th></th>\n",
       "      <th>source</th>\n",
       "      <th>translate</th>\n",
       "      <th>backtranslate</th>\n",
       "      <th>bt_preds</th>\n",
       "      <th>similarity</th>\n",
       "      <th>sem_similarity</th>\n",
       "    </tr>\n",
       "  </thead>\n",
       "  <tbody>\n",
       "    <tr>\n",
       "      <th>633</th>\n",
       "      <td>obama has defecated on israel repeatedly .</td>\n",
       "      <td>Обама неоднократно обезвоживала Израэля.</td>\n",
       "      <td>Obama dehydrated Israel repeatedly.</td>\n",
       "      <td>0</td>\n",
       "      <td>NaN</td>\n",
       "      <td>0.716210</td>\n",
       "    </tr>\n",
       "    <tr>\n",
       "      <th>830</th>\n",
       "      <td>bla bla bla you can spin yourself stupid all y...</td>\n",
       "      <td>Бла-бла-бла, ты можешь крутить себя глупо, ско...</td>\n",
       "      <td>Blah, blah, blah, blah, blah, blah, blah, blah...</td>\n",
       "      <td>0</td>\n",
       "      <td>NaN</td>\n",
       "      <td>0.244442</td>\n",
       "    </tr>\n",
       "    <tr>\n",
       "      <th>1216</th>\n",
       "      <td>waah screams the butthurt commie loser !</td>\n",
       "      <td>Ваа кричит задница, музыка-неудачник!</td>\n",
       "      <td>Whoa, whoa, whoa, whoa, whoa, whoa, whoa, whoa...</td>\n",
       "      <td>0</td>\n",
       "      <td>NaN</td>\n",
       "      <td>0.228463</td>\n",
       "    </tr>\n",
       "    <tr>\n",
       "      <th>1744</th>\n",
       "      <td>ive had it up to here with idiots who want poo...</td>\n",
       "      <td>.................................................</td>\n",
       "      <td>.................................................</td>\n",
       "      <td>0</td>\n",
       "      <td>NaN</td>\n",
       "      <td>0.138859</td>\n",
       "    </tr>\n",
       "    <tr>\n",
       "      <th>6501</th>\n",
       "      <td>paul martin , stephen harper , brian mulroney ...</td>\n",
       "      <td>Пол Мартин, Стефен Харпер, Брайан Мулрони (он ...</td>\n",
       "      <td>Paul Martin, Stephen Harper, Brian Mulroni.</td>\n",
       "      <td>0</td>\n",
       "      <td>NaN</td>\n",
       "      <td>0.813203</td>\n",
       "    </tr>\n",
       "    <tr>\n",
       "      <th>6745</th>\n",
       "      <td>muslim ban rejected by DIGIT ororfederal court...</td>\n",
       "      <td>)................................................</td>\n",
       "      <td>(i.e. )</td>\n",
       "      <td>0</td>\n",
       "      <td>NaN</td>\n",
       "      <td>0.066378</td>\n",
       "    </tr>\n",
       "    <tr>\n",
       "      <th>8084</th>\n",
       "      <td>recycled , retread , useless lifers .</td>\n",
       "      <td>Рециркуляция, восстановление протектора, беспо...</td>\n",
       "      <td>Recirculation, retreading, useless life-saving...</td>\n",
       "      <td>0</td>\n",
       "      <td>NaN</td>\n",
       "      <td>0.617553</td>\n",
       "    </tr>\n",
       "    <tr>\n",
       "      <th>10520</th>\n",
       "      <td>slang a man who is unpleasant or not to be tru...</td>\n",
       "      <td>:................................................</td>\n",
       "      <td>:...............................</td>\n",
       "      <td>0</td>\n",
       "      <td>NaN</td>\n",
       "      <td>0.097186</td>\n",
       "    </tr>\n",
       "    <tr>\n",
       "      <th>11426</th>\n",
       "      <td>ulysses simpson grant , the drunkard !</td>\n",
       "      <td>Улисс Симпсон Грант, пьяница!</td>\n",
       "      <td>Ulysses Simpson Grant, drunk!</td>\n",
       "      <td>0</td>\n",
       "      <td>NaN</td>\n",
       "      <td>0.933305</td>\n",
       "    </tr>\n",
       "    <tr>\n",
       "      <th>11873</th>\n",
       "      <td>i dont refute unhinged blather .</td>\n",
       "      <td>Я не опровергаю бессердечный блейтер.</td>\n",
       "      <td>I'm not denying a heartless blather.</td>\n",
       "      <td>0</td>\n",
       "      <td>NaN</td>\n",
       "      <td>0.646244</td>\n",
       "    </tr>\n",
       "    <tr>\n",
       "      <th>16273</th>\n",
       "      <td>i recommend the firing squad .</td>\n",
       "      <td>Я рекомендую расстрел.</td>\n",
       "      <td>I recommend a shotgun.</td>\n",
       "      <td>0</td>\n",
       "      <td>NaN</td>\n",
       "      <td>0.568303</td>\n",
       "    </tr>\n",
       "    <tr>\n",
       "      <th>17563</th>\n",
       "      <td>a truly unfit traitorous vacuous buffoon .</td>\n",
       "      <td>По-настоящему неподходящее предательское безде...</td>\n",
       "      <td>It's a really bad treachery.</td>\n",
       "      <td>0</td>\n",
       "      <td>NaN</td>\n",
       "      <td>0.193665</td>\n",
       "    </tr>\n",
       "    <tr>\n",
       "      <th>19603</th>\n",
       "      <td>sjws dont care about middleaged white males ki...</td>\n",
       "      <td>:................................................</td>\n",
       "      <td>::...............................................</td>\n",
       "      <td>0</td>\n",
       "      <td>NaN</td>\n",
       "      <td>0.049640</td>\n",
       "    </tr>\n",
       "    <tr>\n",
       "      <th>21331</th>\n",
       "      <td>hehehehehehehehehehheheheehehehehehehehehehehe...</td>\n",
       "      <td>Эхехехехехехехехехехехехехехехехехехехехехехех...</td>\n",
       "      <td>Eheheheheheheheheheheheheheheheheheheheheheheh...</td>\n",
       "      <td>0</td>\n",
       "      <td>NaN</td>\n",
       "      <td>0.222502</td>\n",
       "    </tr>\n",
       "    <tr>\n",
       "      <th>21524</th>\n",
       "      <td>waah says the commie troll !</td>\n",
       "      <td>Ваа говорит, что тролль коммии!</td>\n",
       "      <td>Whoa, whoa, whoa, whoa, whoa, whoa, whoa, whoa...</td>\n",
       "      <td>0</td>\n",
       "      <td>NaN</td>\n",
       "      <td>0.168467</td>\n",
       "    </tr>\n",
       "    <tr>\n",
       "      <th>22544</th>\n",
       "      <td>wow you ppl are fucked up .</td>\n",
       "      <td>Ух ты, ты, пиздец, пиздец.</td>\n",
       "      <td>Whoa, whoa, whoa, whoa, whoa, whoa.</td>\n",
       "      <td>0</td>\n",
       "      <td>NaN</td>\n",
       "      <td>0.072579</td>\n",
       "    </tr>\n",
       "    <tr>\n",
       "      <th>24116</th>\n",
       "      <td>( reinsert thumb , suck ) )</td>\n",
       "      <td>(Вставить большой палец, отсос)</td>\n",
       "      <td>(Add thumb, suction)</td>\n",
       "      <td>0</td>\n",
       "      <td>NaN</td>\n",
       "      <td>0.646852</td>\n",
       "    </tr>\n",
       "    <tr>\n",
       "      <th>33854</th>\n",
       "      <td>frozen sucksvfrozen sucksfrozen sucksfrozen su...</td>\n",
       "      <td>замороженный отсос замороженный отсос замороже...</td>\n",
       "      <td>Frozen suction, frozen suction, frozen suction...</td>\n",
       "      <td>0</td>\n",
       "      <td>NaN</td>\n",
       "      <td>0.401727</td>\n",
       "    </tr>\n",
       "    <tr>\n",
       "      <th>36449</th>\n",
       "      <td>lol u r prolly an orc to .</td>\n",
       "      <td>lol u rolly orc to.</td>\n",
       "      <td>:: :: ::.........................................</td>\n",
       "      <td>0</td>\n",
       "      <td>NaN</td>\n",
       "      <td>0.228463</td>\n",
       "    </tr>\n",
       "    <tr>\n",
       "      <th>36795</th>\n",
       "      <td>agreed , this article is a complete heap of ru...</td>\n",
       "      <td>,,,,,,,..........................................</td>\n",
       "      <td>,,,,,,,,,,....................................</td>\n",
       "      <td>0</td>\n",
       "      <td>NaN</td>\n",
       "      <td>0.089427</td>\n",
       "    </tr>\n",
       "    <tr>\n",
       "      <th>40065</th>\n",
       "      <td>waah said the commie troll !</td>\n",
       "      <td>Вааа сказал, что тролль коммии!</td>\n",
       "      <td>Whoa, whoa, whoa, whoa, whoa, whoa, whoa, whoa...</td>\n",
       "      <td>0</td>\n",
       "      <td>NaN</td>\n",
       "      <td>0.151068</td>\n",
       "    </tr>\n",
       "    <tr>\n",
       "      <th>42965</th>\n",
       "      <td>frozen sucksfrozen sucksfrozen sucksfrozen suc...</td>\n",
       "      <td>замороженный отсос замороженный отстой заморож...</td>\n",
       "      <td>Frozen suction, frozen muck, frozen muck.</td>\n",
       "      <td>0</td>\n",
       "      <td>NaN</td>\n",
       "      <td>0.460727</td>\n",
       "    </tr>\n",
       "    <tr>\n",
       "      <th>45749</th>\n",
       "      <td>ahh , crony cap oily thugs .</td>\n",
       "      <td>аххххххххххххххххххххххммммммммммхммммхммммхмм...</td>\n",
       "      <td>Ahhhhhhhhhhhhhhhhhhhhhhhhhhhhhhhhhhhhhhhhhhhhh...</td>\n",
       "      <td>0</td>\n",
       "      <td>NaN</td>\n",
       "      <td>0.083873</td>\n",
       "    </tr>\n",
       "    <tr>\n",
       "      <th>2388</th>\n",
       "      <td>trump as putins lapdog : .</td>\n",
       "      <td>:................................................</td>\n",
       "      <td>::...............................................</td>\n",
       "      <td>0</td>\n",
       "      <td>NaN</td>\n",
       "      <td>0.096918</td>\n",
       "    </tr>\n",
       "    <tr>\n",
       "      <th>484</th>\n",
       "      <td>the donaldson bunt , ridiculous .</td>\n",
       "      <td>Дональдсонский койчок, смешной.</td>\n",
       "      <td>Donaldson bunk, funny.</td>\n",
       "      <td>0</td>\n",
       "      <td>NaN</td>\n",
       "      <td>0.702250</td>\n",
       "    </tr>\n",
       "    <tr>\n",
       "      <th>2009</th>\n",
       "      <td>blah blah blah fck you .</td>\n",
       "      <td>Бла-бла-бла-бла-бла-бла-бла-бла-бла-бла-бла-бл...</td>\n",
       "      <td>Blah, blah, blah, blah, blah, blah, blah, blah...</td>\n",
       "      <td>0</td>\n",
       "      <td>NaN</td>\n",
       "      <td>0.418862</td>\n",
       "    </tr>\n",
       "    <tr>\n",
       "      <th>3472</th>\n",
       "      <td>: : : : fuck .</td>\n",
       "      <td>:: : : : : : : : : : : :.........................</td>\n",
       "      <td>:: :: :: :: ::...</td>\n",
       "      <td>0</td>\n",
       "      <td>NaN</td>\n",
       "      <td>0.474578</td>\n",
       "    </tr>\n",
       "  </tbody>\n",
       "</table>\n",
       "</div>"
      ],
      "text/plain": [
       "                                                  source  \\\n",
       "633           obama has defecated on israel repeatedly .   \n",
       "830    bla bla bla you can spin yourself stupid all y...   \n",
       "1216            waah screams the butthurt commie loser !   \n",
       "1744   ive had it up to here with idiots who want poo...   \n",
       "6501   paul martin , stephen harper , brian mulroney ...   \n",
       "6745   muslim ban rejected by DIGIT ororfederal court...   \n",
       "8084               recycled , retread , useless lifers .   \n",
       "10520  slang a man who is unpleasant or not to be tru...   \n",
       "11426             ulysses simpson grant , the drunkard !   \n",
       "11873                   i dont refute unhinged blather .   \n",
       "16273                     i recommend the firing squad .   \n",
       "17563         a truly unfit traitorous vacuous buffoon .   \n",
       "19603  sjws dont care about middleaged white males ki...   \n",
       "21331  hehehehehehehehehehheheheehehehehehehehehehehe...   \n",
       "21524                       waah says the commie troll !   \n",
       "22544                        wow you ppl are fucked up .   \n",
       "24116                        ( reinsert thumb , suck ) )   \n",
       "33854  frozen sucksvfrozen sucksfrozen sucksfrozen su...   \n",
       "36449                         lol u r prolly an orc to .   \n",
       "36795  agreed , this article is a complete heap of ru...   \n",
       "40065                       waah said the commie troll !   \n",
       "42965  frozen sucksfrozen sucksfrozen sucksfrozen suc...   \n",
       "45749                       ahh , crony cap oily thugs .   \n",
       "2388                          trump as putins lapdog : .   \n",
       "484                    the donaldson bunt , ridiculous .   \n",
       "2009                            blah blah blah fck you .   \n",
       "3472                                      : : : : fuck .   \n",
       "\n",
       "                                               translate  \\\n",
       "633             Обама неоднократно обезвоживала Израэля.   \n",
       "830    Бла-бла-бла, ты можешь крутить себя глупо, ско...   \n",
       "1216               Ваа кричит задница, музыка-неудачник!   \n",
       "1744   .................................................   \n",
       "6501   Пол Мартин, Стефен Харпер, Брайан Мулрони (он ...   \n",
       "6745   )................................................   \n",
       "8084   Рециркуляция, восстановление протектора, беспо...   \n",
       "10520  :................................................   \n",
       "11426                      Улисс Симпсон Грант, пьяница!   \n",
       "11873              Я не опровергаю бессердечный блейтер.   \n",
       "16273                             Я рекомендую расстрел.   \n",
       "17563  По-настоящему неподходящее предательское безде...   \n",
       "19603  :................................................   \n",
       "21331  Эхехехехехехехехехехехехехехехехехехехехехехех...   \n",
       "21524                    Ваа говорит, что тролль коммии!   \n",
       "22544                         Ух ты, ты, пиздец, пиздец.   \n",
       "24116                    (Вставить большой палец, отсос)   \n",
       "33854  замороженный отсос замороженный отсос замороже...   \n",
       "36449                                lol u rolly orc to.   \n",
       "36795  ,,,,,,,..........................................   \n",
       "40065                    Вааа сказал, что тролль коммии!   \n",
       "42965  замороженный отсос замороженный отстой заморож...   \n",
       "45749  аххххххххххххххххххххххммммммммммхммммхммммхмм...   \n",
       "2388   :................................................   \n",
       "484                      Дональдсонский койчок, смешной.   \n",
       "2009   Бла-бла-бла-бла-бла-бла-бла-бла-бла-бла-бла-бл...   \n",
       "3472   :: : : : : : : : : : : :.........................   \n",
       "\n",
       "                                           backtranslate  bt_preds  \\\n",
       "633                  Obama dehydrated Israel repeatedly.         0   \n",
       "830    Blah, blah, blah, blah, blah, blah, blah, blah...         0   \n",
       "1216   Whoa, whoa, whoa, whoa, whoa, whoa, whoa, whoa...         0   \n",
       "1744   .................................................         0   \n",
       "6501         Paul Martin, Stephen Harper, Brian Mulroni.         0   \n",
       "6745                                             (i.e. )         0   \n",
       "8084   Recirculation, retreading, useless life-saving...         0   \n",
       "10520                   :...............................         0   \n",
       "11426                      Ulysses Simpson Grant, drunk!         0   \n",
       "11873               I'm not denying a heartless blather.         0   \n",
       "16273                             I recommend a shotgun.         0   \n",
       "17563                       It's a really bad treachery.         0   \n",
       "19603  ::...............................................         0   \n",
       "21331  Eheheheheheheheheheheheheheheheheheheheheheheh...         0   \n",
       "21524  Whoa, whoa, whoa, whoa, whoa, whoa, whoa, whoa...         0   \n",
       "22544                Whoa, whoa, whoa, whoa, whoa, whoa.         0   \n",
       "24116                               (Add thumb, suction)         0   \n",
       "33854  Frozen suction, frozen suction, frozen suction...         0   \n",
       "36449  :: :: ::.........................................         0   \n",
       "36795     ,,,,,,,,,,....................................         0   \n",
       "40065  Whoa, whoa, whoa, whoa, whoa, whoa, whoa, whoa...         0   \n",
       "42965          Frozen suction, frozen muck, frozen muck.         0   \n",
       "45749  Ahhhhhhhhhhhhhhhhhhhhhhhhhhhhhhhhhhhhhhhhhhhhh...         0   \n",
       "2388   ::...............................................         0   \n",
       "484                               Donaldson bunk, funny.         0   \n",
       "2009   Blah, blah, blah, blah, blah, blah, blah, blah...         0   \n",
       "3472                                   :: :: :: :: ::...         0   \n",
       "\n",
       "       similarity  sem_similarity  \n",
       "633           NaN        0.716210  \n",
       "830           NaN        0.244442  \n",
       "1216          NaN        0.228463  \n",
       "1744          NaN        0.138859  \n",
       "6501          NaN        0.813203  \n",
       "6745          NaN        0.066378  \n",
       "8084          NaN        0.617553  \n",
       "10520         NaN        0.097186  \n",
       "11426         NaN        0.933305  \n",
       "11873         NaN        0.646244  \n",
       "16273         NaN        0.568303  \n",
       "17563         NaN        0.193665  \n",
       "19603         NaN        0.049640  \n",
       "21331         NaN        0.222502  \n",
       "21524         NaN        0.168467  \n",
       "22544         NaN        0.072579  \n",
       "24116         NaN        0.646852  \n",
       "33854         NaN        0.401727  \n",
       "36449         NaN        0.228463  \n",
       "36795         NaN        0.089427  \n",
       "40065         NaN        0.151068  \n",
       "42965         NaN        0.460727  \n",
       "45749         NaN        0.083873  \n",
       "2388          NaN        0.096918  \n",
       "484           NaN        0.702250  \n",
       "2009          NaN        0.418862  \n",
       "3472          NaN        0.474578  "
      ]
     },
     "execution_count": 60,
     "metadata": {},
     "output_type": "execute_result"
    }
   ],
   "source": [
    "df_paraphrase_ref[df_paraphrase_ref['similarity'].isnull()]"
   ]
  }
 ],
 "metadata": {
  "kernelspec": {
   "display_name": "Python 3",
   "language": "python",
   "name": "python3"
  },
  "language_info": {
   "codemirror_mode": {
    "name": "ipython",
    "version": 3
   },
   "file_extension": ".py",
   "mimetype": "text/x-python",
   "name": "python",
   "nbconvert_exporter": "python",
   "pygments_lexer": "ipython3",
   "version": "3.7.9"
  }
 },
 "nbformat": 4,
 "nbformat_minor": 4
}
